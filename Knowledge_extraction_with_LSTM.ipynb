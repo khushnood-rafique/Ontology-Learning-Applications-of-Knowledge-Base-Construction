{
  "nbformat": 4,
  "nbformat_minor": 0,
  "metadata": {
    "colab": {
      "provenance": [],
      "collapsed_sections": [
        "z5lww6njBC8c",
        "YpzRqoifLZ4i",
        "VbMFrmkrQkA5",
        "yJ6ItHY1MJIi",
        "mBIGnDM-MbOS"
      ]
    },
    "kernelspec": {
      "name": "python3",
      "display_name": "Python 3"
    },
    "language_info": {
      "name": "python"
    },
    "gpuClass": "standard"
  },
  "cells": [
    {
      "cell_type": "markdown",
      "source": [
        "# KBC Construction with NER\n",
        "\n",
        "Code adapted from: https://www.depends-on-the-definition.com/guide-sequence-tagging-neural-networks-python/"
      ],
      "metadata": {
        "id": "nm1NvJRicUlY"
      }
    },
    {
      "cell_type": "code",
      "execution_count": null,
      "metadata": {
        "id": "DLAmnzM0JJ-p"
      },
      "outputs": [],
      "source": [
        "%matplotlib inline\n",
        "import matplotlib.pyplot as plt\n",
        "import pandas as pd\n",
        "import numpy as np\n",
        "np.random.seed(0)\n",
        "plt.style.use(\"ggplot\")\n",
        "import tensorflow as tf\n",
        "import pickle\n",
        "from tensorflow.keras.preprocessing.sequence import pad_sequences\n",
        "from tensorflow.keras.utils import to_categorical\n",
        "from sklearn.model_selection import train_test_split"
      ]
    },
    {
      "cell_type": "code",
      "source": [
        "from google.colab import drive\n",
        "drive.mount('drive')"
      ],
      "metadata": {
        "id": "DJelX0Z9SHXi"
      },
      "execution_count": null,
      "outputs": []
    },
    {
      "cell_type": "markdown",
      "source": [
        "### Load and Explore the NER Dataset"
      ],
      "metadata": {
        "id": "Dqqifs1xJYKy"
      }
    },
    {
      "cell_type": "code",
      "source": [
        "data = pd.read_csv('combined_data_v8.csv')\n",
        "data = data.fillna(method = 'ffill')"
      ],
      "metadata": {
        "id": "1EGIormHJb5K"
      },
      "execution_count": null,
      "outputs": []
    },
    {
      "cell_type": "code",
      "source": [
        "print(\"What the dataset looks like:\")\n",
        "data.head(10)"
      ],
      "metadata": {
        "id": "k_lp6FGzJps6",
        "colab": {
          "base_uri": "https://localhost:8080/",
          "height": 381
        },
        "outputId": "ee517b20-c5a8-4bd9-89ec-674faf88ada9"
      },
      "execution_count": null,
      "outputs": [
        {
          "output_type": "stream",
          "name": "stdout",
          "text": [
            "What the dataset looks like:\n"
          ]
        },
        {
          "output_type": "execute_result",
          "data": {
            "text/plain": [
              "   Sentence #        Word    POS Agila_DB_tag\n",
              "0           1           A    DET            O\n",
              "1           1     central    ADJ        B-hwp\n",
              "2           1  processing   NOUN        I-hwp\n",
              "3           1        unit   NOUN        I-hwp\n",
              "4           1           (  PUNCT            O\n",
              "5           1         CPU  PROPN        B-hwp\n",
              "6           1           )  PUNCT            O\n",
              "7           1           ,  PUNCT            O\n",
              "8           1        also    ADV            O\n",
              "9           1      called   VERB            O"
            ],
            "text/html": [
              "\n",
              "  <div id=\"df-ab50c760-f1c5-4c9a-a5c3-1c2e389fdd3a\">\n",
              "    <div class=\"colab-df-container\">\n",
              "      <div>\n",
              "<style scoped>\n",
              "    .dataframe tbody tr th:only-of-type {\n",
              "        vertical-align: middle;\n",
              "    }\n",
              "\n",
              "    .dataframe tbody tr th {\n",
              "        vertical-align: top;\n",
              "    }\n",
              "\n",
              "    .dataframe thead th {\n",
              "        text-align: right;\n",
              "    }\n",
              "</style>\n",
              "<table border=\"1\" class=\"dataframe\">\n",
              "  <thead>\n",
              "    <tr style=\"text-align: right;\">\n",
              "      <th></th>\n",
              "      <th>Sentence #</th>\n",
              "      <th>Word</th>\n",
              "      <th>POS</th>\n",
              "      <th>Agila_DB_tag</th>\n",
              "    </tr>\n",
              "  </thead>\n",
              "  <tbody>\n",
              "    <tr>\n",
              "      <th>0</th>\n",
              "      <td>1</td>\n",
              "      <td>A</td>\n",
              "      <td>DET</td>\n",
              "      <td>O</td>\n",
              "    </tr>\n",
              "    <tr>\n",
              "      <th>1</th>\n",
              "      <td>1</td>\n",
              "      <td>central</td>\n",
              "      <td>ADJ</td>\n",
              "      <td>B-hwp</td>\n",
              "    </tr>\n",
              "    <tr>\n",
              "      <th>2</th>\n",
              "      <td>1</td>\n",
              "      <td>processing</td>\n",
              "      <td>NOUN</td>\n",
              "      <td>I-hwp</td>\n",
              "    </tr>\n",
              "    <tr>\n",
              "      <th>3</th>\n",
              "      <td>1</td>\n",
              "      <td>unit</td>\n",
              "      <td>NOUN</td>\n",
              "      <td>I-hwp</td>\n",
              "    </tr>\n",
              "    <tr>\n",
              "      <th>4</th>\n",
              "      <td>1</td>\n",
              "      <td>(</td>\n",
              "      <td>PUNCT</td>\n",
              "      <td>O</td>\n",
              "    </tr>\n",
              "    <tr>\n",
              "      <th>5</th>\n",
              "      <td>1</td>\n",
              "      <td>CPU</td>\n",
              "      <td>PROPN</td>\n",
              "      <td>B-hwp</td>\n",
              "    </tr>\n",
              "    <tr>\n",
              "      <th>6</th>\n",
              "      <td>1</td>\n",
              "      <td>)</td>\n",
              "      <td>PUNCT</td>\n",
              "      <td>O</td>\n",
              "    </tr>\n",
              "    <tr>\n",
              "      <th>7</th>\n",
              "      <td>1</td>\n",
              "      <td>,</td>\n",
              "      <td>PUNCT</td>\n",
              "      <td>O</td>\n",
              "    </tr>\n",
              "    <tr>\n",
              "      <th>8</th>\n",
              "      <td>1</td>\n",
              "      <td>also</td>\n",
              "      <td>ADV</td>\n",
              "      <td>O</td>\n",
              "    </tr>\n",
              "    <tr>\n",
              "      <th>9</th>\n",
              "      <td>1</td>\n",
              "      <td>called</td>\n",
              "      <td>VERB</td>\n",
              "      <td>O</td>\n",
              "    </tr>\n",
              "  </tbody>\n",
              "</table>\n",
              "</div>\n",
              "      <button class=\"colab-df-convert\" onclick=\"convertToInteractive('df-ab50c760-f1c5-4c9a-a5c3-1c2e389fdd3a')\"\n",
              "              title=\"Convert this dataframe to an interactive table.\"\n",
              "              style=\"display:none;\">\n",
              "        \n",
              "  <svg xmlns=\"http://www.w3.org/2000/svg\" height=\"24px\"viewBox=\"0 0 24 24\"\n",
              "       width=\"24px\">\n",
              "    <path d=\"M0 0h24v24H0V0z\" fill=\"none\"/>\n",
              "    <path d=\"M18.56 5.44l.94 2.06.94-2.06 2.06-.94-2.06-.94-.94-2.06-.94 2.06-2.06.94zm-11 1L8.5 8.5l.94-2.06 2.06-.94-2.06-.94L8.5 2.5l-.94 2.06-2.06.94zm10 10l.94 2.06.94-2.06 2.06-.94-2.06-.94-.94-2.06-.94 2.06-2.06.94z\"/><path d=\"M17.41 7.96l-1.37-1.37c-.4-.4-.92-.59-1.43-.59-.52 0-1.04.2-1.43.59L10.3 9.45l-7.72 7.72c-.78.78-.78 2.05 0 2.83L4 21.41c.39.39.9.59 1.41.59.51 0 1.02-.2 1.41-.59l7.78-7.78 2.81-2.81c.8-.78.8-2.07 0-2.86zM5.41 20L4 18.59l7.72-7.72 1.47 1.35L5.41 20z\"/>\n",
              "  </svg>\n",
              "      </button>\n",
              "      \n",
              "  <style>\n",
              "    .colab-df-container {\n",
              "      display:flex;\n",
              "      flex-wrap:wrap;\n",
              "      gap: 12px;\n",
              "    }\n",
              "\n",
              "    .colab-df-convert {\n",
              "      background-color: #E8F0FE;\n",
              "      border: none;\n",
              "      border-radius: 50%;\n",
              "      cursor: pointer;\n",
              "      display: none;\n",
              "      fill: #1967D2;\n",
              "      height: 32px;\n",
              "      padding: 0 0 0 0;\n",
              "      width: 32px;\n",
              "    }\n",
              "\n",
              "    .colab-df-convert:hover {\n",
              "      background-color: #E2EBFA;\n",
              "      box-shadow: 0px 1px 2px rgba(60, 64, 67, 0.3), 0px 1px 3px 1px rgba(60, 64, 67, 0.15);\n",
              "      fill: #174EA6;\n",
              "    }\n",
              "\n",
              "    [theme=dark] .colab-df-convert {\n",
              "      background-color: #3B4455;\n",
              "      fill: #D2E3FC;\n",
              "    }\n",
              "\n",
              "    [theme=dark] .colab-df-convert:hover {\n",
              "      background-color: #434B5C;\n",
              "      box-shadow: 0px 1px 3px 1px rgba(0, 0, 0, 0.15);\n",
              "      filter: drop-shadow(0px 1px 2px rgba(0, 0, 0, 0.3));\n",
              "      fill: #FFFFFF;\n",
              "    }\n",
              "  </style>\n",
              "\n",
              "      <script>\n",
              "        const buttonEl =\n",
              "          document.querySelector('#df-ab50c760-f1c5-4c9a-a5c3-1c2e389fdd3a button.colab-df-convert');\n",
              "        buttonEl.style.display =\n",
              "          google.colab.kernel.accessAllowed ? 'block' : 'none';\n",
              "\n",
              "        async function convertToInteractive(key) {\n",
              "          const element = document.querySelector('#df-ab50c760-f1c5-4c9a-a5c3-1c2e389fdd3a');\n",
              "          const dataTable =\n",
              "            await google.colab.kernel.invokeFunction('convertToInteractive',\n",
              "                                                     [key], {});\n",
              "          if (!dataTable) return;\n",
              "\n",
              "          const docLinkHtml = 'Like what you see? Visit the ' +\n",
              "            '<a target=\"_blank\" href=https://colab.research.google.com/notebooks/data_table.ipynb>data table notebook</a>'\n",
              "            + ' to learn more about interactive tables.';\n",
              "          element.innerHTML = '';\n",
              "          dataTable['output_type'] = 'display_data';\n",
              "          await google.colab.output.renderOutput(dataTable, element);\n",
              "          const docLink = document.createElement('div');\n",
              "          docLink.innerHTML = docLinkHtml;\n",
              "          element.appendChild(docLink);\n",
              "        }\n",
              "      </script>\n",
              "    </div>\n",
              "  </div>\n",
              "  "
            ]
          },
          "metadata": {},
          "execution_count": 4
        }
      ]
    },
    {
      "cell_type": "markdown",
      "source": [
        "##Counting sentence,unique words and Tags"
      ],
      "metadata": {
        "id": "OOp27SUwdzSB"
      }
    },
    {
      "cell_type": "code",
      "source": [
        "data['Sentence #'].value_counts()"
      ],
      "metadata": {
        "colab": {
          "base_uri": "https://localhost:8080/"
        },
        "id": "9ZzYoUUegXv6",
        "outputId": "dfd81f86-b037-4e75-9daf-58465dead239"
      },
      "execution_count": null,
      "outputs": [
        {
          "output_type": "execute_result",
          "data": {
            "text/plain": [
              "722     366\n",
              "636     194\n",
              "689     187\n",
              "809     173\n",
              "1536    156\n",
              "       ... \n",
              "276       1\n",
              "1236      1\n",
              "0         1\n",
              "581       1\n",
              "737       1\n",
              "Name: Sentence #, Length: 2307, dtype: int64"
            ]
          },
          "metadata": {},
          "execution_count": 4
        }
      ]
    },
    {
      "cell_type": "code",
      "source": [
        "uniques = data['Sentence #'].unique()\n",
        "for i in range(1, 2254):\n",
        "  if i not in uniques:\n",
        "    print(i)"
      ],
      "metadata": {
        "id": "9znNk08KHMr7"
      },
      "execution_count": null,
      "outputs": []
    },
    {
      "cell_type": "code",
      "source": [
        "print('unique words in corpus:', data['Word'].nunique())\n",
        "print('unique tags in corpus', data['Agila_DB_tag'].nunique())\n",
        "print('unique tags in dataset:', data['Agila_DB_tag'].unique())"
      ],
      "metadata": {
        "colab": {
          "base_uri": "https://localhost:8080/"
        },
        "id": "0vyPLu07gtfN",
        "outputId": "c1fefbf0-fd6f-46bd-cb25-16c4970893f6"
      },
      "execution_count": null,
      "outputs": [
        {
          "output_type": "stream",
          "name": "stdout",
          "text": [
            "unique words in corpus: 6538\n",
            "unique tags in corpus 21\n",
            "unique tags in dataset: ['O' 'B-hwp' 'I-hwp' 'B-func' 'B-sw' 'I-sw' 'I-func' 'B-hwsp' 'I-hwsp'\n",
            " 'B-qt' 'B-sys' 'B-comp' 'I-sys' 'B-unit' 'I-comp' 'B-mea' 'I-qt' 'B-hwc'\n",
            " 'I-hwc' 'I-unit' 'I-mea']\n"
          ]
        }
      ]
    },
    {
      "cell_type": "code",
      "source": [
        "search_val=[\"B-hwp\",\"B-comp\",\"B-hwc\",\"B-hwsp\",\"B-sw\",\"B-sys\",\"B-mea\",\"B-unit\",\"B-func\",\"B-qt\"]\n",
        "search_dict={}\n",
        "for k in search_val:\n",
        "    search_dict[k] = 0 #count\n",
        "\n",
        "for item in data.itertuples():\n",
        "    if pd.isnull(item[4]):\n",
        "        continue\n",
        "    \n",
        "    for k in search_dict.keys():\n",
        "        if k in item[4]:\n",
        "            search_dict[k]=search_dict[k]+1\n",
        "        \n",
        "print(search_dict)"
      ],
      "metadata": {
        "colab": {
          "base_uri": "https://localhost:8080/"
        },
        "id": "LoIOqaK1rm0k",
        "outputId": "f47ebbe1-2151-406a-9969-0894b98c3425"
      },
      "execution_count": null,
      "outputs": [
        {
          "output_type": "stream",
          "name": "stdout",
          "text": [
            "{'B-hwp': 1426, 'B-comp': 319, 'B-hwc': 902, 'B-hwsp': 362, 'B-sw': 364, 'B-sys': 583, 'B-mea': 400, 'B-unit': 520, 'B-func': 597, 'B-qt': 1770}\n"
          ]
        }
      ]
    },
    {
      "cell_type": "code",
      "source": [
        "sum(search_dict.values())"
      ],
      "metadata": {
        "colab": {
          "base_uri": "https://localhost:8080/"
        },
        "outputId": "6f9c6935-f671-45b9-c66d-af3223a545b6",
        "id": "tHakWJXWn-YF"
      },
      "execution_count": null,
      "outputs": [
        {
          "output_type": "execute_result",
          "data": {
            "text/plain": [
              "7243"
            ]
          },
          "metadata": {},
          "execution_count": 6
        }
      ]
    },
    {
      "cell_type": "code",
      "source": [
        "f, ax = plt.subplots(figsize=(7,5))\n",
        "plt.bar(search_dict.keys(), search_dict.values(), align='center')\n",
        "plt.xlabel('Type of tags')\n",
        "plt.ylabel('No. of tags')\n",
        "plt.show()"
      ],
      "metadata": {
        "colab": {
          "base_uri": "https://localhost:8080/",
          "height": 337
        },
        "id": "zS__bfCuBbuq",
        "outputId": "12a19f76-2286-4e21-ab5d-088c9ef2158d"
      },
      "execution_count": null,
      "outputs": [
        {
          "output_type": "display_data",
          "data": {
            "text/plain": [
              "<Figure size 504x360 with 1 Axes>"
            ],
            "image/png": "[encoded data removed]"
          },
          "metadata": {}
        }
      ]
    },
    {
      "cell_type": "code",
      "source": [
        "counting_tag=data[\"Agila_DB_tag\"].value_counts()\n",
        "counting_tag"
      ],
      "metadata": {
        "colab": {
          "base_uri": "https://localhost:8080/"
        },
        "id": "iuWR4JZPp8pY",
        "outputId": "0f175c52-0c9b-4630-a1bc-1bc95079374e"
      },
      "execution_count": null,
      "outputs": [
        {
          "output_type": "execute_result",
          "data": {
            "text/plain": [
              "O         52615\n",
              "B-qt       1770\n",
              "B-hwp      1426\n",
              "I-hwp       967\n",
              "I-qt        946\n",
              "I-hwc       940\n",
              "B-hwc       902\n",
              "B-func      597\n",
              "B-sys       583\n",
              "I-sys       540\n",
              "B-unit      520\n",
              "I-func      520\n",
              "B-mea       400\n",
              "B-sw        364\n",
              "B-hwsp      362\n",
              "B-comp      319\n",
              "I-hwsp      264\n",
              "I-sw        214\n",
              "I-comp      196\n",
              "I-unit      130\n",
              "I-mea         7\n",
              "Name: Agila_DB_tag, dtype: int64"
            ]
          },
          "metadata": {},
          "execution_count": 10
        }
      ]
    },
    {
      "cell_type": "markdown",
      "source": [
        "# padding token to end of unique words"
      ],
      "metadata": {
        "id": "FXNUMqY8KK78"
      }
    },
    {
      "cell_type": "code",
      "source": [
        "words = list(set(data['Word'].values))\n",
        "words.append(\"ENDPAD\")\n",
        "num_words = len(words)"
      ],
      "metadata": {
        "id": "kHc2WetVKDss"
      },
      "execution_count": null,
      "outputs": []
    },
    {
      "cell_type": "code",
      "source": [
        "tags = list(set(data['Agila_DB_tag'].values))\n",
        "num_tags = len(tags)"
      ],
      "metadata": {
        "id": "0BJfhIBnKig6"
      },
      "execution_count": null,
      "outputs": []
    },
    {
      "cell_type": "code",
      "source": [
        "num_words, num_tags"
      ],
      "metadata": {
        "colab": {
          "base_uri": "https://localhost:8080/"
        },
        "id": "3L3IOYqFKpRK",
        "outputId": "46911fc2-7297-4828-d446-670d8923e97e"
      },
      "execution_count": null,
      "outputs": [
        {
          "output_type": "execute_result",
          "data": {
            "text/plain": [
              "(6539, 21)"
            ]
          },
          "metadata": {},
          "execution_count": 9
        }
      ]
    },
    {
      "cell_type": "markdown",
      "metadata": {
        "id": "z5lww6njBC8c"
      },
      "source": [
        "##Now use a Class which would convert every sentence with its named entities (tags) into a list of tuples [(word,named entity),(word,named entity),.. …]."
      ]
    },
    {
      "cell_type": "markdown",
      "metadata": {
        "id": "ArBI-cqvYd8h"
      },
      "source": [
        "we will create a class that will retrieve the sentences and their corresponding tags so that we can clearly define the input and output to our Neural Network Model.\n",
        "\n",
        "We’ll start with 1 sentence and group them using the lambda function.First select the sentence from “word” column, see their values, and convert them into list and repeat this process for \"Part Of Speech\" and \"Agila_DB_tag\" columns.\n",
        "\n",
        "Then we’ll apply this aggregated function to our sentences. Later we’ll split that entire list into sub-lists."
      ]
    },
    {
      "cell_type": "code",
      "source": [
        "\n",
        "class SentenceGetter(object):\n",
        "    \"\"\"Retrieves sentences and their corresponding tags.\"\"\"\n",
        "    def __init__(self, data):\n",
        "        # counter to track the number of sentences\n",
        "        self.n_sent = 1\n",
        "        # initialize data\n",
        "        self.data = data\n",
        "        # grouping sentences into tuples of 3 values:\n",
        "        # first value: words, second value: pos, third value: ner_tag\n",
        "        aggregate_function = lambda s: [(w, p, t) for w, p, t in zip(s['Word'].values.tolist(),\n",
        "                                                                    s['POS'].values.tolist(),\n",
        "                                                                    s['Agila_DB_tag'].values.tolist())]\n",
        "        #aggregate_function = lambda s: [(w, t) for w, t in zip(s[\"Word\"].values.tolist(),s[\"Agila_DB_tag\"].values.tolist())]\n",
        "        # applying the aggregate_function() to the sentences\n",
        "        self.grouped = self.data.groupby('Sentence #').apply(aggregate_function)\n",
        "        self.sentences = [s for s in self.grouped]"
      ],
      "metadata": {
        "id": "MNp5BV4_Ku9J"
      },
      "execution_count": null,
      "outputs": []
    },
    {
      "cell_type": "code",
      "source": [
        "getter = SentenceGetter(data)"
      ],
      "metadata": {
        "id": "lcC5I_OBK_lz"
      },
      "execution_count": null,
      "outputs": []
    },
    {
      "cell_type": "code",
      "source": [
        "sentences = getter.sentences"
      ],
      "metadata": {
        "id": "T-cw3RtlLDwL"
      },
      "execution_count": null,
      "outputs": []
    },
    {
      "cell_type": "code",
      "source": [
        "print('This is how a sentence looks like:--------------------------------')\n",
        "sentences[2]"
      ],
      "metadata": {
        "colab": {
          "base_uri": "https://localhost:8080/"
        },
        "id": "3KA7eiDbySng",
        "outputId": "83697bd7-ec29-4f0b-f532-96d13d6a9490"
      },
      "execution_count": null,
      "outputs": [
        {
          "output_type": "stream",
          "name": "stdout",
          "text": [
            "This is how a sentence looks like:--------------------------------\n"
          ]
        },
        {
          "output_type": "execute_result",
          "data": {
            "text/plain": [
              "[('The', 'DET', 'O'),\n",
              " ('CPU', 'NOUN', 'B-hwp'),\n",
              " ('performs', 'VERB', 'O'),\n",
              " ('basic', 'ADJ', 'O'),\n",
              " ('arithmetic', 'ADJ', 'B-func'),\n",
              " (',', 'PUNCT', 'O'),\n",
              " ('logic', 'NOUN', 'B-func'),\n",
              " (',', 'PUNCT', 'O'),\n",
              " ('controlling', 'VERB', 'B-func'),\n",
              " (',', 'PUNCT', 'O'),\n",
              " ('and', 'CCONJ', 'O'),\n",
              " ('input', 'NOUN', 'B-func'),\n",
              " ('/', 'SYM', 'I-func'),\n",
              " ('output', 'NOUN', 'I-func'),\n",
              " ('operations', 'NOUN', 'I-func'),\n",
              " ('specified', 'VERB', 'O'),\n",
              " ('by', 'ADP', 'O'),\n",
              " ('the', 'DET', 'O'),\n",
              " ('instructions', 'NOUN', 'B-sw'),\n",
              " ('in', 'ADP', 'O'),\n",
              " ('the', 'DET', 'O'),\n",
              " ('program', 'NOUN', 'B-sw'),\n",
              " ('.', 'PUNCT', 'O')]"
            ]
          },
          "metadata": {},
          "execution_count": 12
        }
      ]
    },
    {
      "cell_type": "code",
      "source": [
        "largest_sen = max(len(sen) for sen in sentences)\n",
        "print('biggest sentence has {} words'.format(largest_sen))"
      ],
      "metadata": {
        "colab": {
          "base_uri": "https://localhost:8080/"
        },
        "id": "GyJ10HZlylV5",
        "outputId": "da9e2b15-245b-405b-8d50-7062d21d8c0d"
      },
      "execution_count": null,
      "outputs": [
        {
          "output_type": "stream",
          "name": "stdout",
          "text": [
            "biggest sentence has 366 words\n"
          ]
        }
      ]
    },
    {
      "cell_type": "markdown",
      "source": [
        "# Plot sentence by length"
      ],
      "metadata": {
        "id": "7Eg6fc7Z0Al6"
      }
    },
    {
      "cell_type": "code",
      "source": [
        "plt.hist([len(s) for s in sentences],bins=50,edgecolor=\"white\")\n",
        "plt.title(\"calculating maxumum length\")\n",
        "plt.xlabel(\"length of sentences\")\n",
        "plt.ylabel(\" no. of sample\")\n",
        "plt.tight_layout()\n",
        "plt.show()"
      ],
      "metadata": {
        "colab": {
          "base_uri": "https://localhost:8080/",
          "height": 297
        },
        "id": "P2Bqic6J0REE",
        "outputId": "7f847b88-2d3e-4074-e6e0-6f44cffa3082"
      },
      "execution_count": null,
      "outputs": [
        {
          "output_type": "display_data",
          "data": {
            "text/plain": [
              "<Figure size 432x288 with 1 Axes>"
            ],
            "image/png": "[encoded data removed]"
          },
          "metadata": {}
        }
      ]
    },
    {
      "cell_type": "markdown",
      "source": [
        "* Since we see that the mean of sentence length is about 20-21,\n",
        "* We can choose something safer: value of around 50 would mean.The machine will add a generic word for the empty spaces and sequences longer than 50 will be truncated. \n"
      ],
      "metadata": {
        "id": "xTrpgGuP0ZIc"
      }
    },
    {
      "cell_type": "code",
      "source": [
        "max_len = 50"
      ],
      "metadata": {
        "id": "tuejdM9H1Idd"
      },
      "execution_count": null,
      "outputs": []
    },
    {
      "cell_type": "markdown",
      "source": [
        "### Define Mappings between Sentences and Tags\n",
        "* Dictionary to represent words & Agila_DB_tags as numerical values or indices.creating word-to-index and index-to-word mapping which is necessary for conversions for words before training (and after prediction).Here, we are going to build two dictionaries. one is to represent words as numerical values and second is to representing our tags as numerical values."
      ],
      "metadata": {
        "id": "YpzRqoifLZ4i"
      }
    },
    {
      "cell_type": "code",
      "source": [
        "word_to_index = {w: i + 1 for i, w in enumerate(words)}\n",
        "tag_to_index = {t: i for i, t in enumerate(tags)}"
      ],
      "metadata": {
        "id": "I0kunoMu3Jiy"
      },
      "execution_count": null,
      "outputs": []
    },
    {
      "cell_type": "code",
      "source": [
        "print(word_to_index)"
      ],
      "metadata": {
        "colab": {
          "base_uri": "https://localhost:8080/"
        },
        "id": "dU_3c_whLiNF",
        "outputId": "0f968a5c-a972-4f76-d3a8-9974558ad494"
      },
      "execution_count": null,
      "outputs": [
        {
          "output_type": "stream",
          "name": "stdout",
          "text": [
            "{'conflict': 1, '\\r\\n\\r\\n  \\r\\n    \\r\\n      \\r\\n        \\r\\n          ': 2, 'attributed': 3, '0.464': 4, 'ACC': 5, 'hobbyists': 6, 'correctional': 7, 'Repeated': 8, '38': 9, 'safety': 10, 'tandem': 11, 'Signals': 12, 'lag': 13, 'encode': 14, 'likely': 15, 'reliable': 16, 'adopted': 17, 'Inputs': 18, 'Converter': 19, 'United': 20, 'programmer': 21, '\\r\\n        \\r\\n          ': 22, '1980s': 23, 'exclusively': 24, 'performed': 25, 'desktops': 26, 'Amiga': 27, 'usual': 28, 'Xbox': 29, 'autotransformers': 30, 'regulates': 31, '99': 32, 'Thesis': 33, 'revenue': 34, 'avionics': 35, 'term': 36, 'George': 37, 'prevent': 38, 'Jitter': 39, 'conductor': 40, 'RISC': 41, 'newest': 42, 'distort': 43, 'isolator': 44, 'categories': 45, 'sub-$100': 46, '10': 47, 'supercomputers': 48, 'addressing': 49, 'Placing': 50, 'Distronic': 51, 'predictable': 52, 'simultaneously': 53, 'Mohamed': 54, 'transformerless': 55, '0.1': 56, 'surface': 57, 'alloy': 58, 'inodes': 59, 'Combined': 60, 'increases': 61, 'selected': 62, 'topographic': 63, 'generates': 64, 'Worldwide': 65, '0.03': 66, 'enable': 67, 'distorted': 68, 'realize': 69, 'Bluetooth': 70, 'plant': 71, 'overflowing': 72, 'Entscheidungsproblem': 73, 'distinctive': 74, 'higher': 75, \"'\": 76, 'rejection': 77, 'projection': 78, '2D': 79, 'RL01': 80, 'independent': 81, 'interconnected': 82, 'subdividing': 83, 'launched': 84, '⋅': 85, '0.385': 86, 'VCO': 87, 'wake': 88, 'cheap': 89, 'TS': 90, '7': 91, 'feed': 92, 'collectively': 93, '\\r\\n            \\r\\n          \\r\\n          ': 94, 'done': 95, 'tightly': 96, 'goes': 97, 'attributes': 98, 'MKS': 99, 'thermostats': 100, 'exploits': 101, 'satellites': 102, 'stretching': 103, 'germanium': 104, 'tablet': 105, '2003–2010': 106, 'retrieved': 107, 'bias': 108, 'Reading': 109, 'packet': 110, 'below': 111, 'dozen': 112, 'indicates': 113, '309': 114, 'zero': 115, 'map': 116, 'we': 117, 'shape': 118, '2025': 119, 'particles': 120, 'developing': 121, 'buffered': 122, 'symbol': 123, 'slowest': 124, 'taxonomy': 125, 'activate': 126, 'horizon': 127, 'Detector': 128, 'vector': 129, 'correcting': 130, '2020–2034': 131, 'consume': 132, 'accesses': 133, 'Occasionally': 134, 'maping': 135, 'lists': 136, 'NES': 137, 'sign': 138, 'plugging': 139, 'Solarflare': 140, 'failures': 141, 'feasibility': 142, ']': 143, '1,000': 144, 'translations': 145, 'cryptography': 146, 'speed': 147, 'aware': 148, 'saved': 149, 'Eric': 150, 'Mask': 151, 'approach': 152, 'Ping': 153, 'advancement': 154, '\\r\\n          \\r\\n            ': 155, 'transmit': 156, 'TTL': 157, 'chips': 158, 'ignored': 159, 'vulnerable': 160, 'steady': 161, 'assemblers': 162, 'TI': 163, 'quite': 164, 'beam': 165, 'status': 166, 'encountered': 167, 'something': 168, 'sufficient': 169, 'ROP': 170, 'said': 171, 'Mouse': 172, 'RGB': 173, 'alternator': 174, 'letter': 175, 'will': 176, 'friction': 177, 'Decrement': 178, 'peripherals': 179, 'tested': 180, 'drawn': 181, 'services': 182, '6502': 183, '\\r\\n                  \\r\\n                    ': 184, 'continuity': 185, 'demultiplexing': 186, 'Configured': 187, '1954': 188, 'interchange': 189, 'gradation': 190, 'coherency': 191, 'complement': 192, 'heads': 193, 'processes': 194, 'responses': 195, 'domain': 196, 'attempted': 197, 'odd': 198, 'second': 199, 'spending': 200, 'taxing': 201, 'computers': 202, '4950': 203, 'Correction': 204, 'magnetoresistance': 205, 'behavior': 206, 'Shortly': 207, 'reflect': 208, 'bulb': 209, 'standing': 210, 'direct': 211, 'pushed': 212, 'semiconductor': 213, 'exceed': 214, 'Reserve': 215, 'various': 216, 'i': 217, 'permanently': 218, 'rapid': 219, 'transition': 220, 'American': 221, 'Connectors': 222, 'possibility': 223, 'tolerances': 224, 'windings': 225, 'was': 226, 'Then': 227, 'anticipatory': 228, 'diagnosis': 229, 'sixteen': 230, 'IC': 231, 'Malaysian': 232, '/': 233, 'Status': 234, 'restart': 235, 'passengers': 236, 'bands': 237, 'impediment': 238, 'Emulation': 239, 'Massachusetts': 240, 'coded': 241, 'directs': 242, 'flexibility': 243, 'But': 244, 'boundaries': 245, '1946': 246, 'daily': 247, '10/100/1000': 248, 'fetching': 249, 'microprocessors': 250, 'modify': 251, 'mainframe': 252, 'PM': 253, 'terminations': 254, 'oscillator': 255, 'addresses': 256, 'regulated': 257, 'poor': 258, 'connector': 259, 'immediate': 260, 'combinational': 261, 'report': 262, 'nucleus': 263, 'disks': 264, 'hardwired': 265, 'floods': 266, 'prevented': 267, 'June': 268, 'Pipelines': 269, 'rotation': 270, 'cascaded': 271, 'complete': 272, 'computations': 273, 'generating': 274, 'barriers': 275, '5': 276, 'motorized': 277, 'bulk': 278, 'job': 279, 'Neumann': 280, 'Description': 281, 'State': 282, 'implementation': 283, 'excludes': 284, 'perf': 285, 'transformers': 286, 'Fujitsu': 287, 'equivalent': 288, 'one': 289, 'look': 290, 'dynamically': 291, 'sort': 292, 'an': 293, 'assembling': 294, '10–20': 295, 'gave': 296, 'Apollo': 297, 'pumping': 298, 'subject': 299, '9': 300, 'magnetized': 301, 'configures': 302, 'popularization': 303, 'demands': 304, 'picture': 305, 'disrupted': 306, 'Capital': 307, 'adhere': 308, 'variation': 309, 'latches': 310, 'resistors': 311, 'intermediary': 312, 'School': 313, 'correspondence': 314, 'slower': 315, 'increasing': 316, 'individual': 317, 'Otto': 318, 'orderly': 319, 'broadly': 320, '1996–2003': 321, 'A8': 322, '5,400': 323, 'announcement': 324, 'countries': 325, '∫': 326, 'functioning': 327, 'HP': 328, 'asperity': 329, 'situation': 330, 'pickup': 331, 'XK': 332, 'turns': 333, 'duplicate': 334, 'reversely': 335, 'T1': 336, 'MIMD).One': 337, 'Hasbrouck': 338, 'minicomputer': 339, '2.75': 340, 'f(t': 341, 'cues': 342, 'importantly': 343, 'TV': 344, 'inform': 345, 'occurrence': 346, 'external': 347, 'Presper': 348, 'disrupt': 349, 'articles': 350, 'network': 351, 'wipers': 352, 'focal': 353, 'keep': 354, 'applications': 355, 'Numbers': 356, '0.503': 357, 'Mean': 358, 'suites': 359, 'individually': 360, 'certainly': 361, 'Calculation': 362, 'knobs': 363, 'PowerPC': 364, 'typically': 365, 'π': 366, 'Director': 367, 'sector': 368, 'Each': 369, 'TMS': 370, 'temporarily': 371, 'cooperating': 372, 'processors': 373, 'Legacy': 374, 'culminated': 375, 'bad': 376, 'Linear': 377, 'km': 378, 'contexts': 379, 'signed': 380, 'metrics': 381, 'contents': 382, 'CircuitPython': 383, 'Frequent': 384, 'released': 385, 'forecasting': 386, 'cache': 387, 'shut': 388, 'classified': 389, 'Model': 390, 'identifies': 391, 'digit': 392, 'following': 393, 'Associates': 394, 'P2P': 395, 'near': 396, 'affordable': 397, 'abnormal': 398, 'concerns': 399, '2005': 400, 'Applications': 401, 'compare': 402, 'Oversampling': 403, 'receiving': 404, 'variable': 405, 'methodologies': 406, 'terabytes': 407, 'electromigration': 408, 'though': 409, 'transforms': 410, 'Powerful': 411, 'entitled': 412, 'only': 413, 'multiplexors': 414, 'precrash': 415, 'moves': 416, 'motherboard': 417, 'telecommunications': 418, '130': 419, 'voltages': 420, 'rotary': 421, 'df': 422, 'configuration': 423, \"'s\": 424, 'assess': 425, 'smartphones': 426, 'aim': 427, 'expected': 428, 'dependencies': 429, 'unofficial': 430, 'underlying': 431, 'prefetcher': 432, 'erasing': 433, 'SAE': 434, 'random': 435, 'saw': 436, 'cosine': 437, '2314': 438, 'trick': 439, 'LPC2000': 440, 'Autonomous': 441, 'night': 442, 'linear': 443, 'orientation': 444, 'get': 445, 'files': 446, 'Boone': 447, 'corrode': 448, 'land': 449, 'periodic': 450, 'diodes': 451, 'GDDR': 452, 'hits': 453, 'uncorrected': 454, 'assistance': 455, 'height': 456, 'RSS': 457, 'microarchitectures': 458, 'Logical': 459, 'workstation': 460, 'System/370': 461, '1948': 462, 'crystals': 463, 'replication': 464, 'CC': 465, 'designing': 466, 'players': 467, 'translated': 468, '1953': 469, 'configuring': 470, '110,000': 471, 'That': 472, 'concrete': 473, 'travels': 474, 'uncommon': 475, 'native': 476, 'hope': 477, 'erase': 478, 'Direct': 479, '1s': 480, 'geographical': 481, 'twisted': 482, 'contentions': 483, 'thrashing': 484, 'entered': 485, 'universal': 486, 'can': 487, 'Dithering': 488, 'FC': 489, 'Spurious': 490, 'x4': 491, 'Debonair': 492, 'refined': 493, 'Round': 494, 'uncertainty': 495, 'object': 496, 'Rather': 497, 'There': 498, 'predominant': 499, 'solely': 500, 'heater': 501, 'Q7': 502, 'yield': 503, 'addressed': 504, 'coding': 505, 'SSDs': 506, 'Microarchitectures': 507, 'mosaic': 508, '+': 509, '\\r\\n          \\r\\n            \\r\\n              ': 510, 'eye': 511, 'experiences': 512, 'heat': 513, 'TRUE': 514, 'computer': 515, 'negligible': 516, 'samples': 517, 'explicitly': 518, 'role': 519, 'calculation': 520, 'MCUs': 521, 'obstacle': 522, 'except': 523, 'originated': 524, 'thereby': 525, 'bulky': 526, 'durability': 527, 'suits': 528, 'repeatable': 529, 'serialization': 530, 'Kepler': 531, 'SuperH': 532, 'differently': 533, 'find': 534, 'norms': 535, 'facing': 536, 'Von': 537, 'electronically': 538, 'Machine': 539, 'numbers': 540, 'linked': 541, 'passive': 542, 'Nyquist': 543, 'features': 544, '68020/68030': 545, 'commodity': 546, '127': 547, 'hazardous': 548, 'Additionally': 549, 'analog': 550, 'polynomial': 551, 'finishing': 552, 'repeated': 553, 'External': 554, 'secured': 555, 'references': 556, 'slot': 557, 'numeral': 558, 'LPC1000': 559, '0.563': 560, 'violate': 561, 'onto': 562, 'simplest': 563, 'separation': 564, 'Sequential': 565, 'shells': 566, 'sharing': 567, 'increased': 568, 'Buffering': 569, 'Maryland': 570, 'beings': 571, 'LPC700': 572, 'offices': 573, 'Monolithic': 574, 'obituaries': 575, 'Cassette': 576, 'locations': 577, 'games': 578, 'reserve': 579, 'hierarchical': 580, 't|\\\\leq': 581, 'barrel': 582, 'laws': 583, 'draw': 584, 'programmers': 585, 'NO': 586, 'unknown': 587, 'Entertainment': 588, '7,200': 589, 'opcode': 590, 'utilized': 591, 'isolates': 592, 'Weitek': 593, 'TA': 594, 'calibration': 595, 'truncated': 596, 'stun': 597, 'Prediction': 598, 'Unlike': 599, 'red': 600, 'persistent': 601, 'backing': 602, 'mixed': 603, 'abruptly': 604, 'MK7': 605, 'offer': 606, 'Centre': 607, 'recover': 608, 'cheaper': 609, 'invented': 610, 'electrolyte': 611, 'declining': 612, 'drives': 613, 'screen': 614, 'standby': 615, 'halted': 616, '1960s': 617, '300': 618, 'plants': 619, 'rarely': 620, 'streaming': 621, 'operates': 622, 'POST': 623, 'Passive': 624, 'allow': 625, 'limited': 626, '240': 627, 'Semico': 628, 'microelectronic': 629, '1–3': 630, 'Adaptive': 631, 'part': 632, 'YUV': 633, 'Locality': 634, 'suppose': 635, '0.393': 636, 'decoding': 637, 'Ltd.': 638, 'sectional': 639, 'mechanical': 640, 'Perceptible': 641, 'comparator': 642, 'past': 643, 'combining': 644, 'wrote': 645, 'thus': 646, '15': 647, 'spun': 648, 'sensors': 649, '\"': 650, 'pedestrian': 651, '\\r\\n\\r\\n  \\r\\n    \\r\\n      \\r\\n        ': 652, '1,200': 653, 'When': 654, 'magnetic': 655, 'is': 656, 'wiring': 657, 'England': 658, 'trilemma': 659, 'european': 660, 'region': 661, 'slowed': 662, 'MAX': 663, 'magnetizing': 664, 'later': 665, 'designed': 666, 'Internet': 667, 'closely': 668, 'pull': 669, 'customized': 670, 'last': 671, 'subtracting': 672, 'reactance': 673, 'wherein': 674, 'General': 675, 'band': 676, '1980': 677, 'ATX': 678, 'ideal': 679, 'LC': 680, 'altitude': 681, 'opposed': 682, 'creation': 683, '\\r\\n                    ': 684, 'checksums': 685, 'non': 686, 'terms': 687, 'flux': 688, 'complied': 689, 'strong': 690, 'maintains': 691, 'ramps': 692, 're': 693, 'German': 694, '\\\\,d\\\\tau': 695, 'conductors': 696, 'incurs': 697, 'common': 698, 'manufacturers': 699, 'needed': 700, '′': 701, 'comb': 702, 'SI': 703, 'successor': 704, 'bit)Many': 705, 'transaction': 706, 'maps': 707, 'excellent': 708, 'most': 709, 'System/360': 710, 'packaged': 711, 'signaling': 712, 'unless': 713, 'serially': 714, 'migrating': 715, 'termination': 716, 'affected': 717, 'Delivery': 718, 'overcame': 719, '1/16th': 720, 'interpreter': 721, 'junctions': 722, 'Operation': 723, 'over': 724, 'entire': 725, ' ': 726, 'constants': 727, 'SMPSs': 728, 'programmed': 729, 'Originally': 730, 'derived': 731, 'generators': 732, 'escaping': 733, 'farms': 734, 'field': 735, 'v_{\\\\text{in}}(t': 736, 'polygon': 737, '5,200': 738, 'enormous': 739, 'board': 740, 'Floating': 741, 'cluster': 742, 'Plus': 743, 'exposure': 744, 'v': 745, 'headers': 746, 'sales': 747, 'gigahertz': 748, 'restore': 749, 'missing': 750, 'notebook': 751, 'Classification': 752, 'adder': 753, 'interpret': 754, 'forever': 755, 'expandability': 756, 'room': 757, 'sequentially': 758, 'supported': 759, 'programming': 760, 'sometimes': 761, 'involved': 762, 'reaching': 763, 'referring': 764, 'UARTs': 765, '2048': 766, 'PMOS': 767, 'actions': 768, 'uninterruptible': 769, 'stored': 770, 'LibreOffice': 771, 'S.': 772, 'which': 773, 'cellphones': 774, 'Hardware': 775, 'hole': 776, '\\r\\n        \\r\\n          \\r\\n            \\r\\n              ': 777, 'FAT': 778, 'Consumer': 779, 'Due': 780, 'Biquadratic': 781, 'Satis': 782, 'Nissan': 783, 'depth': 784, 'slots': 785, 'held': 786, 'P6': 787, 'distribution': 788, 'After': 789, 'V850': 790, 'Purpose': 791, 'increments': 792, 'Passat': 793, 'values': 794, 'decimate': 795, 'interleave': 796, 'Bosch': 797, 'refrigerators': 798, 'performs': 799, 'budget': 800, 'E60': 801, 'pedestrians': 802, 'Firmware': 803, '1990s': 804, 'resistive': 805, 'Speaking': 806, 'Protocol': 807, 'disparity': 808, 'shader': 809, 'consecutively': 810, 'somewhat': 811, 'oriented': 812, 'superscalar': 813, 'decision': 814, 'comparatively': 815, 'moved': 816, 'quarter': 817, 'predating': 818, 'warns': 819, 'Instruments': 820, 'upper': 821, 'Office': 822, 'historical': 823, 'YIQ': 824, 'MSP430': 825, 'routines': 826, 'shares': 827, 'protect': 828, 'opto': 829, 'Assist': 830, 'discussed': 831, 'Bernoulli': 832, 'looks': 833, 'check': 834, 'prices': 835, 'available': 836, 'optic': 837, 'Fermi': 838, 'Earlier': 839, 'writability': 840, 'tomographic': 841, 'proofs': 842, 'continues': 843, 'dsPIC33': 844, 'demand': 845, 'support': 846, 'THD': 847, 'window': 848, 'geostationary': 849, '\\r\\n                  \\r\\n                \\r\\n              \\r\\n              \\r\\n                ': 850, 'GHz': 851, 'Report': 852, 'LDPC': 853, 'enhance': 854, 'vary': 855, 'hybrid': 856, 'rectangular': 857, 'manipulating': 858, 'decoded': 859, 'document': 860, 'ActionScript': 861, 'wider': 862, 'grille': 863, 'time': 864, '\\u2009': 865, 'filed': 866, 'HDDs': 867, 'Nevertheless': 868, 'APS': 869, '≤': 870, 'Θ': 871, 'bitmapped': 872, '2002': 873, 'visible': 874, 'fractionally': 875, 'simulators': 876, 'multidimensional': 877, 'handler': 878, 'significant': 879, 'Although': 880, 'unreadable': 881, 'Nakamura': 882, 'ic': 883, 'Motion': 884, '5.5': 885, '17%—the': 886, 'derive': 887, 'park': 888, 'SFP+': 889, 'absence': 890, 'aluminum': 891, 'versions': 892, '—': 893, 'service': 894, 'embedded': 895, 'divergence': 896, 'ROM': 897, 'reprogramming': 898, 'back': 899, 'Should': 900, 'cells': 901, 'orbit': 902, 'Tasks': 903, 'Standard': 904, 'causing': 905, 'like': 906, 'prohibited': 907, 'Dual': 908, 'see': 909, 'respects': 910, 'images': 911, 'ceramic': 912, 'consolidation': 913, 'smartphone': 914, 'Company': 915, 'base': 916, 'Wi': 917, 'progressively': 918, 'connect': 919, 'inherently': 920, 'Allocation': 921, 'ROMs': 922, 'chewing': 923, 'markets': 924, 'resolutions': 925, 'years': 926, 'decided': 927, 'Search': 928, 'differs': 929, '1950s': 930, 'lightmap': 931, 'bigger': 932, 'Toscal': 933, 'views': 934, 'relatively': 935, 'propagate': 936, 'during': 937, 'indexed': 938, 'sampled': 939, 'rates': 940, 'volatile': 941, 'latter': 942, '6.02': 943, 'quantities': 944, 'reductions': 945, 'special': 946, 'growth': 947, '\\r\\n        \\r\\n          \\r\\n            \\r\\n              \\r\\n                ': 948, 'equation': 949, '25': 950, 'bay': 951, 'index': 952, 'connectors': 953, 'monitors': 954, 'From': 955, 'arrays': 956, 'describes': 957, 'SQNR': 958, 'Cost': 959, 'forms': 960, 'ATI': 961, 'corrosion': 962, 'outweigh': 963, 'unavailable': 964, 'inherent': 965, 'P': 966, 'STREX': 967, 'dropout': 968, 'Very': 969, 'London': 970, 'sudden': 971, 'known': 972, 'racks': 973, 'forwarded': 974, 'few': 975, '\\\\over': 976, 'previously': 977, 'Q45': 978, 'safer': 979, 'hungry': 980, 'stage': 981, 'variety': 982, 'Honda': 983, 'FDDs': 984, 'depending': 985, 'Controller': 986, 'best': 987, 'potential': 988, '1979': 989, 'DSD': 990, 'extending': 991, 'modest': 992, '\\u2061': 993, 'distinct': 994, 'autonomy': 995, 'BIOS': 996, 's': 997, 'Later': 998, 'emulates': 999, 'result': 1000, '45The': 1001, 'matching': 1002, 'slow': 1003, 'Zilog': 1004, 'Mellon': 1005, 'GE-235': 1006, 'tail': 1007, 'completed': 1008, 'CRT': 1009, 'restrictions': 1010, '1975': 1011, 'classical': 1012, 'cross': 1013, 'Michigan': 1014, 'ceiling': 1015, 'operated': 1016, 'negative': 1017, 'temporal': 1018, 'repertoires': 1019, '1966': 1020, 'earlier': 1021, 'Active': 1022, 'watt': 1023, 'focus': 1024, '1536': 1025, 'International': 1026, 'mid-2000s': 1027, 'areas': 1028, 'squat': 1029, 'turnaround': 1030, 'LBA': 1031, 'beyond': 1032, 'limitation': 1033, 'costs': 1034, 'Flow': 1035, 'consisting': 1036, 'ratio': 1037, 'priority': 1038, 'multiplying': 1039, 'equipped': 1040, 'style': 1041, 'event': 1042, 'highest': 1043, '8051': 1044, 'inherited': 1045, 'component': 1046, 'jam': 1047, 'Fundamentally': 1048, 'comparison': 1049, 'Lincoln': 1050, 'rank': 1051, 'stepped': 1052, 'oversampling': 1053, 'intermediate': 1054, 'lighter': 1055, 'uninterruptable': 1056, 'routers': 1057, 'overlapping': 1058, 'estimated': 1059, 'between': 1060, 'despite': 1061, 'distributing': 1062, 'better': 1063, 'thread': 1064, 'Area': 1065, 'Prior': 1066, 'timing': 1067, 'self': 1068, 'deals': 1069, 'Western': 1070, 'nanotubes': 1071, 'tube': 1072, 'resist': 1073, 'security': 1074, 'swept': 1075, 'Nowadays': 1076, 'units': 1077, 'quantization': 1078, 'Within': 1079, 'Aside': 1080, '12.5': 1081, 'recovery': 1082, 'flowing': 1083, 'enhancements': 1084, 'plugs': 1085, 'flag': 1086, '\\\\Delta': 1087, 'Alternatively': 1088, 'varies': 1089, 'tending': 1090, 'not': 1091, 'rely': 1092, 'plans': 1093, 'mid-1970s': 1094, 'view': 1095, 'exit': 1096, 'automobiles': 1097, 'analayze': 1098, 'critical': 1099, 'decline': 1100, 'Z8': 1101, 'against': 1102, 'exploring': 1103, 'day': 1104, 'manipulate': 1105, 'diagnostic': 1106, 'apart': 1107, 'Preview': 1108, 'precision': 1109, 'tailors': 1110, 'die': 1111, 'Specially': 1112, 'Lag': 1113, 's}\\\\\\\\\\\\end{aligned': 1114, 'division': 1115, 'percent': 1116, 'breaking': 1117, 'noisier': 1118, 'outgassing': 1119, 'Disk': 1120, 'transformer': 1121, 'exercise': 1122, 'rising': 1123, 'fail': 1124, 'points': 1125, 'in': 1126, 'RefLow': 1127, 'Functional': 1128, 'DEC': 1129, 'ISE': 1130, 'inaccessible': 1131, 'none': 1132, 'exception': 1133, 'Arbitrated': 1134, 'starts': 1135, 'create': 1136, 'Insights': 1137, 'residing': 1138, 'commercially': 1139, 'thermoplastic': 1140, 'adjusted': 1141, 'lengths': 1142, 'covers': 1143, 'pin': 1144, 'imposing': 1145, 'hosts': 1146, 'Corvus': 1147, 'query': 1148, 'console': 1149, 'divided': 1150, 'rate': 1151, 'sharper': 1152, 'multiply': 1153, 'selective': 1154, 'Vacuum': 1155, 'MDX': 1156, 'nearly': 1157, 'spacecraft': 1158, 'essay': 1159, 'Hursley': 1160, 'implied': 1161, 'Harvard': 1162, 'EAMR': 1163, 'Purely': 1164, 'temporary': 1165, 'incurred': 1166, 'SPI': 1167, 'grain': 1168, '0x34': 1169, 'overtook': 1170, 'means': 1171, 'buffer': 1172, 'accommodate': 1173, 'Cypress': 1174, 'contrasts': 1175, 'DMA': 1176, 'versus': 1177, 'shapes': 1178, 'Drives': 1179, 'convey': 1180, 'Self': 1181, 'HAMR': 1182, 'landing': 1183, 'does': 1184, 'TLP': 1185, 'milliseconds': 1186, 'inputs': 1187, 'Resistors': 1188, 'regenerators': 1189, '\\r\\n            \\r\\n              \\r\\n                ': 1190, 'emerges': 1191, 'microarchitecture': 1192, 'boast': 1193, 'in2': 1194, 'instruction': 1195, 'synthesizer': 1196, 'guarantees': 1197, 'forward': 1198, '#NAME?': 1199, 'fragment': 1200, 'afford': 1201, 'quality': 1202, 'Write': 1203, '23': 1204, 'Cochran': 1205, 'recorded': 1206, 'yet': 1207, 'capable': 1208, 'actuating': 1209, 'practical': 1210, 'cathode': 1211, 'notable': 1212, 'release': 1213, 'principle': 1214, 'whether': 1215, 'focuses': 1216, '4,200': 1217, 'facelift': 1218, '98': 1219, 'Steering': 1220, 'wireless': 1221, 'damages': 1222, '1994': 1223, '0.5': 1224, 'DC': 1225, 'HDTV': 1226, 'routine': 1227, 'Carnegie': 1228, '780': 1229, 'array': 1230, 'output': 1231, 'boot': 1232, '1920s': 1233, 'refreshed': 1234, 'hearing': 1235, 'stalls': 1236, 'testing': 1237, 'Amongst': 1238, 'denoted': 1239, 'impedances': 1240, 'standards': 1241, '1': 1242, 'dominate': 1243, 'liability': 1244, 'element': 1245, 'Multimedia': 1246, 'passenger': 1247, 'doubly': 1248, 'socket': 1249, 'layout': 1250, 'UPS': 1251, 'Furthermore': 1252, 'filters': 1253, 'free': 1254, 'interested': 1255, 'phenomenon': 1256, 'achieving': 1257, 'track': 1258, 'capture': 1259, 'seven': 1260, 'seeking': 1261, 'Ways': 1262, 'packets': 1263, '\\r\\n                \\r\\n                ': 1264, 'ILP': 1265, 'ISPs': 1266, 'accomplished': 1267, 'resolve': 1268, 'slightly': 1269, 'that': 1270, 'math': 1271, 'electronics': 1272, 'coherence': 1273, 'appears': 1274, 'encapsulating': 1275, 'Datapoint': 1276, 'Update': 1277, 'impossible': 1278, 'manages': 1279, 'users': 1280, 'incoming': 1281, 'car': 1282, 'gradually': 1283, 'Guidance': 1284, 'helium': 1285, 'logarithm': 1286, 'Morton': 1287, 'geometric': 1288, 'adversely': 1289, 'bubble': 1290, 'Mixed': 1291, 'fill': 1292, 'places': 1293, 'extra': 1294, 'exhibit': 1295, 'executes': 1296, 'Systems': 1297, 'Instead': 1298, 'overall': 1299, '524': 1300, 'Different': 1301, 'colloquially': 1302, 'altogether': 1303, '1972': 1304, '305': 1305, 'edges': 1306, 'megabyte': 1307, 'lines': 1308, 'decreased': 1309, 'netbook': 1310, 'skips': 1311, '\\r\\n   ': 1312, 'positively': 1313, 'blowers': 1314, 'servers': 1315, 'incapable': 1316, 'wired': 1317, 'continuable': 1318, 'notice': 1319, 'µs': 1320, 'SPC5': 1321, 'speeds': 1322, '+1/2': 1323, 'root': 1324, 'PIT': 1325, 'BIND': 1326, 'crop': 1327, 'staying': 1328, 'TCVCXO': 1329, 'expandable': 1330, 'broad': 1331, 'attempt': 1332, 'variants': 1333, 'credited': 1334, 'area': 1335, 'exceeded': 1336, 'toggle': 1337, 'form': 1338, 'partitions': 1339, 'intercept': 1340, 'position': 1341, 'electrical': 1342, 'Cray-1': 1343, 'given': 1344, 'explicit': 1345, 'Processing': 1346, 'So': 1347, 'Table': 1348, 'Volvo': 1349, 'Those': 1350, 'decreases': 1351, '3,000': 1352, 'organized': 1353, '520': 1354, 'silicon': 1355, 'became': 1356, 'Plugins': 1357, 'ISP': 1358, 'refueling': 1359, 'weighted': 1360, 'finite': 1361, 'transcendental': 1362, 'Gigabit': 1363, 'meeting': 1364, 'inter': 1365, 'change': 1366, 'expensive': 1367, 'PDP-6': 1368, 'Central': 1369, 'varied': 1370, 'meters': 1371, 'bell': 1372, 'Whether': 1373, 'Format': 1374, 'activity': 1375, 'neodymium': 1376, 'economic': 1377, 'transfers': 1378, 'decoupled': 1379, 'improper': 1380, 'helped': 1381, 'push': 1382, '32': 1383, '18': 1384, 'respect': 1385, 'pumps': 1386, 'S': 1387, 'great': 1388, 'ColdFire': 1389, 'Known': 1390, 'brands': 1391, 'TMU': 1392, 'specialty': 1393, 'subtracted': 1394, 'request': 1395, 'dual': 1396, 'Every': 1397, 'powered': 1398, 'amplitude': 1399, 'expanding': 1400, 'grabbing': 1401, 'Partial': 1402, 'cargo': 1403, 'Phaeton': 1404, '7300': 1405, 'FPGAs': 1406, 'claim': 1407, 'globally': 1408, 'ASP.NET': 1409, '350': 1410, 'guess': 1411, 'Auxiliary': 1412, 'CKD': 1413, 'automated': 1414, 'Online': 1415, 'switches': 1416, 'Dawon': 1417, '28': 1418, 'Important': 1419, 'Schmidt': 1420, 'ahead': 1421, 'incorrectly': 1422, 'switched': 1423, 'wrap': 1424, 'quick': 1425, 'update': 1426, '9,800': 1427, 'bytes': 1428, 'sticker': 1429, 'describe': 1430, 'greatly': 1431, 'dependency': 1432, 'engineering': 1433, 'gap': 1434, 'Semiconductor': 1435, 'presented': 1436, 'electric': 1437, 'predecessors': 1438, 'shifted': 1439, 'linearity': 1440, 'Historically': 1441, 'deliberately': 1442, 'Desktop': 1443, 'overflow': 1444, 'converting': 1445, 'pressurized': 1446, 'densities': 1447, 'repair': 1448, 'plague': 1449, 'ones': 1450, 'L1i': 1451, 'helping': 1452, '\\r\\n            \\r\\n              ': 1453, 'V_{\\\\text{in}}(s)\\\\\\\\\\\\Theta': 1454, '2017': 1455, 'drawer': 1456, 'nor': 1457, 'bonds': 1458, 'mainboard': 1459, 'moment': 1460, 'how': 1461, 'uncertainties': 1462, 'intrinsic': 1463, '1}{2^{q}\\\\pi': 1464, 'specifies': 1465, 'pins': 1466, 'initialize': 1467, 'bandlimited': 1468, 'matches': 1469, 'and/or': 1470, 'regulation': 1471, 'recording': 1472, 'Dedicated': 1473, '1958': 1474, 'DSP': 1475, 'hit': 1476, 'unable': 1477, '80387SX': 1478, 'retaining': 1479, 'comprising': 1480, 'averaging': 1481, 'key': 1482, 'relationship': 1483, 'enters': 1484, 'effective': 1485, 'Draft': 1486, 'events': 1487, 'AVR32': 1488, '7600GT': 1489, 'threads': 1490, 'rewritable': 1491, 'expose': 1492, 'choices': 1493, 'VLIW': 1494, 'first': 1495, 'Cauer': 1496, 'At': 1497, 'targeted': 1498, 'counterparts': 1499, 'Integer': 1500, 'shaders': 1501, 'offering': 1502, 'Integral': 1503, 'Signal': 1504, 'sleep': 1505, '406': 1506, 'Labs': 1507, 'Contrary': 1508, 'determined': 1509, 'delivered': 1510, '2013': 1511, 'careful': 1512, 'Packaging': 1513, 'Event': 1514, 'XMC4000': 1515, 'reconstruction': 1516, 'plugged': 1517, 'magnetoresistive': 1518, 'instrumentation': 1519, 'otherwise': 1520, 'KI10': 1521, 'materials': 1522, 'turbine': 1523, 'conversion': 1524, 'RAID': 1525, '\\r\\n                \\r\\n                  \\r\\n                    ': 1526, 'aggregated': 1527, 'third': 1528, 'Peripheral': 1529, 'closing': 1530, 'nine': 1531, 'Jr.': 1532, 'nets': 1533, 'undercutting': 1534, 'adapters': 1535, '3DHD': 1536, 'anything': 1537, 'fans': 1538, 'compliant': 1539, 'PC': 1540, 'calculating': 1541, 'floor': 1542, 'Programmable': 1543, 'peak': 1544, 'Tsutomu': 1545, 'PIC16': 1546, 'recirculation': 1547, 'principally': 1548, 'Solid': 1549, 'Y(s)}{X(s': 1550, 'holes': 1551, 'Enterprise': 1552, 'refuel': 1553, 'subscalar': 1554, 'permitted': 1555, 'composite': 1556, 'EDVAC': 1557, 'transmitters': 1558, 'insulated': 1559, 'assumptions': 1560, 'vibration': 1561, '\\\\,\\\\': 1562, 'flight': 1563, 'minimum': 1564, 'exceedingly': 1565, 'constraint': 1566, 'current': 1567, 'rather': 1568, 'scientific': 1569, 'downside': 1570, 'GPIB': 1571, 'Full': 1572, 'impression': 1573, 'seal': 1574, 'originally': 1575, 'technologies': 1576, 'body': 1577, 'however': 1578, 'message': 1579, 'management': 1580, 'Times': 1581, 'predictive': 1582, 'consuming': 1583, 'f': 1584, 'megabytes': 1585, 'decoder': 1586, 'removal': 1587, 'decentralised': 1588, 'assumes': 1589, 'repository': 1590, 'failure': 1591, 'know': 1592, 'accidental': 1593, 'spurious': 1594, 'generalised': 1595, 'prefix': 1596, 'spend': 1597, 'multiples': 1598, 'batch': 1599, '1963': 1600, 'Bootstrapping': 1601, 'HGST': 1602, 'shipments': 1603, 'drag': 1604, 'Tunnel': 1605, 'prefixed': 1606, 'indicating': 1607, 'ENIAC': 1608, 'θ': 1609, 'FETs': 1610, 'core': 1611, 'Vertical': 1612, 'truck': 1613, 'should': 1614, 'these': 1615, 'Rate': 1616, 'emulated': 1617, 'See': 1618, 'exchange': 1619, 'commanding': 1620, 'basically': 1621, 'magnet': 1622, 'terminating': 1623, 'sizes': 1624, 'Zobel': 1625, 'sweep': 1626, '>': 1627, 'multiplied': 1628, 'latencies': 1629, 'declined': 1630, 'Digital': 1631, 'down': 1632, 'seamless': 1633, 'digitized': 1634, 'site': 1635, 'military': 1636, 'II': 1637, 'logical': 1638, 'treated': 1639, 'access': 1640, 'moderate': 1641, 'Current': 1642, 'resource': 1643, 'intervals': 1644, 'premium': 1645, 'controls': 1646, 'ensuring': 1647, 'narrower': 1648, 'changed': 1649, 'DVD': 1650, 'components': 1651, '2004–2009': 1652, 'send': 1653, 'continuous': 1654, 'networked': 1655, 'argument': 1656, '2010–2016': 1657, 'analogy': 1658, 'right': 1659, 'interconnect': 1660, '192': 1661, 'sleeping': 1662, 'produce': 1663, 'interrupt': 1664, 'shown': 1665, 'responsible': 1666, 'functionality': 1667, 'accordingly': 1668, 'spends': 1669, 'charging': 1670, 'holds': 1671, 'Sun': 1672, '1/256': 1673, 'search': 1674, 'leverage': 1675, 'Multiple': 1676, 'By': 1677, 'stages': 1678, 'clock': 1679, 'City': 1680, 'than': 1681, 'translucent': 1682, 'makes': 1683, 'found': 1684, 'Related': 1685, 'initializing': 1686, 'adaptive': 1687, '3.33': 1688, 'writes': 1689, 'matters': 1690, '_': 1691, 'nVidia': 1692, 'influential': 1693, 'resonator': 1694, 'making': 1695, 'care': 1696, 'Owing': 1697, 'place': 1698, 'written': 1699, 'algorithms': 1700, 'Express': 1701, 'cards': 1702, 'batteries': 1703, '1.8': 1704, 'length': 1705, 'book': 1706, 'indeed': 1707, 'sockets': 1708, 'Exclusive': 1709, 'action': 1710, 'extensive': 1711, 'librarian': 1712, 'earliest': 1713, 'resistor': 1714, 'enumerated': 1715, 'slowdowns': 1716, 'surfaces': 1717, 'construction': 1718, 'simple': 1719, 'Chrysler': 1720, 'pipelining': 1721, '16nW': 1722, 'Capacity': 1723, 'improves': 1724, 'Interpreters': 1725, 'short': 1726, 'wart': 1727, 'f_{0}\\\\Delta': 1728, 'repeatedly': 1729, 'contain': 1730, 'text': 1731, 'couple': 1732, '0x123456': 1733, 'L3': 1734, 'stopgap': 1735, 'functions': 1736, '57': 1737, 'MiniMIPS.Rather': 1738, 'internet': 1739, 'Phase': 1740, 'entirely': 1741, 'kilometer': 1742, 'official': 1743, 'x16': 1744, 'PIC': 1745, 'extend': 1746, 'idiom': 1747, 'compression': 1748, 'activated': 1749, 'MTBF': 1750, 'recorders': 1751, 'he': 1752, 'indexes': 1753, 'millions': 1754, '\\r\\n            \\r\\n          \\r\\n        \\r\\n      \\r\\n    \\r\\n    ': 1755, 'ordered': 1756, '0.319': 1757, 'under': 1758, 'human': 1759, 'consider': 1760, 'almost': 1761, 'denied': 1762, 'dithering': 1763, 'motors': 1764, 'chip': 1765, 'laser': 1766, 'plus': 1767, 'longitudinal': 1768, 'planes': 1769, 'rule': 1770, 'historically': 1771, 'corners': 1772, 'tubes': 1773, 'hardest': 1774, 'default': 1775, 'hand': 1776, 'highways': 1777, 'LSI': 1778, 'pressure': 1779, 'did': 1780, 'rightly': 1781, 'citation': 1782, 'vehicles': 1783, 'Charging': 1784, 'ultraviolet': 1785, 'without': 1786, 'responsiveness': 1787, 'detecting': 1788, 'LPC4000': 1789, 'designers': 1790, 'sound': 1791, '6501': 1792, 'ICN': 1793, 'merged': 1794, 'distortions': 1795, 'lagging': 1796, 'familiar': 1797, 'interspersed': 1798, 'Resources': 1799, 'auditory': 1800, 'Communications': 1801, 'Switching': 1802, 'Tricore': 1803, 'transmitter': 1804, 'TriCore': 1805, 'hidden': 1806, 'versatile': 1807, 'dozens': 1808, 'Luke': 1809, 'dealing': 1810, 'MAMR': 1811, 'Stream': 1812, 'indirectly': 1813, 'Yale': 1814, 'bridges': 1815, 'supplemental': 1816, 'withstand': 1817, 'Nvidia': 1818, 'Jam': 1819, 'meet': 1820, 'tests': 1821, 'highly': 1822, 'restored': 1823, 'DDR5': 1824, 'Timeline': 1825, 'Haswell': 1826, 'quasi': 1827, 'Federal': 1828, 'memories': 1829, 'extremes': 1830, 'little': 1831, 'shaped': 1832, 'Wilhelm': 1833, 'replace': 1834, 'normally': 1835, 'tuning': 1836, 'basic': 1837, 'Generally': 1838, 'mm': 1839, 'breakdown': 1840, 'influence': 1841, 'Issues': 1842, 'Golf': 1843, 'Software': 1844, 'Price': 1845, 'conditioner': 1846, 'PCIe': 1847, 'ideas': 1848, 'simulator': 1849, 'conveys': 1850, 'jump': 1851, 'interconnections': 1852, 'suffer': 1853, 'alternating': 1854, 'interference': 1855, 'copies': 1856, 'fifth': 1857, 'representation': 1858, 'malware': 1859, 'heterodyne': 1860, 'proliferated': 1861, 'deployed': 1862, 'thin': 1863, 'liquid': 1864, 'optional': 1865, 'material': 1866, 'centric': 1867, 'mostly': 1868, 'States': 1869, 'torque': 1870, '\\r\\n                  \\r\\n                \\r\\n                ': 1871, 'interrupts': 1872, 'surpassed': 1873, 'thermally': 1874, 'unsuitable': 1875, 'identified': 1876, 'multiplication': 1877, 'PCB': 1878, ')': 1879, 'adjust': 1880, 'European': 1881, 'miniaturization': 1882, 'presence': 1883, 'Minimum': 1884, 'scaling': 1885, 'circles': 1886, 'oscillators': 1887, '3200': 1888, 's)&={F(s': 1889, 'Also': 1890, 'estimation': 1891, 'general': 1892, '2000s': 1893, 'KM48SL2000': 1894, 'Analytical': 1895, 'ramp': 1896, 'shipped': 1897, 'Eckert': 1898, 'quickest': 1899, 'MBR': 1900, 'Complex': 1901, 'coprocessor': 1902, 'executed': 1903, 'remade': 1904, 'communication': 1905, 'tables': 1906, 'Where': 1907, 'integral': 1908, 'routing': 1909, 'Partly': 1910, 'trading': 1911, 'assuming': 1912, '1959': 1913, '1.5': 1914, 'President': 1915, 'latency': 1916, 'Recovered': 1917, 'exactly': 1918, 'proliferation': 1919, 'mirroring': 1920, 'afforded': 1921, 'replicated': 1922, 'Multiqueue': 1923, 'period': 1924, 'relies': 1925, 'decodes': 1926, 'permit': 1927, 'End': 1928, 'minimize': 1929, 'translation': 1930, 'combination': 1931, 'platforms': 1932, '536': 1933, 'destinations': 1934, 'intended': 1935, 'Taurus': 1936, 'turnover': 1937, '2.5': 1938, 'cabinet': 1939, 'Relaxation': 1940, 'combinations': 1941, '2010': 1942, ':': 1943, 'How': 1944, 'supervisor': 1945, 'party': 1946, 'piece': 1947, 'matrix': 1948, 'fabricate': 1949, 'gets': 1950, 'fetched': 1951, 'developments': 1952, 'workers': 1953, 'K': 1954, 'instantly': 1955, 'fires': 1956, 'minimizes': 1957, 'µm': 1958, 'easier': 1959, 'Carry': 1960, 'personalized': 1961, 'allowed': 1962, 'lunar': 1963, 'Boyle': 1964, 'conditional': 1965, 'Tom': 1966, 'losses': 1967, 'heuristic': 1968, 'executing': 1969, 'busy': 1970, 'overly': 1971, 'Cache': 1972, '36.5': 1973, 'LDREX': 1974, 'aiming': 1975, 'reduce': 1976, 'Test': 1977, 'exhibiting': 1978, 'installations': 1979, 'flies': 1980, 'factor': 1981, 'appropriate': 1982, 'sophisticated': 1983, 'detected': 1984, 'mainframes': 1985, 'overwhelmed': 1986, 'interpreters': 1987, 'amount': 1988, 'matrices': 1989, 'branching': 1990, 'pathway': 1991, 'reduction': 1992, '80': 1993, 'hospitals': 1994, 'because': 1995, 'bitwise': 1996, 'unmodified': 1997, 'uncorrectable': 1998, 'bootstrap': 1999, 'longest': 2000, 'maintain': 2001, 'Renesas': 2002, 'read': 2003, 'kBytes': 2004, 'Most': 2005, 'pulses': 2006, 'Master': 2007, '52': 2008, 'encoders': 2009, 'Nonlinearity': 2010, 'VHDL': 2011, 'planned': 2012, 'cabinets': 2013, 'left': 2014, 'vs': 2015, 'Coding': 2016, 'amplified': 2017, 'Hall': 2018, 'Federico': 2019, 'disable': 2020, 'Device': 2021, 'ternary': 2022, 'alterable': 2023, 'instance': 2024, 'laptop': 2025, 'aliased': 2026, 'Cruise': 2027, 'consumption': 2028, 'revenues': 2029, 'modulating': 2030, 'Increment': 2031, 'automobile': 2032, '1956': 2033, 'subsets': 2034, 'engineer': 2035, 'quadrants': 2036, 'microprocessor': 2037, 'practice': 2038, 'crimes': 2039, 'SMPS': 2040, 'settled': 2041, 'deal': 2042, 'SASI': 2043, 'classify': 2044, 'observable': 2045, 'Mauchly': 2046, 'Used': 2047, 'finishes': 2048, '×2/3': 2049, 'iron': 2050, 'doubling': 2051, 'each': 2052, 'Render': 2053, 'FPUs': 2054, '2007': 2055, 'published': 2056, 'profile': 2057, 'of': 2058, 'particular': 2059, 'NMOS': 2060, 'crucial': 2061, 'teams': 2062, 'leading': 2063, 'carry': 2064, 'further': 2065, 'increase': 2066, 'load': 2067, 'partitioned': 2068, 'beginning': 2069, 'AT': 2070, 'tended': 2071, 'developed': 2072, 'task': 2073, '2^{M': 2074, 'revolutions': 2075, 'Concrete': 2076, 'date': 2077, 'viewing': 2078, 'are': 2079, 'sectors': 2080, 'elasticity': 2081, 'temperature': 2082, 'strategy': 2083, '44.1': 2084, 'application': 2085, '1993': 2086, '0.18': 2087, 'invokes': 2088, 'blocked': 2089, 'Semiconductors': 2090, 'portions': 2091, 'ran': 2092, 'locks': 2093, 'ARMv6': 2094, 'energy': 2095, 'Texas': 2096, 'mid-1980s': 2097, 'XE166': 2098, 'claimed': 2099, 'Form': 2100, 'LED': 2101, 'FALSE': 2102, 'buildup': 2103, 'Manchester': 2104, 'ALFU': 2105, 'active': 2106, '2A\\\\pi': 2107, 'M.2': 2108, '2305': 2109, 'condition': 2110, 'five': 2111, 'clockless': 2112, 'commerce': 2113, 'widespread': 2114, 'RAM': 2115, 'brick': 2116, 'engine': 2117, 'standstill': 2118, 'truncate': 2119, 'produces': 2120, 'Therefore': 2121, 'GP': 2122, 'cut': 2123, 'passband': 2124, '\\r\\n                    \\r\\n                    ': 2125, 'collections': 2126, 'radial': 2127, 'SSE': 2128, 'black': 2129, 'ECCs': 2130, 'procedure': 2131, 'intelligent': 2132, 'similarly': 2133, 'NIB': 2134, 'o': 2135, 'spots': 2136, 'inverse': 2137, 'implies': 2138, 'Cloud': 2139, 'negate': 2140, 'combined': 2141, 'evolving': 2142, 'locates': 2143, 'approximation': 2144, 'dependent': 2145, 'ready': 2146, 'breadth': 2147, 'subcategory': 2148, 'observed': 2149, 'Higher': 2150, 'integrating': 2151, 'retained': 2152, 'trip': 2153, 'plastic': 2154, 'adverse': 2155, 'Corporation': 2156, 'timers': 2157, '\\r\\n                \\r\\n              \\r\\n            \\r\\n          \\r\\n        \\r\\n        ': 2158, 'mathematics': 2159, 'harmonic': 2160, 'bridging': 2161, 'pipelined': 2162, 'fiber': 2163, 'roads': 2164, 'unrelated': 2165, 'sinusoidal': 2166, 'converts': 2167, 'according': 2168, 'SLI': 2169, 'Conversion': 2170, 'Level': 2171, 'swings': 2172, 'lowest': 2173, 'giving': 2174, 'volume': 2175, 'defragmentation': 2176, 'frequencies': 2177, 'dot': 2178, 'incorporating': 2179, 'unauthorized': 2180, 'AVR': 2181, 'sampling': 2182, 'initialization': 2183, 'parasitic': 2184, 'Billion': 2185, 'cell': 2186, 'extensively': 2187, 'S.M.A.R.T.': 2188, 'Subaru': 2189, 'FSR': 2190, 'on': 2191, 'just': 2192, '210': 2193, 'skewed': 2194, 'reached': 2195, 'lid': 2196, 'handled': 2197, 'HC550': 2198, 'assistant': 2199, 'utilises': 2200, 'socketed': 2201, 'Production': 2202, 'preprocessor': 2203, 'inserted': 2204, 'Polling': 2205, 'H(s': 2206, 'appliance': 2207, 'Burroughs': 2208, 'implantable': 2209, 'thereafter': 2210, '\\r\\n                  \\r\\n                \\r\\n              \\r\\n            \\r\\n          \\r\\n        \\r\\n      \\r\\n    \\r\\n    ': 2211, 'digitally': 2212, 'call': 2213, 'work': 2214, 'micron': 2215, 'Mercedes': 2216, 'static': 2217, 'Inadequate': 2218, 'balancing': 2219, 'starting': 2220, 'deliver': 2221, 'Networks': 2222, 'numeric': 2223, 'regulator': 2224, 'grid': 2225, 'waveform': 2226, 'challenged': 2227, 'medium': 2228, 'micro': 2229, 'ferromagnetic': 2230, 'Xenon': 2231, '1999': 2232, 'Dr.': 2233, 'TLRU': 2234, 'family': 2235, 'sigma': 2236, 'contained': 2237, 'Two': 2238, 'interleaved': 2239, '5.75': 2240, 'throttle': 2241, 'von': 2242, 'pack': 2243, 'mismatch': 2244, 'same': 2245, 'hundred': 2246, 'downsample': 2247, 'IDEs': 2248, 'split': 2249, 'thousand': 2250, 'toys': 2251, 'Queuing': 2252, 'turning': 2253, 'Audio': 2254, '2011.A': 2255, 'tasks': 2256, 'composed': 2257, 'Drive': 2258, 'been': 2259, 'compiler': 2260, 'Starting': 2261, 'resources': 2262, 'sensitivity': 2263, 'Historical': 2264, 'grow': 2265, 'shock': 2266, 'availability': 2267, 'formally': 2268, 'equate': 2269, 'paired': 2270, 'another': 2271, 'I²C': 2272, 'steering': 2273, 'based': 2274, 'tank': 2275, 'slows': 2276, 'providers': 2277, 'Institute': 2278, 'nanowatts': 2279, '7090': 2280, 'Mellinghoff': 2281, 'largest': 2282, 'nominal': 2283, 'applies': 2284, 'NXP': 2285, 'finer': 2286, 'modular': 2287, 'frontend': 2288, '21': 2289, 'properly': 2290, 'Tbit': 2291, 'predecessor': 2292, 'initiative': 2293, 'pointer': 2294, 'respectively': 2295, 'advances': 2296, 'sooner': 2297, 'Usually': 2298, 'adjusting': 2299, 'Space': 2300, 'Other': 2301, 'level': 2302, 'merits': 2303, '2004': 2304, 'moving': 2305, 'PCI': 2306, 'worldwide': 2307, 'compete': 2308, 'R.': 2309, 'traverse': 2310, '2,000': 2311, 'Newtonian': 2312, 'your': 2313, 'Nearly': 2314, 'enclosure': 2315, 'traffic': 2316, 'loop': 2317, 'circular': 2318, 'crashes': 2319, 'prediction': 2320, 'Web': 2321, 'larger': 2322, 'vCPUs': 2323, 'huge': 2324, 'eXtensions': 2325, 'intensive': 2326, '375': 2327, 'optics': 2328, 'throughout': 2329, 'duty': 2330, 'OTP': 2331, 'Quantization': 2332, '1973': 2333, 'O': 2334, 'stamp': 2335, 'Kirchhoff': 2336, 'Equus': 2337, 'constraints': 2338, 'Top': 2339, 'banded': 2340, 'Consider': 2341, 'onboard': 2342, 'Rabbit': 2343, '4004': 2344, 'originate': 2345, 'navigation': 2346, 'Attached': 2347, 'testbed': 2348, 'cycle': 2349, 'Reed': 2350, 'editing': 2351, 'notify': 2352, 'size': 2353, 'storage': 2354, 'ICMP': 2355, 'pedal': 2356, 'carrying': 2357, 'decimal': 2358, 'ovens': 2359, 'commodities': 2360, 'cars': 2361, 'Beside': 2362, 'solar': 2363, '10}(2^{Q})\\\\approx': 2364, 'counting': 2365, 'Translation': 2366, 'Ford': 2367, 'periods': 2368, 'lights': 2369, 'A0': 2370, 'overlook': 2371, 'new': 2372, 'regardless': 2373, '802': 2374, 'spindle': 2375, 'compilation': 2376, 'his': 2377, 'largely': 2378, 'SPECint\\u200d—\\u200chave': 2379, 'Such': 2380, 'Speculative': 2381, 'Pentium': 2382, 'ccache': 2383, 'tap': 2384, 'kernels': 2385, 'reproduction': 2386, 'stack': 2387, 'Bufferbloat': 2388, 'proprietary': 2389, ';': 2390, '\\r\\n            \\r\\n            \\r\\n              ': 2391, 'model': 2392, 'metro': 2393, 'FlexFPU': 2394, 'GMR': 2395, 'Reporting': 2396, 'misses': 2397, 'developers': 2398, 'trigonometric': 2399, 'discover': 2400, '80387': 2401, 'command': 2402, 'directing': 2403, 'invention': 2404, 'schemes': 2405, 'distinguishing': 2406, 'guarantee': 2407, 'lift': 2408, '5,900': 2409, 'pre': 2410, 'tangential': 2411, 'Caching': 2412, 'visualize': 2413, 'demonstration': 2414, 'dictates': 2415, 'frequent': 2416, 'fitting': 2417, 'displaced': 2418, 'rewired': 2419, 'Utilities': 2420, 'overcurrent': 2421, 'characterized': 2422, 'Longer': 2423, 'occurring': 2424, 'distribute': 2425, 'communicate': 2426, 'Components': 2427, 'reports': 2428, 'policy': 2429, 'HDD': 2430, 'themselves': 2431, 'factory': 2432, 'invert': 2433, 'minute': 2434, 'Open': 2435, '\\r\\n                \\r\\n                  \\r\\n                    \\r\\n                      ': 2436, 'Crocus': 2437, 'Supervisory': 2438, 'secondary': 2439, 'XT': 2440, 'interchangeable': 2441, 'For': 2442, 'privileged': 2443, 'd': 2444, 'lands': 2445, 'refinement': 2446, 'suggests': 2447, 'leaving': 2448, 'concerned': 2449, 'Distance': 2450, 'finished': 2451, '80386/80386SX': 2452, 'Teaching': 2453, 'Development': 2454, 'Autocruise': 2455, 'preceding': 2456, 'optical': 2457, 'Laboratory': 2458, 'continued': 2459, 'inverted': 2460, 'shifts': 2461, 'granularity': 2462, 'Instruction': 2463, 'building': 2464, 'SAR': 2465, 'filled': 2466, 'metal': 2467, 'two': 2468, 'achieves': 2469, 'severe': 2470, 'controllers': 2471, '\\\\theta': 2472, 'Recently': 2473, 'serial': 2474, 'center': 2475, 'pair': 2476, 'came': 2477, 'chipset': 2478, 'Moore': 2479, 'wrongdoing': 2480, 'CMBS': 2481, 'downshifting': 2482, 'vertically': 2483, 'partials': 2484, 'Baby': 2485, 'Sallen': 2486, 'adequate': 2487, 'come': 2488, 'Attachment': 2489, 'Testing': 2490, 'situ': 2491, 'tiny': 2492, 'trends': 2493, 'thermionic': 2494, 'differences': 2495, 'R3000': 2496, 'hold': 2497, 'fetches': 2498, 'approximately': 2499, 'motor': 2500, 'injuries': 2501, 'incurring': 2502, 'miniaturized': 2503, 'subsystems': 2504, 'still': 2505, '\\\\begin{aligned}F(s)&=K_{0}\\\\cdot': 2506, '33': 2507, 'fold': 2508, 'facilitate': 2509, 'capacitor': 2510, 'Rotary': 2511, 'end': 2512, 'Series': 2513, 'Road': 2514, 'PDP-8': 2515, '3.75': 2516, 'representations': 2517, 'Likewise': 2518, 'accepted': 2519, 'Konrad': 2520, 'synthesizers': 2521, 'heterodyned': 2522, 'SCPI': 2523, 'lidar': 2524, 'currents': 2525, 'x87': 2526, 'specify': 2527, 'transparent': 2528, 'Technology': 2529, 'discharge': 2530, 'Laptop': 2531, 'solution': 2532, 'allows': 2533, 'responds': 2534, 'spare': 2535, 'Qualcomm': 2536, 'C2000': 2537, 'earth': 2538, 'pages': 2539, 'telephones': 2540, '620': 2541, 'received': 2542, 'clean': 2543, 'producing': 2544, 'amp': 2545, 'UART': 2546, 'invisibly': 2547, 'spacing': 2548, 'front': 2549, 'Hyundai': 2550, 'h': 2551, 'returned': 2552, 'RL78': 2553, 'clearly': 2554, 'episode': 2555, 'dedicated': 2556, 'Michael': 2557, 'Williams': 2558, 'queues': 2559, 'achieve': 2560, 'oxide': 2561, 'outward': 2562, 'geometry': 2563, 'older': 2564, 'spin': 2565, 'kilohertz': 2566, 'remains': 2567, 'included': 2568, 'Gray': 2569, 'Commodore': 2570, 'limiting': 2571, 'predicts': 2572, '704': 2573, 'differentiator': 2574, 'upgradeable': 2575, 'spares': 2576, 'Simulators': 2577, 'caches': 2578, 'travel': 2579, 'Hz': 2580, 'I': 2581, 'Thus': 2582, 'widening': 2583, 'sampler': 2584, 'grains': 2585, 'and ': 2586, 'No': 2587, 'Linux': 2588, 'Limit': 2589, 'before': 2590, 'disconnect': 2591, 'Earth': 2592, 'A': 2593, 'simultaneous': 2594, 'prevents': 2595, 'method': 2596, 'Latches': 2597, 'separated': 2598, 'Acorn': 2599, 'sine': 2600, 'scale': 2601, 'regions': 2602, 'bank': 2603, 'observing': 2604, 'sum': 2605, 'discharging': 2606, 'identity': 2607, '80286': 2608, 'Fibre': 2609, 'strongly': 2610, 'Tukey': 2611, 'vacuum': 2612, 'interrupted': 2613, 'dither': 2614, 'proper': 2615, 'Ones': 2616, 'arrival': 2617, 'reversal': 2618, 'constant': 2619, 'CHS': 2620, 'leftover': 2621, 'dimensions': 2622, 'dirty': 2623, 'sense': 2624, 'infinite': 2625, 'raise': 2626, 'While': 2627, 'isolated': 2628, 'proxy': 2629, 'competently': 2630, 'engines': 2631, 'interpretation': 2632, 'If': 2633, 'crash': 2634, 'H.': 2635, 'Topics': 2636, 'driven': 2637, 'NASA': 2638, 'mode': 2639, 'well': 2640, 'isolation': 2641, 'health': 2642, 'CPP': 2643, 'idle': 2644, 'nonvolatile': 2645, 'setting': 2646, 'n': 2647, 'surges': 2648, 'inch': 2649, 'behave': 2650, 'i.e.': 2651, 'prefetching': 2652, 'parity': 2653, 'centers': 2654, 'sides': 2655, '\\r\\n                \\r\\n                  ': 2656, 'cover': 2657, 'brakes': 2658, 'predict': 2659, 'superseded': 2660, 'presents': 2661, 'Radar': 2662, 'York': 2663, 'strength': 2664, 'NIC': 2665, 'PRML': 2666, '35': 2667, 'dispatched': 2668, 'Principal': 2669, 'University': 2670, 'ports': 2671, '(': 2672, 'product': 2673, 'people': 2674, 'technology': 2675, 'occur': 2676, 'subtraction': 2677, 'investigate': 2678, 'unlike': 2679, 'facilitated': 2680, 'Delay': 2681, 'distortion': 2682, 'pipelines': 2683, '93': 2684, 'connected': 2685, 'V': 2686, 'else': 2687, 'decode': 2688, 'normal': 2689, 'credits': 2690, 'whole': 2691, 'supplied': 2692, '105': 2693, 'being': 2694, 'disc': 2695, '^{t}f(\\\\tau': 2696, 'similar': 2697, 'substrate': 2698, 'pool': 2699, 'bridge': 2700, 'opposing': 2701, 'All': 2702, 'networks': 2703, 'AGUs': 2704, '45': 2705, 'forcing': 2706, 'century': 2707, 'g.': 2708, 'per': 2709, 'prerequisites': 2710, '2006': 2711, 'MIPS': 2712, 'vehicle': 2713, 'TLB': 2714, 'show': 2715, '2001': 2716, 'Gbit': 2717, 'electricity': 2718, 'N=2^{M},\\\\': 2719, 'sigreturn': 2720, 'DSPs': 2721, 'reconfigured': 2722, 'member': 2723, 'stark': 2724, '68000': 2725, 'many': 2726, 'prohibitive': 2727, 'among': 2728, '250': 2729, 'span': 2730, 'texturing': 2731, 'register': 2732, 'sending': 2733, 'transitioned': 2734, 'optimize': 2735, '2020': 2736, 'all': 2737, 'Currents': 2738, 'subsequently': 2739, 'Vel': 2740, 'Laplace': 2741, 'ID': 2742, 'artificial': 2743, 'expressed': 2744, 'SATA2': 2745, 'Non': 2746, 'prepares': 2747, 'Pentiums': 2748, 'correct': 2749, 'record': 2750, 'dictionaries': 2751, 'eventual': 2752, 'Simpler': 2753, 'washing': 2754, '.The': 2755, 'platform': 2756, 'quickly': 2757, 'them': 2758, 'reflects': 2759, 'contains': 2760, 'perfect': 2761, 'humans': 2762, 'Mbit': 2763, 'consistency': 2764, '100,000': 2765, 'maintenance': 2766, 'taken': 2767, 'it': 2768, 'efficiencies': 2769, 'Jaguar': 2770, 'options': 2771, '80287': 2772, 'six': 2773, 'whereas': 2774, 'unveiled': 2775, 'impulse': 2776, 'unreliable': 2777, 'Propulsion': 2778, '224': 2779, 'cooperate': 2780, 'effects': 2781, 'Apple': 2782, 'swing': 2783, 'driver': 2784, 'respond': 2785, 'windows': 2786, 'semantics': 2787, 'Since': 2788, 'far': 2789, 'falling': 2790, 'coherent': 2791, 'cloned': 2792, 'To': 2793, 'convenience': 2794, 'Medical': 2795, 'named': 2796, 'VBB': 2797, 'sites': 2798, 'tear': 2799, 'Volkswagen': 2800, '0.04mm3': 2801, 'dialects': 2802, 'boron': 2803, 'tens': 2804, 'measures': 2805, 'basis': 2806, 'Nano': 2807, 'desktop': 2808, 'crosstalk': 2809, 'legacy': 2810, 'VRefLow': 2811, 'column': 2812, 'microwatts': 2813, 'implementations': 2814, 'takes': 2815, 'Slots': 2816, 'autotransformer': 2817, 'hampers': 2818, 'f_{0}t': 2819, 'allocate': 2820, 'Large': 2821, 'triangular': 2822, 'Korean': 2823, 'motorway': 2824, 'arranged': 2825, 'numerator': 2826, 'abilities': 2827, 'realistic': 2828, '8': 2829, 'queue': 2830, 'weighting': 2831, 'specially': 2832, 'LSRA': 2833, 'emulator': 2834, 'positioning': 2835, 'formats': 2836, 'modes': 2837, 'appeared': 2838, 'transferring': 2839, 'Memoization': 2840, 'card': 2841, 'adjacent': 2842, 'MHz': 2843, '65': 2844, 'K_{0': 2845, 'capital': 2846, 'constellation': 2847, 'GT200': 2848, 'aid': 2849, 'fault': 2850, 'MB': 2851, 'item': 2852, 'digitizes': 2853, 'advantages': 2854, 'DCT': 2855, 'Willard': 2856, 'Tagging': 2857, 'page': 2858, 'reproduce': 2859, 'light': 2860, 'broadcasting': 2861, 'arbitrary': 2862, 'abandoned': 2863, 'apply': 2864, 'Supplies': 2865, 'providing': 2866, 'signs': 2867, 'signal': 2868, 'userspace': 2869, 'where': 2870, 'needs': 2871, 'indicate': 2872, 'variac': 2873, 'drift': 2874, 'small': 2875, 'Explanation': 2876, 'virtualization': 2877, '8048': 2878, 'complementary': 2879, 'plummeted': 2880, 'measured': 2881, '−12': 2882, 'software': 2883, 'functional': 2884, 'demonstrated': 2885, 'GB': 2886, 'details': 2887, '1.76': 2888, 'B6': 2889, '768': 2890, 'N': 2891, 'sequential': 2892, 'sticks': 2893, 'Integrated': 2894, 'working': 2895, 'PWM': 2896, 'multilayered': 2897, 'representing': 2898, '2\\\\pi': 2899, 'narrowed': 2900, 'introduction': 2901, 'wire': 2902, 'module': 2903, 'Using': 2904, 'unprivileged': 2905, 'including': 2906, '1945': 2907, 'obscure': 2908, 'ms': 2909, 'orchestrate': 2910, 'Jeremy': 2911, 'Malware': 2912, 'Motorola': 2913, 'kilometers': 2914, 'prefixes': 2915, 'transactional': 2916, 'conveyed': 2917, 'floating': 2918, 'Ultrastar': 2919, 'due': 2920, 'prepare': 2921, 'occasionally': 2922, 'environments': 2923, 'likelihood': 2924, 'managers': 2925, 'signals': 2926, 'buffers': 2927, 'regarded': 2928, 'Opposite': 2929, 'inverter': 2930, 'pass': 2931, 'spinning': 2932, 'central': 2933, '0MPH': 2934, 'requirements': 2935, 'CCD': 2936, 'Electronic': 2937, 'Google': 2938, '82': 2939, 'entries': 2940, '0.378': 2941, 'weather': 2942, 'now': 2943, 'memory': 2944, 'enormously': 2945, 'packs': 2946, 'notably': 2947, 'content': 2948, 'This': 2949, 'Single': 2950, 'libraries': 2951, 'amounted': 2952, 'oversampled': 2953, 'allowing': 2954, 'list': 2955, '12000': 2956, 'news': 2957, 'relays': 2958, 'loosely': 2959, 'defined': 2960, 'techniques': 2961, 'Braking': 2962, 'words': 2963, 'Modern': 2964, 'Out': 2965, 'reading': 2966, 'templates': 2967, 'who': 2968, 'combine': 2969, 'Parity': 2970, 'Super': 2971, 'recently': 2972, 'solutions': 2973, 'Subtract': 2974, 'CT': 2975, 'M0': 2976, 'flat': 2977, 'notoriously': 2978, 'theoretical': 2979, 'containing': 2980, 'mother': 2981, 'SoC': 2982, 'chassis': 2983, 'servo': 2984, 'outlet': 2985, 'LFRU': 2986, 'ENOB': 2987, 'positions': 2988, 'shared': 2989, 'minutes': 2990, 'Commonly': 2991, 'knowledge': 2992, 'removed': 2993, '3.3': 2994, 'spreadsheet': 2995, 'difficulty': 2996, 'Message': 2997, 'ISA': 2998, 'Seagate': 2999, 'products': 3000, 'by': 3001, 'Formatting': 3002, 'essential': 3003, 'states': 3004, 'typical': 3005, 'assigning': 3006, 'multithreading': 3007, 'proceeding': 3008, 'analysis': 3009, 'Equipment': 3010, 'experimental': 3011, 'rectifier': 3012, 'observes': 3013, 'parallax': 3014, 'solid': 3015, 'filter': 3016, 'X': 3017, 'Voltage': 3018, 'DDR3': 3019, 'no': 3020, 'pressed': 3021, 'extensions': 3022, 'Motherboard': 3023, 'MRAM': 3024, 'controlling': 3025, 'kind': 3026, 'cleaning': 3027, 'accessible': 3028, 'popular': 3029, 'eliminates': 3030, 'zone': 3031, 'upgraded': 3032, 'routable': 3033, 'makeup': 3034, 'configurable': 3035, 'networking': 3036, 'sent': 3037, 'accept': 3038, 'medical': 3039, 'function': 3040, 'convert': 3041, 'circuits': 3042, 'braking': 3043, 'Array': 3044, 'Performance': 3045, 'state': 3046, 'crowbar': 3047, 'tells': 3048, 'jitter': 3049, 'avoids': 3050, 'Malicious': 3051, 'Joint': 3052, 'photovoltaics': 3053, 'Shapiro': 3054, '\\r\\n                  \\r\\n                  \\r\\n                    ': 3055, 'alerts': 3056, 'extraordinary': 3057, 'personal': 3058, 'discernible': 3059, 'house': 3060, '1103': 3061, 'forces': 3062, 'bit/16': 3063, 'mixing': 3064, 'suspend': 3065, 'architectures': 3066, 'reserved': 3067, 'rare': 3068, '1.6': 3069, 'hazard': 3070, 'fashion': 3071, 'lies': 3072, '\\r\\n  \\r\\n    \\r\\n      \\r\\n         \\r\\n        ': 3073, 'codes': 3074, 'Defragmentation': 3075, 'highway': 3076, 'BC-1411': 3077, 'problems': 3078, 'natural': 3079, 'clocks': 3080, 'nonlinear': 3081, 'rendered': 3082, 'aggregate': 3083, 'today': 3084, 'Interpreter': 3085, 'integer': 3086, 'formulae': 3087, 'She': 3088, 'passes': 3089, 'waits': 3090, 'TCP': 3091, 'port': 3092, 'dropped': 3093, 'Portable': 3094, 'canceling': 3095, 'heading': 3096, 'replaces': 3097, 'stability': 3098, 'divider': 3099, 'Verilog': 3100, '1947': 3101, '≈': 3102, 'Stop+': 3103, 'digital': 3104, '1949': 3105, 'decelerated': 3106, 'Group': 3107, 'MAC': 3108, 'CR': 3109, 'traditionally': 3110, 'interactive': 3111, 'Recovery': 3112, 'Marcian': 3113, 'solenoids': 3114, 'Plug': 3115, 'disassembled': 3116, 'offramp': 3117, 'Microprocessor': 3118, 'reflective': 3119, 'Temperature': 3120, '550': 3121, 'company': 3122, 'formerly': 3123, 'processable': 3124, 'much': 3125, 'major': 3126, 'clear': 3127, 'soon': 3128, 'proportionally': 3129, 'Workflow': 3130, 'x(t)=A\\\\sin': 3131, 'SDRAM': 3132, 'Microsoft': 3133, 'Shannon': 3134, 'Clapp': 3135, 'During': 3136, 'mass': 3137, 'transform': 3138, 'Unit': 3139, '1,000,000': 3140, 'OED': 3141, 'transceivers': 3142, 'go': 3143, 'portable': 3144, 'trade': 3145, 'minor': 3146, 'activities': 3147, '2012': 3148, 'pixel': 3149, '68HC11': 3150, 'discrete': 3151, 'treatment': 3152, 'rated': 3153, 'serve': 3154, 'effort': 3155, '355': 3156, 'marketing': 3157, 'IEEE': 3158, '12': 3159, 'An': 3160, 'about': 3161, 'families': 3162, 'metering': 3163, 'repeats': 3164, 'Attempts': 3165, 'word': 3166, 'especially': 3167, 'increasingly': 3168, 'sources': 3169, '1985': 3170, 'thermocouples': 3171, 'designated': 3172, 'databases': 3173, 'Fame': 3174, 'improved': 3175, 'receivers': 3176, 'invoking': 3177, 'modern': 3178, 'totally': 3179, 'measurement': 3180, 'actuators': 3181, 'worst': 3182, 'added': 3183, 'quiet': 3184, 'reach': 3185, 'reduced': 3186, '2009–2014': 3187, 'compensated': 3188, 'Aurix': 3189, 'microcomputers': 3190, 'performance': 3191, 'simplicity': 3192, 'generated': 3193, 'moreover': 3194, 'extends': 3195, 'Motherboards': 3196, 'tablets': 3197, '1.33': 3198, 'Various': 3199, 'weighing': 3200, 'x': 3201, 'rotor': 3202, 'enjoy': 3203, 'hotel': 3204, 'CMOS': 3205, 'blending': 3206, 'amplifier': 3207, 'studios': 3208, 'science': 3209, '\\r\\n        ': 3210, 'D': 3211, '24': 3212, 'Thailand': 3213, 'obtained': 3214, '37': 3215, 'sink': 3216, 'Pacific': 3217, 'Initially': 3218, 'FRAM': 3219, 'block': 3220, 'hall': 3221, 'relying': 3222, 'mid-1990s': 3223, 'E_{\\\\mathrm': 3224, 'Sandy': 3225, '149': 3226, 'compensation': 3227, 'uses': 3228, 'MMC': 3229, 'remove': 3230, 'hash': 3231, 'directory': 3232, 'sacrificing': 3233, '0.3': 3234, 'roadmaps': 3235, 'onset': 3236, 'enough': 3237, 'KASH': 3238, 'reasons': 3239, 'Negative': 3240, 'accomplish': 3241, '\\r\\n          \\r\\n        \\r\\n      \\r\\n    \\r\\n    ': 3242, 'SRAM': 3243, 'shadowing': 3244, 'Stock': 3245, 'includes': 3246, 'flop': 3247, 'expanded': 3248, 'resistance': 3249, 'Exchange': 3250, 'danger': 3251, 'simulation': 3252, 'textures': 3253, 'selection': 3254, 'Nobel': 3255, 'microwave': 3256, 'FPU': 3257, 'displacement': 3258, 'overhead': 3259, 'transmission': 3260, 'Archimedes': 3261, 'Garrett': 3262, 'imply': 3263, 'faulty': 3264, 'Kahng': 3265, 'sinks': 3266, 'outputs': 3267, 'coordinates': 3268, 'provides': 3269, '1949.': 3270, '9.5': 3271, 'Reduced': 3272, 'personnel': 3273, 'way': 3274, '2010–2017': 3275, 'chief': 3276, 'Video': 3277, 'geographic': 3278, 'addressable': 3279, 'ranging': 3280, 'approximated': 3281, 'elevated': 3282, 'integrity': 3283, 'forming': 3284, 'powerful': 3285, 'insulation': 3286, 'fragmented': 3287, 'format': 3288, 'neglected': 3289, 'Data': 3290, 'hardware': 3291, 'rings': 3292, '1988–1996': 3293, 'BMW': 3294, 'remapped': 3295, 'Expansion': 3296, 'gain': 3297, 'Conventional': 3298, 'Analysis': 3299, '\\r\\n        \\r\\n          \\r\\n            ': 3300, 'gearshifting': 3301, 'Gideon': 3302, 'RW': 3303, 'operate': 3304, '0.69': 3305, '1,2': 3306, 'served': 3307, '1967': 3308, 'calculated': 3309, 'disk': 3310, 'face': 3311, 'Collision': 3312, '10000': 3313, 'New': 3314, 'spot': 3315, 'copy': 3316, 'creating': 3317, 'leakage': 3318, 'k': 3319, 'debuted': 3320, 'inclusion': 3321, 'Stop': 3322, 'resolution': 3323, 'Experts': 3324, 'venues': 3325, 'executable': 3326, 'garnet': 3327, 'detailed': 3328, 'Gordon': 3329, 'ASIC': 3330, 'annual': 3331, 'Boysel': 3332, 'proven': 3333, 'rarer': 3334, 'equal': 3335, 'old': 3336, '8080': 3337, 'grade': 3338, 'ion': 3339, 'Textures': 3340, 'always': 3341, 'parts': 3342, 'tooth': 3343, 'hydraulic': 3344, '2021': 3345, 'warned': 3346, 'papers': 3347, 'SFP': 3348, 'perhaps': 3349, 'H8': 3350, 'possibly': 3351, 'Adjustable': 3352, 'act': 3353, 'Variants': 3354, 'triggered': 3355, 'Partition': 3356, 'Chairman': 3357, 'Throughput': 3358, 'Traffic': 3359, 'SSHDs': 3360, 'patterned': 3361, 'implements': 3362, 'Corelli': 3363, '!': 3364, '$': 3365, 'operands': 3366, 'appear': 3367, 'protocol': 3368, 'indicator': 3369, 'passed': 3370, 'Turing': 3371, 'Newer': 3372, 'Cadillac': 3373, 'optimizes': 3374, 'provider': 3375, 'reset': 3376, 'Winchester': 3377, 'FSRA': 3378, 'successors': 3379, 'expansions': 3380, 'CT6': 3381, 'HDMI': 3382, 'Modular': 3383, 'Transistorized': 3384, 'regulators': 3385, 'Today': 3386, 'Zuse': 3387, 'affect': 3388, 'top': 3389, 'designs': 3390, 'CDNs': 3391, 'asynchronous': 3392, 'MP3': 3393, 'Ideally': 3394, 'Wilkinson': 3395, 'linearizes': 3396, '100': 3397, 'Fairchild': 3398, 'arm': 3399, 'In': 3400, 'through': 3401, 'triple': 3402, 'audible': 3403, 'encoded': 3404, 'zip': 3405, 'INL': 3406, 'improving': 3407, 'Gary': 3408, 'distributed': 3409, 'Differential': 3410, 'must': 3411, 'gum': 3412, 'soft': 3413, 'freeway': 3414, 'Filtering': 3415, 'actuator': 3416, 'biased': 3417, 'preferred': 3418, 'SA1000': 3419, 'Infiniti': 3420, 'accuracy': 3421, 'final': 3422, 'grinding': 3423, 'sub': 3424, 'exposing': 3425, '1014': 3426, 'appearance': 3427, 'Random': 3428, 'shallow': 3429, 'manufacturer': 3430, '70,000–180,000': 3431, 'Several': 3432, 'vision': 3433, 'sheet': 3434, '10.5': 3435, 'USD': 3436, 'Wilder': 3437, 'reproduced': 3438, 'checked': 3439, 'becoming': 3440, 'VIA': 3441, 'photo': 3442, 'replacement': 3443, 'incompatibilities': 3444, 'conversions': 3445, 'NICs': 3446, 'resulted': 3447, 'Embedded': 3448, 'borrowed': 3449, 'cylinders': 3450, 'country': 3451, 'name': 3452, 'capacitive': 3453, 'wear': 3454, '\\r\\n              \\r\\n            \\r\\n          \\r\\n        \\r\\n      \\r\\n    \\r\\n    ': 3455, '2.6': 3456, 'Sometimes': 3457, 'Mazor': 3458, 'Free': 3459, 'MOSFET': 3460, 'could': 3461, 'Typically': 3462, 'switch': 3463, 'calls': 3464, 'flabbergasting': 3465, 'spread': 3466, 'warning': 3467, 'frame': 3468, 'tolerance': 3469, 'flash': 3470, 'Computers': 3471, 'E38': 3472, 'idea': 3473, 'controller': 3474, 'L2': 3475, '.': 3476, 'theory': 3477, 'SsangYong': 3478, 'charged': 3479, 'ppm': 3480, 'decoders': 3481, 'SCSI': 3482, 'multi': 3483, 'dwarfed': 3484, 'atomic': 3485, 'binary': 3486, 'mirror': 3487, 'arguments': 3488, 'ball': 3489, 'whose': 3490, 'NVMe': 3491, 'every': 3492, 'Stern': 3493, 'controversial': 3494, 'PSU': 3495, '0.349': 3496, 'note': 3497, 'instruments': 3498, 'fork': 3499, 'economically': 3500, 'minimal': 3501, 'Taken': 3502, 'Cell': 3503, 'With': 3504, 'such': 3505, 'ft': 3506, 'eleven': 3507, '\\u200a ': 3508, 'realized': 3509, 'backward': 3510, 'paging': 3511, 'faithful': 3512, 'L1d': 3513, 'rewarded': 3514, 'Bus': 3515, 'virtually': 3516, 'coefficient': 3517, 'Stamp': 3518, 'versa': 3519, 'spike': 3520, 'switching': 3521, '1970': 3522, 'TLCS-870': 3523, 'S-100': 3524, 'fit': 3525, '\\r\\n': 3526, 'receptacle': 3527, 'debugging': 3528, 'searching': 3529, 'experienced': 3530, 'fragmentation': 3531, 'recomputing': 3532, 'invoke': 3533, 'impact': 3534, 'too': 3535, '3.2': 3536, 'protocols': 3537, 'commercial': 3538, 'utilities': 3539, 'protection': 3540, 'steadily': 3541, 'deviate': 3542, 'limitations': 3543, 'S.M.A.R.T': 3544, '30': 3545, 'trader': 3546, 'figure': 3547, 'mid': 3548, 'retrieve': 3549, 'adapter': 3550, 'priorities': 3551, '2008': 3552, 'Instantly': 3553, 'price': 3554, 'eight': 3555, 'utility': 3556, 'erasable': 3557, '“': 3558, 'penalty': 3559, 'interim': 3560, 'Nantero': 3561, 'generic': 3562, 'Foundation': 3563, 'parameter': 3564, 'put': 3565, 'plaintiffs': 3566, 'Similarly': 3567, 'flags': 3568, 'DNL': 3569, 'protected': 3570, 'favor': 3571, 'power': 3572, 'Processors': 3573, '1311': 3574, 'FORTH': 3575, 'issues': 3576, 'suffices': 3577, 'identifying': 3578, 'category': 3579, 'Function': 3580, 'rough': 3581, 'handling': 3582, 'production': 3583, 'blocks': 3584, '\\r\\n\\r\\n\\r\\n': 3585, 'Information': 3586, 'Insufficient': 3587, 'Shugart': 3588, 'LPC900': 3589, 'environment': 3590, 'twice': 3591, 'speeds).By': 3592, 'display': 3593, 'CD': 3594, 'transactions': 3595, 'monitor': 3596, 'trace': 3597, 'ICs': 3598, 'concurrent': 3599, 'operation': 3600, 'Previous': 3601, 'Only': 3602, '1964': 3603, 'Low': 3604, 'centre': 3605, 'terminology': 3606, 'step': 3607, 'Busicom': 3608, 'jokes': 3609, 'computing': 3610, 'integers': 3611, 'IPS': 3612, 'statistical': 3613, 'uniquely': 3614, 'processing': 3615, 'dimensionless': 3616, '\\r\\n                \\r\\n              \\r\\n            \\r\\n          \\r\\n        \\r\\n      \\r\\n    \\r\\n    ': 3617, 'benchmark': 3618, 'accelerate': 3619, 'refers': 3620, 'Mid': 3621, 'television': 3622, 'kHz': 3623, 'debug': 3624, 'DRCC': 3625, 'share': 3626, 'achieved': 3627, 'efficiency': 3628, 'thwarted': 3629, 'accelerated': 3630, 'immediately': 3631, 'tend': 3632, 'desirable': 3633, 'prescribed': 3634, 'changes': 3635, 'behaviour': 3636, 'Voodoo2': 3637, 'comparators': 3638, 'exabytes': 3639, 'treats': 3640, 'using': 3641, 'above': 3642, 'uncore': 3643, 'return': 3644, 'Adapters': 3645, 'interpreted': 3646, 'concluded': 3647, 'narrow': 3648, 'founded': 3649, 'competitive': 3650, 'designation': 3651, 'hoping': 3652, 'inductance': 3653, 'advent': 3654, 'optimization': 3655, 'integrate': 3656, \"|x'(t)\\\\Delta\": 3657, 'Goldmont': 3658, 'debuggers': 3659, 'Satellite': 3660, 'scheduling': 3661, 'environmental': 3662, 'translating': 3663, 'antialiasing': 3664, 'reel': 3665, 'bays': 3666, 'turbulence': 3667, 'stationary': 3668, 'EMI': 3669, 'Ahmed': 3670, 'According': 3671, 'plane': 3672, 'OS': 3673, '96': 3674, 'voltmeters': 3675, 'edge': 3676, 'good': 3677, 'Bit': 3678, 'built': 3679, 'CL': 3680, 'affects': 3681, '1995': 3682, '−': 3683, 'continuously': 3684, '1978': 3685, 'early': 3686, '203': 3687, 'history': 3688, 'PIC16C84': 3689, 'mechanism': 3690, '11': 3691, 'imperfections': 3692, 'authorities': 3693, 'adequately': 3694, 'WordPerfect': 3695, 'Types': 3696, 'volts': 3697, 'fully': 3698, 'retrieval': 3699, 'graphical': 3700, 'considered': 3701, 'EIDE': 3702, 'AWV2': 3703, 'licensed': 3704, 'crisis': 3705, 'theater': 3706, 'context': 3707, 'transparency': 3708, 'illustrated': 3709, 'exchanges': 3710, 'applying': 3711, '0': 3712, '...': 3713, '\\r\\n  \\r\\n\\r\\n  \\r\\n    \\r\\n      \\r\\n        ': 3714, 'transformed': 3715, 'dominated': 3716, 'transformation': 3717, 'discontinued': 3718, 'Operational': 3719, 'require': 3720, '2000': 3721, 'expand': 3722, 'NAND': 3723, 'NVH': 3724, 'quantizing': 3725, 'speculative': 3726, 'input': 3727, 'trainee': 3728, 'address': 3729, 'gross': 3730, 'STMicroelectronics': 3731, 'ALU': 3732, 'internal': 3733, 'persist': 3734, 'electron': 3735, 'assembled': 3736, 'DIMM': 3737, 'consolidations': 3738, 'interface': 3739, 'LEDs': 3740, 'log': 3741, 'JPL': 3742, 'eliminated': 3743, 'novel': 3744, 'Geforce': 3745, 'chunk': 3746, 'daemon': 3747, 'initialized': 3748, 'optimizing': 3749, 'directly': 3750, 'participant': 3751, 'upgrade': 3752, 'Filter': 3753, 'z13': 3754, 'History': 3755, 'pared': 3756, 'complexity': 3757, 'inefficiency': 3758, 'Introduced': 3759, 'fabrication': 3760, 'Fossum': 3761, 'reinforcing': 3762, 'tones': 3763, 'ultimate': 3764, '1970s': 3765, 'approaching': 3766, 'follows': 3767, 'perpendicular': 3768, 'platter': 3769, 'real': 3770, 'Almost': 3771, 'render': 3772, 'situations': 3773, 'Latency': 3774, 'Flynn': 3775, 'readily': 3776, 'employs': 3777, 'multiprocessing': 3778, 'generate': 3779, 'esoteric': 3780, 'newly': 3781, 'autonomous': 3782, 'factors': 3783, 'mix': 3784, '2018': 3785, 'arrowhead': 3786, 'missed': 3787, 'behind': 3788, 'Timer': 3789, 'Common': 3790, 'chain': 3791, 'mitigated': 3792, 'slicing': 3793, 'some': 3794, 'Marketed': 3795, 'Together': 3796, 'language': 3797, 'visual': 3798, 'comprise': 3799, 'instabilities': 3800, 'ray': 3801, 'sold': 3802, 'Backblaze': 3803, 'holding': 3804, 'matched': 3805, 'maintaining': 3806, 'limits': 3807, 'drastically': 3808, 'disassembly': 3809, 'collisions': 3810, 'transistors': 3811, 'damaged': 3812, 'revealing': 3813, 'smoothed': 3814, 'priced': 3815, 'painted': 3816, 'laptops': 3817, 'XC800': 3818, '8P8C': 3819, 'GPGPU': 3820, '4k': 3821, 'lookaside': 3822, 'itself': 3823, 'processor': 3824, 'varieties': 3825, 'Benz': 3826, 'construct': 3827, 'Y': 3828, 'SATA1': 3829, 'ISO': 3830, 'offers': 3831, 'Aliasing': 3832, 'lack': 3833, 'criterion': 3834, 'Seek': 3835, 'via': 3836, 'Law': 3837, 'adoption': 3838, 'wave': 3839, '931': 3840, 'workload': 3841, 'orders': 3842, 'schematic': 3843, 'LPDDRx': 3844, '68010': 3845, 'frequently': 3846, 'purpose\\u200d—\\u200csuch': 3847, 'shelf': 3848, 'file': 3849, 'low': 3850, 'electrically': 3851, 'occurs': 3852, 'impose': 3853, 'Passengers': 3854, 'GPS': 3855, 'quoted': 3856, 'spatial': 3857, 'TMUs': 3858, 'Rotate': 3859, 'Accordingly': 3860, 'crystal': 3861, 'LAN': 3862, '0.88': 3863, 'widely': 3864, 'f(\\\\tau': 3865, 'workloads': 3866, 'musical': 3867, 'nature': 3868, 'diameter': 3869, 'interruption': 3870, 'electro': 3871, '3½': 3872, 'scales': 3873, 'SMP': 3874, 'pump': 3875, 'interaction': 3876, 'off': 3877, 'relay': 3878, '1⁄8': 3879, 'Harmonic': 3880, 'formulation': 3881, 'fibre': 3882, 'wall': 3883, 'amortizes': 3884, 'inductors': 3885, 'smallest': 3886, 'intensity': 3887, 'nanotube': 3888, 'costly': 3889, 'warn': 3890, 'feasible': 3891, 'Address': 3892, 'custom': 3893, 'alias': 3894, 'lifetime': 3895, 'dumped': 3896, 'variously': 3897, 'farm': 3898, 'architecture': 3899, 'Toyota': 3900, 'led': 3901, 'projected': 3902, 'since': 3903, 'Trading': 3904, 'redundancy': 3905, 'purposes': 3906, 'for': 3907, 'arises': 3908, 'Regulations': 3909, 'started': 3910, 'lossy': 3911, 'inside': 3912, 'sensor': 3913, 'illustration': 3914, 'Often': 3915, 'own': 3916, 'Extensions': 3917, 'deviation': 3918, 'These': 3919, 'completes': 3920, 'things': 3921, 'DDR': 3922, 'X1600': 3923, 'adapted': 3924, 'sees': 3925, 'Stan': 3926, '0.311': 3927, 'Breather': 3928, 'purchased': 3929, 'meshes': 3930, 'manner': 3931, 'items': 3932, 'phase': 3933, 'effect': 3934, 'Server': 3935, 'toll': 3936, 'levels': 3937, 'mechanisms': 3938, 'triodes': 3939, '14': 3940, 'Interface': 3941, 'equivalents': 3942, 'node': 3943, 'CU': 3944, 'variant': 3945, '5,000).In': 3946, 'strips': 3947, 'volt': 3948, 'resolver': 3949, 'flicker': 3950, '2011–2017': 3951, 'CORDIC': 3952, 'Clarkson': 3953, 'reaches': 3954, 'outer': 3955, 'law': 3956, 'EATX': 3957, 'terabyte': 3958, 'arisen': 3959, 'Use': 3960, 'she': 3961, 'strict': 3962, 'sized': 3963, 'renaming': 3964, 'along': 3965, 'preserve': 3966, '\\r\\n                ': 3967, 'carries': 3968, 'ensure': 3969, 'waiting': 3970, 'true': 3971, 'schedules': 3972, 'Leeson': 3973, 'possible': 3974, 'analyzing': 3975, 'LCD': 3976, 'several': 3977, 'generally': 3978, '1986': 3979, 'forecasts': 3980, 'arcing': 3981, 'avoiding': 3982, 'enterprise': 3983, 'Freescale': 3984, 'sample': 3985, 'compatible': 3986, 'Multi': 3987, 'lookups': 3988, 'penalties': 3989, 'also': 3990, 'usefulness': 3991, 'Though': 3992, 'expectancy': 3993, 'meaning': 3994, 'able': 3995, 'assured': 3996, 'sets': 3997, 'Mainframe': 3998, 'Alan': 3999, 'threaded': 4000, '51': 4001, '3D': 4002, 'reference': 4003, 'summed': 4004, 'width': 4005, 'SPARC': 4006, 'e': 4007, 'algorithm': 4008, 'invariant': 4009, 'as': 4010, '5400': 4011, 'recognizable': 4012, 'used': 4013, 'Logic': 4014, 'vendors': 4015, 'resembling': 4016, 'processed': 4017, 'experience': 4018, 'a': 4019, 'Carhart': 4020, 'adjustment': 4021, 'Image': 4022, '1302': 4023, 'intent': 4024, 'Addressing': 4025, 's.': 4026, 'conjunction': 4027, 'replacing': 4028, 'utilizing': 4029, 'balance': 4030, 'PHP': 4031, 'XLR': 4032, 'again': 4033, 'crossings': 4034, 'Upon': 4035, 'accessing': 4036, '2015': 4037, 'geometries': 4038, 'Generate': 4039, 'future': 4040, '200': 4041, 'sin': 4042, 'Both': 4043, 'unneeded': 4044, 'comfort': 4045, 'IDE': 4046, 'L4': 4047, 'UV': 4048, 'orchestrates': 4049, 'evident': 4050, 'oversamples': 4051, 'channel': 4052, 'quartz': 4053, 'density': 4054, '1962': 4055, 'tailored': 4056, 'Capacitive': 4057, 'malfunctions': 4058, 'EFSR': 4059, 'reactive': 4060, 'provided': 4061, 'PDP-11': 4062, 'fails': 4063, 'latch': 4064, 'square': 4065, 'dimensional': 4066, 'researching': 4067, 'inches': 4068, 'kV': 4069, 'exponential': 4070, 'ruthenium': 4071, 'ensures': 4072, 'acts': 4073, 'Hynix': 4074, 'plugin': 4075, 'difficult': 4076, 'cylinder': 4077, 'considerably': 4078, 'Early': 4079, 'represents': 4080, '−1/2': 4081, 'scratch': 4082, 'Controlled': 4083, 'transmitting': 4084, 'aliasing': 4085, 'extent': 4086, 'box': 4087, 'Solomon': 4088, 'primarily': 4089, 'fusion': 4090, 'nodes': 4091, 'V_{\\\\mathrm': 4092, 'consumer': 4093, 'Center': 4094, '-V_{\\\\mathrm': 4095, 'Micro': 4096, 'eroding': 4097, 'Fi': 4098, 'life': 4099, 'Tesla': 4100, 'fine': 4101, 'W220': 4102, 'total': 4103, 'assembler': 4104, 'roughly': 4105, 'physically': 4106, 'integrator': 4107, 'motherboards': 4108, 'set': 4109, 'lower': 4110, 'q': 4111, '0.466': 4112, 'loads': 4113, 'mount': 4114, 'PlayStation': 4115, 'CPUs': 4116, 'topologies': 4117, 'arrives': 4118, 'RK05': 4119, 'device': 4120, 'correction': 4121, 'Market': 4122, 'decaying': 4123, 'dependence': 4124, 'Netperf': 4125, 'communicating': 4126, 'temperatures': 4127, 'related': 4128, 'methodology': 4129, 'sin(ωt+θ0': 4130, 'texture': 4131, 'Cyrix': 4132, 'MSB': 4133, 'Best': 4134, 'mounted': 4135, 'auto': 4136, 'centering': 4137, 'Electrical': 4138, 'Cycles': 4139, 'shifters': 4140, 'start': 4141, 'fastest': 4142, 'capabilities': 4143, 'touching': 4144, 'lockout': 4145, 'gains': 4146, 'benefits': 4147, 'their': 4148, 'absolute': 4149, 'taking': 4150, 'Type': 4151, 'lot': 4152, 'inbuilt': 4153, 'towards': 4154, 'fan': 4155, 'sawtooth': 4156, 'pools': 4157, 'reducing': 4158, 'workstations': 4159, 'lighting': 4160, 'Majesta': 4161, 'delta': 4162, '6.02\\\\cdot': 4163, '\\r\\n                \\r\\n              \\r\\n              ': 4164, 'modeled': 4165, '2nd': 4166, 'wires': 4167, 'serving': 4168, 'hysteresis': 4169, '256': 4170, 'aside': 4171, 'out': 4172, 'updated': 4173, 'sixth': 4174, 'add': 4175, 'Control': 4176, '4096': 4177, 'influencing': 4178, 'followed': 4179, 'rational': 4180, 'cables': 4181, 'midpoint': 4182, 'financial': 4183, 'actually': 4184, 'policies': 4185, 'firmware': 4186, 'operating': 4187, 'local': 4188, 'description': 4189, 'cord': 4190, 'Motor': 4191, 'timer': 4192, 'BNC': 4193, 'saves': 4194, 'CPU': 4195, 'additional': 4196, 'buses': 4197, 'decreasing': 4198, 'Modeling': 4199, 'be': 4200, 'restoring': 4201, 'LFU': 4202, 'hence': 4203, 'exemplars': 4204, 'Typical': 4205, 'Virtual': 4206, 'within': 4207, '4.95': 4208, 'debugger': 4209, \"n't\": 4210, 'calculations': 4211, 'decides': 4212, 'disadvantage': 4213, 'reads': 4214, 'stable': 4215, 'guaranteed': 4216, 'logic': 4217, '1,030': 4218, 'average': 4219, 'drum': 4220, 'although': 4221, 'glass': 4222, 'polynomials': 4223, 'design': 4224, 'branch': 4225, 'Class': 4226, '2019': 4227, 'malicious': 4228, 'interpolation': 4229, 'standardized': 4230, 'proximate': 4231, '9700': 4232, 'prove': 4233, 'Java': 4234, 'multiple': 4235, 'transitioning': 4236, 'modulo': 4237, 'chosen': 4238, 'William': 4239, 'colour': 4240, 'cases': 4241, 'saving': 4242, 'cost': 4243, 'wide': 4244, 'STM8': 4245, 'types': 4246, 'introduced': 4247, 'layer': 4248, 'τ': 4249, 'sorts': 4250, 'BASIC': 4251, 'Switched': 4252, 'attach': 4253, 'RAMAC': 4254, 'stator': 4255, 'positioned': 4256, 'metallic': 4257, 'On': 4258, 'benefit': 4259, 'automotive': 4260, 'stopped': 4261, 'signifying': 4262, ',': 4263, 'Radeon': 4264, '19th': 4265, 'together': 4266, 'perspective': 4267, '}': 4268, 'microphone': 4269, 'quiescent': 4270, 'Replacement': 4271, 'called': 4272, 'dB': 4273, 'sedans': 4274, 'coining': 4275, 'PPS': 4276, 'safe': 4277, 'replaced': 4278, 'relative': 4279, 'KiB': 4280, 'binocular': 4281, 'assemble': 4282, 'connections': 4283, 'standalone': 4284, 'X1900': 4285, 'Celsius': 4286, '\\r\\n\\r\\n': 4287, 'stand': 4288, 'contrast': 4289, 'definition': 4290, 'process': 4291, 'emphasis': 4292, 'Fred': 4293, 'OR': 4294, 'introduce': 4295, 'fluctuations': 4296, 'Integrity': 4297, 'Iperf': 4298, '15,000': 4299, 'calculate': 4300, 'consequence': 4301, 'equals': 4302, 'they': 4303, '\\r\\n          \\r\\n        \\r\\n        ': 4304, 'UDMA': 4305, 'Dynamic': 4306, 'Microcontrollers': 4307, '−3': 4308, 'suited': 4309, 'August': 4310, 'inward': 4311, 'pixels': 4312, 'computerize': 4313, 'quantized': 4314, '299,792,458': 4315, '16': 4316, 'suspicious': 4317, 'deactivate': 4318, 'camera': 4319, 'Safety': 4320, 'RX': 4321, 'TAS': 4322, 'Advanced': 4323, 'slope': 4324, 'reasonable': 4325, 'ultra': 4326, '0.85': 4327, 'ruggedness': 4328, 'retroactively': 4329, 'CPython': 4330, 'Circuit': 4331, 'firing': 4332, 'doubles': 4333, 'Intelligent': 4334, 'Tb': 4335, 'HPC': 4336, 'dealt': 4337, 'initial': 4338, 'placing': 4339, 'feeds': 4340, 'has': 4341, 'plug': 4342, 'laboratory': 4343, 'color': 4344, '175': 4345, 'transmitted': 4346, 'restoration': 4347, 'entering': 4348, 'ISR': 4349, 'EPROM': 4350, 'satisfaction': 4351, 'aspects': 4352, 'loaders': 4353, 'modeling': 4354, 'previous': 4355, 'reloaded': 4356, 'fed': 4357, 'crossed': 4358, 'Toshiba': 4359, 'consisted': 4360, 'writeable': 4361, 'account': 4362, 'bench': 4363, 'Colpitts': 4364, 'brain': 4365, 'Even': 4366, 'compilers': 4367, 'feature': 4368, 'F': 4369, 'delayed': 4370, 'predominantly': 4371, 'induced': 4372, 'complicated': 4373, 'hermetically': 4374, 'give': 4375, 'coverage': 4376, 'eventually': 4377, 'Rack': 4378, 'Another': 4379, 'R300': 4380, 'coordinated': 4381, 'Microchip': 4382, 'easily': 4383, 'Valenter': 4384, 'erasure': 4385, 'mipmapping': 4386, 'Background': 4387, 'SBCs': 4388, 'flew': 4389, 'expect': 4390, 'IGBTs': 4391, 'bundled': 4392, 'battery': 4393, 'until': 4394, 'helps': 4395, 'usage': 4396, 'dominant': 4397, 'Cray': 4398, 'SHO': 4399, 'tracking': 4400, '):': 4401, 'relation': 4402, 'had': 4403, 'noise': 4404, 'giant': 4405, 'SNR': 4406, 'existed': 4407, 'nearline': 4408, 'filtered': 4409, 'ROPs': 4410, 'Laboratories': 4411, 'amplifying': 4412, 'Parallax': 4413, 'properties': 4414, 'documents': 4415, 'USB': 4416, 'him': 4417, 'Drum': 4418, 'Note': 4419, 'coincidentally': 4420, 'physics': 4421, 'suit': 4422, 'atom': 4423, 'configured': 4424, 'ST10': 4425, 'DRAM': 4426, '2003': 4427, 'constructed': 4428, 'fragile': 4429, 'industry': 4430, 'housed': 4431, 'separates': 4432, 'requested': 4433, 'RL': 4434, 'phones': 4435, 'chunks': 4436, 'accurate': 4437, 'multithreaded': 4438, 'stabilizes': 4439, 'data': 4440, 'close': 4441, 'gateway': 4442, 'improvements': 4443, 'stabilize': 4444, 'PLL': 4445, 'PREEMPT_RT': 4446, 'Additional': 4447, 'managing': 4448, 'Its': 4449, 'pulsing': 4450, 'Renault': 4451, 'storing': 4452, 'ECNs': 4453, 'elements': 4454, 'motion': 4455, 'uniformly': 4456, 'NUMA': 4457, 'XTX': 4458, 'dividing': 4459, 'RPS': 4460, 'clocked': 4461, 'impedance': 4462, 'varactor': 4463, 'pushes': 4464, 'rearranges': 4465, 'marketed': 4466, 'RFS': 4467, 'e.g.': 4468, 'flavor': 4469, 'toward': 4470, '\\\\': 4471, 'breather': 4472, 'sounds': 4473, 'helpful': 4474, 'Beginning': 4475, 'Key': 4476, 'Scientific': 4477, 'Trigger': 4478, 'faults': 4479, 'important': 4480, 'alternators': 4481, 'termed': 4482, 'currently': 4483, 'Nasir': 4484, 'scratchpad': 4485, 'realizes': 4486, 'AC': 4487, 'checking': 4488, 't)&=\\\\int': 4489, 'pedals': 4490, 'bitmap': 4491, 'enclosures': 4492, 'plunging': 4493, 'smaller': 4494, 'capability': 4495, '255': 4496, 'photographic': 4497, 'shadowed': 4498, 'pitch': 4499, 'stall': 4500, 'IPC': 4501, 'E': 4502, 'dissipated': 4503, 'drawbacks': 4504, 'formulas': 4505, 'Paul': 4506, 'Access': 4507, 'Moreover': 4508, 'Silicon': 4509, 'remained': 4510, '\\r\\n              \\r\\n                ': 4511, 'quantum': 4512, 'PSoC': 4513, 'PIC32': 4514, 'represented': 4515, 'AL1': 4516, 'era': 4517, 'button': 4518, 'Ada': 4519, 'supporting': 4520, 'occasions': 4521, 'erased': 4522, 'settle': 4523, 'road': 4524, 'NPAR': 4525, 'easy': 4526, 'shipping': 4527, 'when': 4528, 'concurrently': 4529, '{': 4530, 'Parallel': 4531, 'ship': 4532, '1,000,000,000,000': 4533, 'cameras': 4534, 'involving': 4535, 'already': 4536, 'phases': 4537, 'scenes': 4538, 'humidity': 4539, 'presumed': 4540, 'carefully': 4541, 'lasers': 4542, 'specialized': 4543, 'Mark': 4544, 'synchronized': 4545, 'consumers': 4546, 'series': 4547, '0.35': 4548, 'technical': 4549, 'v_{\\\\text{in}}(t)\\\\\\\\\\\\theta': 4550, 'background': 4551, 'resides': 4552, 'communities': 4553, 'undergo': 4554, 'numerical': 4555, 'mounting': 4556, 'theorem': 4557, 'excel': 4558, 'use': 4559, 'employ': 4560, 'sensing': 4561, '8052': 4562, 'listen': 4563, 'linkers': 4564, 'Atalla': 4565, 'sensitive': 4566, 'duration': 4567, 'dynamical': 4568, 'compared': 4569, 'order': 4570, '1971': 4571, 'escalating': 4572, '24/7': 4573, 'Timed': 4574, 'essentially': 4575, 'MMX': 4576, 'Excessive': 4577, 'People': 4578, 'superparamagnetic': 4579, 'primary': 4580, 'Board': 4581, '3': 4582, 'inducted': 4583, 'removable': 4584, 'advertised': 4585, 'polarity': 4586, 'miss': 4587, 'regulate': 4588, 'involvement': 4589, 'installed': 4590, 'Atari': 4591, 'pipeline': 4592, 'M4F': 4593, 'dramatically': 4594, '\\r\\n  \\r\\n    \\r\\n      \\r\\n        ': 4595, 'instructions': 4596, 'exists': 4597, 'displays': 4598, '610': 4599, 'and': 4600, 'demanding': 4601, 'Fast': 4602, 'exploited': 4603, 'energetic': 4604, 'deferring': 4605, 'undistorted': 4606, 'programmable': 4607, 'valued': 4608, 'Norman': 4609, 'annualized': 4610, 'source': 4611, 'compresses': 4612, 'loses': 4613, 'publisher': 4614, 'Lancia': 4615, 'staff': 4616, 'organizations': 4617, 'prototyping': 4618, 'w': 4619, 'possibilities': 4620, 'solve': 4621, 'supplies': 4622, 'development': 4623, '5¼': 4624, 'shingled': 4625, 'capacitors': 4626, 'manufacture': 4627, 'VCXO': 4628, 'maximum': 4629, 'grouped': 4630, 'employed': 4631, 'nearby': 4632, '5,000': 4633, 'very': 4634, 'ongoing': 4635, 'peer': 4636, 'JPEG': 4637, 'H': 4638, 'suitable': 4639, 'recognition': 4640, 'Research': 4641, 'Going': 4642, 'vs.': 4643, 'Wireless': 4644, 'JavaScript': 4645, 'amounts': 4646, 'contours': 4647, 'break': 4648, 'ranges': 4649, 'automation': 4650, 'Disc': 4651, 'numerous': 4652, 'diesel': 4653, 'retrieving': 4654, 'encoder': 4655, 'browsers': 4656, 'congestion': 4657, '48': 4658, 'asynchronously': 4659, 'lifespan': 4660, 'Outputs': 4661, 'broadcast': 4662, 'facilitating': 4663, '1000': 4664, 'implementing': 4665, 'delivering': 4666, '2½': 4667, '109': 4668, 'Relays': 4669, 'implemented': 4670, 'fixed': 4671, 'AccuWeather': 4672, 'evolved': 4673, 'unit': 4674, '22': 4675, 'calculator': 4676, 'satellite': 4677, 'raw': 4678, 'Many': 4679, 'PIC24': 4680, 'thousands': 4681, 'four': 4682, 'Total': 4683, 'returning': 4684, 'Predictive': 4685, 'then': 4686, 'high': 4687, 'sliding': 4688, 'Some': 4689, 'TDA1670A': 4690, 'traditional': 4691, 'Ulrich': 4692, 'diode': 4693, 'example': 4694, 'advertising': 4695, 'synchronize': 4696, 'reasonably': 4697, 'SIMD': 4698, 'lookup': 4699, 'enhancement': 4700, 'Europe': 4701, 'different': 4702, 'finally': 4703, 'ATA': 4704, 'Compact': 4705, 'Transfer': 4706, 'M': 4707, 'beneath': 4708, 'proportional': 4709, 'objectionable': 4710, 'fragments': 4711, 'angle': 4712, 'specific': 4713, 'Because': 4714, 'propagation': 4715, 'Moving': 4716, 'contaminants': 4717, 'Head': 4718, 'corruptions': 4719, 'bypassed': 4720, 'degree': 4721, 'outgoing': 4722, 'bottom': 4723, 'referred': 4724, 'integrated': 4725, 'arithmetic': 4726, 'retrieves': 4727, 'incorporated': 4728, 'accurately': 4729, 'Pipelining': 4730, 'receiver': 4731, 'package': 4732, 'exceeds': 4733, 'instantaneously': 4734, 'ZDX': 4735, 'range': 4736, 'queuing': 4737, 'pole': 4738, 'contributors': 4739, 'requiring': 4740, 'featured': 4741, 'microcontroller': 4742, 'B': 4743, 'Modified': 4744, 'Vehicles': 4745, 'less': 4746, '0.59': 4747, 'keying': 4748, 'closer': 4749, 'Said': 4750, 'exits': 4751, 'boosting': 4752, 'M.': 4753, 'film': 4754, 'characters': 4755, 'programs': 4756, 'GUID': 4757, 'scene': 4758, 'fast': 4759, 'blockchain': 4760, 'summer': 4761, 'perception': 4762, 'Assistant': 4763, 'consequently': 4764, 'stop': 4765, 'TDMR': 4766, 'SSD': 4767, 'threading': 4768, 'machinery': 4769, 'May': 4770, 'SE': 4771, 'streams': 4772, 'identical': 4773, 'unique': 4774, 'Flat': 4775, 'RPM.': 4776, 'Chip': 4777, 'Units(TF': 4778, 'Cartesian': 4779, 'mathematician': 4780, 'delays': 4781, 'XOR': 4782, 'assume': 4783, 'quad': 4784, 'coupled': 4785, 'supports': 4786, 'remapping': 4787, 'DNS': 4788, 'Mathematics': 4789, 'image': 4790, 'optimum': 4791, 'single': 4792, 'lets': 4793, 'throughput': 4794, 'sweet': 4795, 'crossbar': 4796, 'evicts': 4797, 'precisely': 4798, 'unusual': 4799, 'AiResearch': 4800, 'lesser': 4801, 'age': 4802, 'compares': 4803, 'omitted': 4804, 'commonplace': 4805, 'branches': 4806, 'acoustic': 4807, 'delaying': 4808, 'communications': 4809, 'impractical': 4810, 'segments': 4811, 'bringing': 4812, 'VMX': 4813, 't': 4814, 'damage': 4815, 'Iterative': 4816, 'File': 4817, 'reels': 4818, 'tuner': 4819, 'X100': 4820, 'contemporary': 4821, 'C': 4822, 'ripple': 4823, 'origins': 4824, 'URL': 4825, 'nonlinearities': 4826, 'convention': 4827, 'monotonous': 4828, 'Jet': 4829, '..': 4830, 'disabling': 4831, 'classification': 4832, 'televisions': 4833, 'specifications': 4834, 'standard': 4835, '6': 4836, 'middle': 4837, 'altered': 4838, 'Front': 4839, 'transistor': 4840, 'compatibility': 4841, 'thick': 4842, 'Range': 4843, 'opted': 4844, '1,000,000,000': 4845, 'flip': 4846, 'concentrated': 4847, 'need': 4848, 'errors': 4849, 'patterns': 4850, 'elsewhere': 4851, 'consistent': 4852, 'Loop': 4853, 'Dennard': 4854, '0.4': 4855, '16–17': 4856, 'Δ': 4857, 'Time': 4858, 'grown': 4859, 'recognize': 4860, 'Serial': 4861, 'ordinary': 4862, 'floors': 4863, 'POWER4': 4864, 'reconstruct': 4865, 'records': 4866, 'mouse': 4867, 'f_{0': 4868, 'GPUs': 4869, 'original': 4870, '95': 4871, 'algorithmic': 4872, 'reflecting': 4873, 'The': 4874, '\\r\\n                      ': 4875, 'paths': 4876, 'modulation': 4877, '\\r\\n        \\r\\n      \\r\\n    \\r\\n    ': 4878, 'Synchronous': 4879, 'DDR4': 4880, 'write': 4881, '10,000': 4882, 'MS': 4883, 'FDD': 4884, '120': 4885, 'Memorandum': 4886, 'operand': 4887, 'Oscillators': 4888, 'hub': 4889, 'assigned': 4890, '#': 4891, 'tends': 4892, 'bills': 4893, '\\u2060': 4894, '96.3': 4895, 'filtering': 4896, 'Implementation': 4897, 'names': 4898, 'guided': 4899, 'Writeable': 4900, '115': 4901, 'sell': 4902, 'completely': 4903, 'IP': 4904, 'Joel': 4905, 'instability': 4906, 'cause': 4907, 'Pipeline': 4908, 'wanted': 4909, 'Macintosh': 4910, '2500': 4911, 'Ethernet': 4912, 'extremely': 4913, 'POWER5': 4914, 'unchanged': 4915, 'completing': 4916, 'successively': 4917, 'partly': 4918, 'synthesizing': 4919, 'recent': 4920, 'comfortably': 4921, 'Intel': 4922, 'Further': 4923, 'GPU': 4924, 'TTU': 4925, 'discharged': 4926, 'Electronics': 4927, 'heavy': 4928, 'dust': 4929, 'circumvent': 4930, 'rise': 4931, '1965': 4932, 'up': 4933, 'defendants': 4934, 'row': 4935, 'automatically': 4936, 'As': 4937, 'loss': 4938, 'gating': 4939, 'kbit': 4940, 'They': 4941, 'synchronous': 4942, 'player': 4943, 'DCOs': 4944, 'forwarding': 4945, 'consist': 4946, 'reported': 4947, 'ping': 4948, 'booting': 4949, 'Arithmetic': 4950, 'ICE': 4951, 'Microcomputers': 4952, 'boards': 4953, 'depends': 4954, 'It': 4955, 'coming': 4956, 'ignores': 4957, 'existence': 4958, 'prototype': 4959, 'rim': 4960, 'represent': 4961, 'uncomfortably': 4962, 'nonlinearity': 4963, 'elliptic': 4964, 'improve': 4965, 'DOS': 4966, 'supply': 4967, 'overtaken': 4968, 'Improvements': 4969, 'lasting': 4970, 'Possible': 4971, 'MP': 4972, 'Housfield': 4973, '1983': 4974, 'analyze': 4975, 'Atmel': 4976, 'Provided': 4977, 'benchmarks': 4978, 'class': 4979, 'permanent': 4980, '4-': 4981, '90–95': 4982, 'modifies': 4983, 'year': 4984, 'lane': 4985, 'audio': 4986, 'encoding': 4987, 'announced': 4988, 'may': 4989, 'byte': 4990, 'oven': 4991, 'virtual': 4992, 'swinging': 4993, 'buy': 4994, 'match': 4995, 'scheme': 4996, 'rotate': 4997, '2014': 4998, 'Cortex': 4999, 'digitization': 5000, 'Celsior': 5001, 'November': 5002, 'LS': 5003, 'differential': 5004, 'integrates': 5005, 'cheapest': 5006, 'assist': 5007, 'successful': 5008, 'overtaking': 5009, 'implement': 5010, 'x1': 5011, 'interfaces': 5012, 'topology': 5013, 'routes': 5014, 'merely': 5015, 'undetected': 5016, 'framebuffer': 5017, 'harm': 5018, 'summarized': 5019, 'synchronously': 5020, 'peripheral': 5021, 'slight': 5022, 'partitioning': 5023, 'coil': 5024, 'failing': 5025, 'jumped': 5026, 'halt': 5027, 'IBM': 5028, 'Analog': 5029, 'fact': 5030, 'randomize': 5031, 'mapped': 5032, 'include': 5033, 'texels': 5034, 'conducted': 5035, 'biggest': 5036, 'simply': 5037, 'world': 5038, 'oscilloscopes': 5039, 'PATA': 5040, 'norm': 5041, '180': 5042, '%': 5043, 'vertex': 5044, '\\r\\n          ': 5045, 'save': 5046, 'degeneration': 5047, 'driving': 5048, 'expense': 5049, 'having': 5050, 'Given': 5051, '\\\\displaystyle': 5052, '1998': 5053, 'goal': 5054, 'line': 5055, 'Pass': 5056, 'Programming': 5057, 'checksum': 5058, 'One': 5059, 'modules': 5060, 'argued': 5061, 'L1': 5062, 'adjusts': 5063, 'weight': 5064, 'AND': 5065, 'Capabilities': 5066, 'away': 5067, 'patent': 5068, 'R600': 5069, 'writing': 5070, '2018–2019': 5071, 'collected': 5072, 'shorter': 5073, 'Third': 5074, '2016': 5075, 'However': 5076, 'rpm': 5077, 'billion': 5078, 'managed': 5079, 'historic': 5080, 'disperse': 5081, '1910': 5082, 'requests': 5083, 'applied': 5084, 'Depending': 5085, 'checks': 5086, 'companies': 5087, 'rear': 5088, 'R': 5089, 'its': 5090, 'reliability': 5091, 'punched': 5092, 'Volt': 5093, 'press': 5094, 'avoid': 5095, '221': 5096, 'F150': 5097, 'improvement': 5098, 'Details': 5099, 'Database': 5100, 'potentially': 5101, 'Hardwired': 5102, 'Successive': 5103, 'BPR': 5104, 'definitions': 5105, 'measuring': 5106, 'Beneath': 5107, 'physical': 5108, '335': 5109, 'recipient': 5110, 'incremented': 5111, 'described': 5112, 'sinewave': 5113, 'Japanese': 5114, 'while': 5115, 'neighbouring': 5116, 'maintained': 5117, 'what': 5118, 'Inductors': 5119, 'Brake': 5120, 'regularly': 5121, 'MiB': 5122, 'workflow': 5123, 'seconds': 5124, 'Faggin': 5125, 'ranged': 5126, 'tight': 5127, '0680': 5128, 'wound': 5129, 'comparing': 5130, 'browser': 5131, 'study': 5132, 'least': 5133, '0.07–0.18': 5134, 'dissipate': 5135, 'generation': 5136, 'propagated': 5137, 'RWs': 5138, 'constantly': 5139, 'UK': 5140, 'continuation': 5141, 'stacks': 5142, 'Significantly': 5143, 'dissipation': 5144, 'robust': 5145, 'nesting': 5146, 'stale': 5147, 'computational': 5148, 'Tuning': 5149, 'closed': 5150, 'stimulation': 5151, 'detection': 5152, 'leak': 5153, 'blur': 5154, 'stock': 5155, 'Sound': 5156, 'microprogram': 5157, 'reconstructed': 5158, 'manufacturing': 5159, 'March': 5160, 'dynamics': 5161, 'detects': 5162, 'rounding': 5163, 'outcome': 5164, 'round': 5165, 'parameters': 5166, 'Flash': 5167, 'predictor': 5168, 'prior': 5169, 'ever': 5170, 'steps': 5171, 'Cached': 5172, 'exact': 5173, 'integration': 5174, 'Improved': 5175, 'wise': 5176, 'Average': 5177, 'ie': 5178, 'portability': 5179, 'market': 5180, 'comparable': 5181, 'Power': 5182, 'capacities': 5183, 'extended': 5184, 'GV': 5185, 'Application': 5186, 'stalled': 5187, 'consists': 5188, 'textured': 5189, 'entry': 5190, 'corresponding': 5191, 'computed': 5192, 'portion': 5193, 'video': 5194, '0s': 5195, 'nanometers': 5196, 'microATX': 5197, 'handle': 5198, 'Resolution': 5199, 'option': 5200, 'autopilot': 5201, 'yields': 5202, 'co': 5203, 'rapidly': 5204, 'unwanted': 5205, 'utilization': 5206, '[': 5207, 'segment': 5208, 'soldered': 5209, 'organize': 5210, 'obstacles': 5211, '68881': 5212, 'system': 5213, 'Prices': 5214, 'shift': 5215, 'mb': 5216, 'air': 5217, 'Crossfire': 5218, 'code': 5219, 'present': 5220, '2016.While': 5221, 'Microcontroller': 5222, 'Over': 5223, 'bought': 5224, 'loaded': 5225, 'synthesis': 5226, 'from': 5227, 'adapt': 5228, 'Y.': 5229, 'tomography': 5230, 'challenge': 5231, 'Denys': 5232, 'recognizing': 5233, 'Q\\\\': 5234, 'Conversely': 5235, 'Speed': 5236, 'technique': 5237, 'Zero': 5238, 'usable': 5239, 'ECC': 5240, 'creep': 5241, 'bandwidth': 5242, 'Secondly': 5243, 'link': 5244, 'both': 5245, 'proposed': 5246, 'tools': 5247, 'Rand': 5248, 'count': 5249, 'literature': 5250, 'certain': 5251, 'assembly': 5252, 'significantly': 5253, 'traced': 5254, 'pivot': 5255, 'magnitude': 5256, 'arc': 5257, 'AMULET': 5258, 'moon': 5259, 'machine': 5260, 'roles': 5261, 'delay': 5262, 'classes': 5263, 'devices': 5264, 'cycles': 5265, 'modems': 5266, 'classic': 5267, 'partially': 5268, 'web': 5269, 'stretch': 5270, 'Lovelace': 5271, '”': 5272, 'PDIF': 5273, 'paradigm': 5274, 'Audi': 5275, '–': 5276, 'defect': 5277, 'Interrupt': 5278, '3.5': 5279, 'mapping': 5280, 'transitions': 5281, 'Microcode': 5282, 'attempting': 5283, 'panel': 5284, 'or': 5285, 'Add': 5286, 'created': 5287, 'UltraSPARC': 5288, 'Writing': 5289, 'fields': 5290, 'continue': 5291, 'ultimately': 5292, 'Programmed': 5293, 'J.': 5294, '1957': 5295, 'leave': 5296, 'Business': 5297, 'error': 5298, 'instructed': 5299, 'hypothetical': 5300, 'inductive': 5301, 'quantity': 5302, 'slowing': 5303, 'reporting': 5304, 'dongle': 5305, 'ns': 5306, 'Y(s': 5307, 'High': 5308, 'locked': 5309, 'Prize': 5310, 'confusion': 5311, 'September': 5312, '1960': 5313, 'houses': 5314, 'layers': 5315, 'volumes': 5316, 'Mitigation': 5317, 'TB': 5318, 'sealed': 5319, '\\\\\\\\\\\\end{aligned': 5320, 'LPC3000': 5321, 'inner': 5322, 'creates': 5323, 'spins': 5324, 'airports': 5325, 'sought': 5326, 'Saar': 5327, 'Bridge': 5328, 'PCs': 5329, 'engineers': 5330, 'allowable': 5331, 'cooled': 5332, 'Computable': 5333, '53': 5334, 'platters': 5335, 'FET': 5336, 'undamaged': 5337, 'AUI': 5338, 'compute': 5339, 'asserting': 5340, 'vehicular': 5341, 'readable': 5342, 'optimal': 5343, 'runs': 5344, 'credit': 5345, '1935': 5346, 'owing': 5347, 'fahrenheit': 5348, 'oldest': 5349, 'Once': 5350, 'Cylinder': 5351, 'studies': 5352, 'Mitsubishi': 5353, 'th': 5354, '528': 5355, 'Content': 5356, 'specified': 5357, 'Engine': 5358, 'believes': 5359, 'difference': 5360, 'eviction': 5361, 'salt': 5362, 'listed': 5363, 'examines': 5364, 'MT': 5365, 'documentation': 5366, 'burn': 5367, 'particularly': 5368, 'ripples': 5369, 'rotating': 5370, 'negated': 5371, 'prefer': 5372, 'bits': 5373, '\\r\\n              \\r\\n            \\r\\n            \\r\\n              \\r\\n                ': 5374, 'avoidance': 5375, 'adjustable': 5376, 'greater': 5377, 'ladder': 5378, 'S08': 5379, '-': 5380, 'game': 5381, 'never': 5382, 'frequency': 5383, 'B7': 5384, 'to': 5385, 'usually': 5386, 'coprocessors': 5387, 'altering': 5388, 'plate': 5389, 'those': 5390, 'Multipole': 5391, 'Bulldozer': 5392, 'slats': 5393, 'STT': 5394, 'into': 5395, 'Older': 5396, 'op': 5397, 'Gear': 5398, 'oscillating': 5399, 'horizontally': 5400, 'Late': 5401, 'so': 5402, 'library': 5403, 'forecast': 5404, 'telephone': 5405, 'incur': 5406, 'Uninterruptible': 5407, 'decade': 5408, '230': 5409, 'dispatcher': 5410, 'paper': 5411, 'summary': 5412, 'misled': 5413, 'correctable': 5414, 'Coprocessors': 5415, 'select': 5416, 'organization': 5417, 'microcomputer': 5418, '3,600': 5419, 'paced': 5420, 'parallel': 5421, 'considerable': 5422, 'controllable': 5423, 'global': 5424, 'photonic': 5425, 'handful': 5426, 'removes': 5427, 'Adobe': 5428, 'drop': 5429, '64': 5430, 'path': 5431, 'Texture': 5432, 'sacrifice': 5433, 'electrothermal': 5434, 'sections': 5435, 'leaks': 5436, 'ubiquity': 5437, 'emulation': 5438, 'rest': 5439, 'failed': 5440, 'conditions': 5441, 'circuit': 5442, 'velocity': 5443, 'transformations': 5444, 'WE32206': 5445, 'capacity': 5446, 'advanced': 5447, 'instead': 5448, 'collision': 5449, 'mboard': 5450, 'produced': 5451, 'setup': 5452, 'movement': 5453, 'misnomer': 5454, 'graphics': 5455, 'reverse': 5456, 'ground': 5457, 'withdrawn': 5458, 'rack': 5459, 'Doe': 5460, 'throughputs': 5461, 'conditioning': 5462, 'music': 5463, 'DVI': 5464, 'kinds': 5465, 'rendering': 5466, '232': 5467, 'editors': 5468, 'detect': 5469, 'extract': 5470, 'behaves': 5471, 'Simulations': 5472, 'correlated': 5473, 'exacerbate': 5474, 'Sense': 5475, '2': 5476, 'resize': 5477, 'violating': 5478, 'bus': 5479, 'orchestrating': 5480, 'Following': 5481, 'case': 5482, 'open': 5483, 'memoization': 5484, 'John': 5485, 'Clock': 5486, 'comes': 5487, 'Hoff': 5488, 'tape': 5489, 'collection': 5490, 'begins': 5491, 'projections': 5492, 'Mobile': 5493, 'diagrams': 5494, '\\\\mathrm': 5495, 'AWV1': 5496, 'linearly': 5497, 'manufactured': 5498, 'migrate': 5499, 'evidenced': 5500, 'growing': 5501, '7.1': 5502, 'Grand': 5503, 'Sophisticated': 5504, 'expresses': 5505, '1024': 5506, 'backplane': 5507, 'T': 5508, '5000': 5509, 'do': 5510, 'tapes': 5511, 'Back': 5512, 'manually': 5513, 'Design': 5514, 'if': 5515, 'think': 5516, 'assisted': 5517, 'World': 5518, 'X(s': 5519, 'acknowledgement': 5520, 'separately': 5521, 'adjustments': 5522, 'Buffer': 5523, 'opaque': 5524, 'minicomputers': 5525, 'keyboards': 5526, 'stores': 5527, 'spite': 5528, 'across': 5529, 'megahertz': 5530, '\\r\\n              ': 5531, 'multiplier': 5532, 'Richard': 5533, 'lumped': 5534, 'triangle': 5535, 'Technical': 5536, 'First': 5537, 'carbon': 5538, 'spectrum': 5539, 'remote': 5540, 'Feedback': 5541, 'misleadingly': 5542, 'Slow': 5543, 'SROP': 5544, 'counters': 5545, 'floppy': 5546, 'vice': 5547, 'groups': 5548, 'covering': 5549, 'existing': 5550, 'caused': 5551, 'freely': 5552, 'Python': 5553, 'stiff': 5554, 'therefore': 5555, 'QX4': 5556, 'initially': 5557, 'information': 5558, 'store': 5559, 'Lee': 5560, 'specification': 5561, 'Inter': 5562, 'Olympus': 5563, 'loader': 5564, 'Dither': 5565, 'facilities': 5566, 'Hybrid': 5567, 'infrastructure': 5568, 'Watson': 5569, '\\r\\n              \\r\\n              \\r\\n                \\r\\n                ': 5570, 'operational': 5571, 'here': 5572, 'introduces': 5573, 'Memory': 5574, 'Infineon': 5575, 'program': 5576, 'Compilers': 5577, 'jumps': 5578, 'PS/2': 5579, 'oscillation': 5580, 'location': 5581, 'counted': 5582, 'Jeep': 5583, '2011–2014': 5584, 'volatility': 5585, 'labor': 5586, 'controlled': 5587, '500': 5588, 'LRU': 5589, 'hundreds': 5590, 'Bell': 5591, 'Athlon': 5592, 'partial': 5593, 'predictions': 5594, 'determines': 5595, 'laid': 5596, '400': 5597, 'rotates': 5598, '2009': 5599, 'diskpart': 5600, 'SDCC': 5601, 'wait': 5602, '50': 5603, 'Campbell': 5604, 'correctly': 5605, 'shrink': 5606, 'AMD': 5607, 'simplifying': 5608, 'Q={\\\\dfrac': 5609, 'analysisThe': 5610, '0x56': 5611, 'randomizing': 5612, 'limit': 5613, 'Architecture': 5614, 'Acura': 5615, 'vendor': 5616, 'evaluates': 5617, 'target': 5618, 'efficient': 5619, 'host': 5620, '1977': 5621, 'cooling': 5622, 'arise': 5623, 'Competition': 5624, 'GPIO': 5625, 'substantially': 5626, 'deployment': 5627, 'Cima': 5628, 'rotational': 5629, 'imperfect': 5630, 'unnecessary': 5631, 'coinage': 5632, 'were': 5633, 'Cherokee': 5634, 'electronic': 5635, 'others': 5636, 'Mechanics': 5637, 'multiplexing': 5638, 'agriculture': 5639, 'Computations': 5640, 'attenuation': 5641, 'Assisting': 5642, 'overwhelming': 5643, 'Entities': 5644, 'reduces': 5645, 'evicted': 5646, 'redundant': 5647, 'appliances': 5648, 'watches': 5649, 'uniform': 5650, 'Charge': 5651, '\\r\\n  \\r\\n\\r\\n\\r\\n': 5652, 'grew': 5653, 'optimized': 5654, 'translate': 5655, 'sequences': 5656, 'seek': 5657, 'stubs': 5658, 'Magnetic': 5659, '−10': 5660, 'Maximum': 5661, 'briefly': 5662, 'main': 5663, 'mathematical': 5664, 'Weather': 5665, 'perpetual': 5666, 'Caches': 5667, '−128': 5668, '709': 5669, 'Increasing': 5670, '\\\\begin{aligned}f(t)&=f_{0}+K_{0}\\\\cdot': 5671, 'sends': 5672, 'decide': 5673, 'locally': 5674, 'EcoRAM': 5675, 'saturation': 5676, 'counter': 5677, 'suffers': 5678, 'relate': 5679, 'acceleration': 5680, '1/10th': 5681, 'Ultimately': 5682, '19': 5683, 'stepper': 5684, 'rail': 5685, 'E_{ap}\\\\leq': 5686, 'dynamic': 5687, 'Consequently': 5688, 'reprogram': 5689, 'commonly': 5690, 'stated': 5691, 'interval': 5692, 'sustained': 5693, 'obtain': 5694, 'AT91SAM': 5695, 'swizzled': 5696, 'wideband': 5697, 'lost': 5698, 'widths': 5699, 'scalar': 5700, 'precluded': 5701, '2010–2017.The': 5702, 'requester': 5703, 'measurements': 5704, 'multitasking': 5705, 'Considerable': 5706, 'resonant': 5707, 'Progressively': 5708, 'selectivity': 5709, 'offerings': 5710, 'fundamental': 5711, 'calculates': 5712, 'L': 5713, 'pH': 5714, 'W222': 5715, 'office': 5716, 'response': 5717, 'predicted': 5718, 'analyses': 5719, 'Smaller': 5720, 'copper': 5721, 'marked': 5722, 'US': 5723, 'Extreme': 5724, 'prefetch': 5725, 'architectural': 5726, 'three': 5727, 'Nintendo': 5728, 'reflected': 5729, 'attached': 5730, 'million': 5731, 'table': 5732, 'loops': 5733, 'depend': 5734, 'progress': 5735, '2022': 5736, 'Integrating': 5737, 'kept': 5738, 'manage': 5739, 'institutions': 5740, 'number': 5741, '15622': 5742, 'supplanting': 5743, 'acceptable': 5744, 'standardization': 5745, 'clears': 5746, 'space': 5747, 'overheating': 5748, 'SSI': 5749, 'R8C': 5750, 'converter': 5751, 'Rotational': 5752, 'problem': 5753, 'longer': 5754, 'Advances': 5755, 'H(s)={\\\\frac': 5756, 'make': 5757, 'have': 5758, '360': 5759, 'proved': 5760, 'distinguish': 5761, 'transport': 5762, 'might': 5763, 'digits': 5764, 'manifesto': 5765, 'Opteron': 5766, 'help': 5767, '1016': 5768, '|': 5769, 'sufficiently': 5770, 'effects\\u2060': 5771, 'modified': 5772, '20': 5773, 'evolve': 5774, 'bit': 5775, 'System': 5776, 'patches': 5777, 'Program': 5778, 'ferroelectric': 5779, 'meant': 5780, 'virtue': 5781, 'there': 5782, 'loading': 5783, 'dispatch': 5784, 'manipulation': 5785, 'Designs': 5786, 'RefHi': 5787, 'resonance': 5788, 'Examples': 5789, 'sequence': 5790, 'this': 5791, '1950': 5792, 'alone': 5793, 'mentioned': 5794, 'Any': 5795, 'usability': 5796, '\\r\\n                 \\r\\n                \\r\\n                  ': 5797, 'keyboard': 5798, 'take': 5799, 'accumulating': 5800, 'MOSFETs': 5801, 'variations': 5802, 'offload': 5803, 'remappings': 5804, 'orbits': 5805, 'structure': 5806, 'machines': 5807, 'LSB': 5808, 'undesirable': 5809, 'cargoAssuming': 5810, 'abstraction': 5811, 'causes': 5812, 'remap': 5813, 'receive': 5814, 'voltage': 5815, '701': 5816, 'coated': 5817, 'force': 5818, 'Overflow': 5819, 'revolutionized': 5820, 't<{\\\\frac': 5821, 'Crown': 5822, '80486': 5823, 'parallelism': 5824, 'positive': 5825, 'Diamante': 5826, 'distance': 5827, 'made': 5828, 'researchers': 5829, 'ADC': 5830, 'hands': 5831, 'gateways': 5832, 'mph': 5833, 'define': 5834, 'ring': 5835, 'precise': 5836, 'Thomas': 5837, 'gasoline': 5838, 'swap': 5839, 'cached': 5840, 'kernel': 5841, 'magnetization': 5842, 'circuitry': 5843, 'Change': 5844, 'measure': 5845, 'Assistance': 5846, '2010s': 5847, 'NIST': 5848, 'changing': 5849, 'phenomena': 5850, 'Microprocessors': 5851, 'Samsung': 5852, 'clocking': 5853, 'exclusive': 5854, 'examples': 5855, 'SAS': 5856, 'trigger': 5857, 'valid': 5858, 'corrected': 5859, 'Masatoshi': 5860, '1955': 5861, 'reliably': 5862, '×3/2': 5863, 'minimizing': 5864, 'electrolytic': 5865, 'formatting': 5866, 'net': 5867, 'Frequency': 5868, 'Example': 5869, 'revisions': 5870, 'unused': 5871, 'junction': 5872, 'faster': 5873, 'rectified': 5874, 'lead': 5875, 'with': 5876, 'unsafe': 5877, 'displaying': 5878, 'amongst': 5879, 'success': 5880, 'Small': 5881, 'offloaded': 5882, 'feedback': 5883, 'refresh': 5884, 'languages': 5885, 'MMU': 5886, 'Whereas': 5887, 'Failure': 5888, 'carried': 5889, 'burden': 5890, 'placed': 5891, 'DAC': 5892, 'ADCs': 5893, 'Network': 5894, 'Satellites': 5895, 'workflows': 5896, 'Anticipatory': 5897, 'NOR': 5898, 'Delta': 5899, 'demonstrate': 5900, 'any': 5901, 'rice': 5902, 'actuated': 5903, '\\r\\n            \\r\\n          \\r\\n        \\r\\n        ': 5904, '70': 5905, 'approaches': 5906, 'tag': 5907, 'introducing': 5908, '1968': 5909, 'determine': 5910, 'Bitwise': 5911, 'sun': 5912, 'performing': 5913, 'rights': 5914, 'm': 5915, 'generator': 5916, 'foot': 5917, 'generations': 5918, 'home': 5919, 'slang': 5920, 'half': 5921, 'hping': 5922, 'Here': 5923, 'evaporate': 5924, '34': 5925, 'percentage': 5926, 'electrolytes': 5927, 'media': 5928, '×4/3': 5929, '40': 5930, '1969': 5931, 'required': 5932, 'fairly': 5933, 'point': 5934, 'opposite': 5935, '60': 5936, 'equipment': 5937, 'double': 5938, 'PROM': 5939, 'partition': 5940, 'article': 5941, 'Photographic': 5942, 'effectively': 5943, 'pathways': 5944, 'hours': 5945, 'understand': 5946, 'complex': 5947, '1974': 5948, 'caching': 5949, 'Acceleration': 5950, 'conduct': 5951, 'Ranger': 5952, 'schedule': 5953, 'Monitoring': 5954, 'preserved': 5955, 'zones': 5956, 'un': 5957, 'examining': 5958, 'subthreshold': 5959, 'Japan': 5960, 'updates': 5961, 'SFDR': 5962, '2011': 5963, 'archives': 5964, 'recovered': 5965, 'Developed': 5966, 'Raptor': 5967, 'surpassing': 5968, 'locality': 5969, 'located': 5970, 'structures': 5971, 'bottleneck': 5972, 'shadow': 5973, 'ability': 5974, 'transatlantic': 5975, 'aimed': 5976, '0x12': 5977, 'dates': 5978, 'KB': 5979, 'VFC': 5980, 'execute': 5981, 'Universal': 5982, 'Tallgrass': 5983, 'move': 5984, 'intervention': 5985, 'traveled': 5986, 'millisecond': 5987, 'connects': 5988, 'ACU': 5989, 'nm': 5990, 'SATA': 5991, 'redesigned': 5992, 'MCU': 5993, 'registers': 5994, 'gaming': 5995, 'server': 5996, 'results': 5997, 'either': 5998, 'periodically': 5999, 'drivers': 6000, 'Into': 6001, 'Recent': 6002, '1992': 6003, 'mature': 6004, 'capacitance': 6005, 'packages': 6006, 'tracks': 6007, 'lightweight': 6008, 'around': 6009, 'after': 6010, 'reason': 6011, 'consistently': 6012, '1961': 6013, 'degrades': 6014, 'charge': 6015, 'straight': 6016, 'analogous': 6017, 'webserver': 6018, 'discs': 6019, 'wirelessly': 6020, 'months': 6021, 'TB.': 6022, 'picked': 6023, 'contamination': 6024, 'cuts': 6025, 'consecutive': 6026, 'mechanically': 6027, 'inserts': 6028, 'slowly': 6029, 'Users': 6030, 'customers': 6031, 'carving': 6032, 'group': 6033, 'amplifiers': 6034, 'mask': 6035, 'Lexus': 6036, 'augmentation': 6037, 'realizing': 6038, 'MP944': 6039, 'Manufacturers': 6040, 'filtration': 6041, 'hierarchy': 6042, 'gate': 6043, 'originates': 6044, 'build': 6045, 'magazine': 6046, 'hung': 6047, 'supportThis': 6048, 'consumed': 6049, 'interest': 6050, 'radio': 6051, 'once': 6052, 'Least': 6053, 'outside': 6054, 'internally': 6055, 'categorized': 6056, 'silent': 6057, 'passing': 6058, 'retired': 6059, 'mountings': 6060, 'coupling': 6061, 'Operating': 6062, 'Soft': 6063, 'expansion': 6064, 'overcome': 6065, 'enabling': 6066, 'coined': 6067, 'subsystem': 6068, 'delimited': 6069, 'subset': 6070, 'tradeoff': 6071, '1405': 6072, 'Transistor': 6073, 'often': 6074, 'models': 6075, 'Precision': 6076, 'depended': 6077, 'online': 6078, 'Hyperthreading': 6079, 'begin': 6080, 'research': 6081, 'bipolar': 6082, 'offered': 6083, 'late': 6084, 'substandard': 6085, '4': 6086, 'influenced': 6087, 'constrained': 6088, 'simulate': 6089, 'imaging': 6090, 'interleaving': 6091, 'TSS': 6092, 'SP95': 6093, 'chemicals': 6094, '\\r\\n  ': 6095, 'exposed': 6096, 'ST': 6097, 'drifts': 6098, 'avoided': 6099, 'unsigned': 6100, 'AltiVec': 6101, 'exceeding': 6102, 'involve': 6103, 'VCOs': 6104, 'entropy': 6105, 'Communication': 6106, 'pointers': 6107, 'long': 6108, 'requires': 6109, 'developer': 6110, '2026': 6111, 'Fuga': 6112, '<': 6113, 'powers': 6114, 'October': 6115, 'resulting': 6116, 'regular': 6117, 'even': 6118, 'coarse': 6119, 'ALUs': 6120, 'exist': 6121, 'distances': 6122, 'Potential': 6123, 'more': 6124, 'exceptions': 6125, 'fraction': 6126, 'radar': 6127, 'thought': 6128, 'upon': 6129, 'batteryless': 6130, 'direction': 6131, 'MSP432': 6132, 'Technologies': 6133, '\\u200a': 6134, 'decades': 6135, 'Computer': 6136, '1st': 6137, 'necessarily': 6138, 'would': 6139, '13': 6140, 'swapped': 6141, 'actual': 6142, 'GeForce': 6143, '1997': 6144, 'fetch': 6145, 'scrapes': 6146, 'running': 6147, 'transferred': 6148, 'millimeters': 6149, 'MC68HC805': 6150, 'X2': 6151, 'multimedia': 6152, 'project': 6153, 'Robert': 6154, 'fascias': 6155, 'unpleasant': 6156, 'become': 6157, 'iterations': 6158, 'Propeller': 6159, 'advancing': 6160, 'anti': 6161, 'Streaming': 6162, 'characteristics': 6163, 'reuse': 6164, 'efficiently': 6165, 'p': 6166, 'Suppose': 6167, 'risk': 6168, 'flying': 6169, 'magnitudes': 6170, 'interact': 6171, 'emergency': 6172, 'pulse': 6173, 'radially': 6174, 'echo': 6175, 'mobile': 6176, 'cancel': 6177, 'varying': 6178, 'Like': 6179, '90However': 6180, 'Channel': 6181, 'RC': 6182, 'station': 6183, 'synchronisation': 6184, 'straightforward': 6185, 'antennae': 6186, 'inductor': 6187, 'instantiated': 6188, 'MOS': 6189, 'focused': 6190, 'degrade': 6191, 'retain': 6192, 'buffering': 6193, 'incorporates': 6194, 'rigid': 6195, 'north': 6196, '’s': 6197, 'economical': 6198, 'disadvantages': 6199, 'conventional': 6200, 'backup': 6201, '68882': 6202, 'commands': 6203, 'Intermediate': 6204, 'test': 6205, 'perform': 6206, 'successive': 6207, 'play': 6208, 'Go': 6209, 'desired': 6210, 'negatively': 6211, 'STM32': 6212, 'Lancaster': 6213, 'counts': 6214, 'MSI': 6215, 'malfunction': 6216, 'arms': 6217, 'placement': 6218, 'but': 6219, '1.3': 6220, 'outweighed': 6221, 'fledgling': 6222, 'refraction': 6223, 'separate': 6224, 'other': 6225, 'hertz': 6226, 'won': 6227, 'digitizing': 6228, 'white': 6229, 'run': 6230, 'gas': 6231, 'unregulated': 6232, 'More': 6233, 'adding': 6234, 'Four': 6235, 'combines': 6236, '\\r\\n      \\r\\n    \\r\\n    ': 6237, '1301': 6238, 'remaining': 6239, 'Based': 6240, 'incompatible': 6241, 'deflection': 6242, 'noted': 6243, '128': 6244, 'client': 6245, 'Smith': 6246, 'alternative': 6247, 'mould': 6248, 'the': 6249, 'symmetric': 6250, 'cellular': 6251, 'Windows': 6252, 'next': 6253, 'contiguous': 6254, 'follow': 6255, 'Q': 6256, 'academic': 6257, 'RPM': 6258, '=': 6259, 'perceptual': 6260, 'at': 6261, 'email': 6262, 'impacted': 6263, 'somehow': 6264, 'considerations': 6265, 'stream': 6266, 'brake': 6267, 'excess': 6268, 'Among': 6269, 'south': 6270, 'borrow': 6271, 'mitigate': 6272, 'FM': 6273, 'printers': 6274, 'ways': 6275, 'session': 6276, 'decimation': 6277, 'fewer': 6278, 'OpenOnload': 6279, '∞': 6280, 'architechtures': 6281, 'shaping': 6282, 'gates': 6283, 'ambient': 6284, 'transfer': 6285, 'differentiate': 6286, 'user': 6287, 'suggested': 6288, '2–9': 6289, 'x86': 6290, 'MicroPython': 6291, 'specifically': 6292, 'postponed': 6293, 'methods': 6294, 'printed': 6295, 'Converters': 6296, 'Output': 6297, 'fabricated': 6298, 'vectors': 6299, 'suitability': 6300, 'Lower': 6301, 'execution': 6302, 'automatic': 6303, 'Normally': 6304, 'Boot': 6305, 'US$': 6306, 'UNIX': 6307, '6800': 6308, 'Niquette': 6309, 'type': 6310, 'gigabytes': 6311, 'side': 6312, 'completion': 6313, 'journey': 6314, 'section': 6315, 'team': 6316, 'economy': 6317, 'purpose': 6318, 'attaches': 6319, '512': 6320, 'Pipelined': 6321, 'uncached': 6322, 'noisy': 6323, 'stipulates': 6324, 'Units': 6325, 'becomes': 6326, '7094': 6327, 'panoramic': 6328, 'operators': 6329, 'PDP-10': 6330, 'Hexagon': 6331, 'equations': 6332, 'SR': 6333, 'markers': 6334, 'hard': 6335, 'recognized': 6336, 'necessary': 6337, 'milliwatts': 6338, 'returns': 6339, 'durable': 6340, 'Geometry': 6341, 'restartable': 6342, 'Mac': 6343, 'issue': 6344, 'primitives': 6345, 'scripts': 6346, 'speeding': 6347, 'Motivation': 6348, 'cable': 6349, 'former': 6350, 'multiplexer': 6351, 'remain': 6352, 'eliminate': 6353, '55': 6354, 'SGRAM': 6355, 'large': 6356, 'mains': 6357, 'Laser': 6358, 'turn': 6359, 'converters': 6360, '4040': 6361, 'bring': 6362, 'shutting': 6363, 'outline': 6364, 'risers': 6365, 'N+-to': 6366, 'Sliding': 6367, 'pieces': 6368, 'Minimizing': 6369, 'concentric': 6370, 'viewed': 6371, 'water': 6372, 'disabled': 6373, 'useful': 6374, 'expectation': 6375, 'SMR': 6376, 'full': 6377, 'XPS).Some': 6378, 'converted': 6379, '0.891.In': 6380, 'PIC18': 6381, 'B-475': 6382, 'dollars': 6383, 'capitalizing': 6384, 'entertainment': 6385, 'drive': 6386, 'computation': 6387, 'beams': 6388, 'AT91CAP': 6389, 'transforming': 6390, 'operations': 6391, 'W221': 6392, 'systems': 6393, 'substantial': 6394, 'Shima': 6395, 'GPT': 6396, 'nonstandard': 6397, 'Maxwell': 6398, 'JSTOR': 6399, 'works': 6400, 'decrease': 6401, 'IOV': 6402, '8008': 6403, 'concept': 6404, 'M8C': 6405, 'User': 6406, 'Printed': 6407, 'zSeries': 6408, 'divide': 6409, 'successfully': 6410, 'seen': 6411, 'cope': 6412, 'course': 6413, 'spent': 6414, 'Policies': 6415, 'getting': 6416, 'AGU': 6417, 'irrespective': 6418, 'P5': 6419, 'optionally': 6420, 'began': 6421, 'offset': 6422, 'ProFile': 6423, 'Confusingly': 6424, 'links': 6425, 'aging': 6426, 'War': 6427, 'approximating': 6428, 'pace': 6429, 'F50': 6430, 'value': 6431, 'the\"pizza': 6432, 'trivial': 6433, 'Bipolar': 6434, 'etc': 6435, 'looked': 6436, 'divides': 6437, 'distinction': 6438, 'analogue': 6439, 'Ramp': 6440, 'tuned': 6441, 'cruise': 6442, 'PCM': 6443, 'provide': 6444, 'receives': 6445, 'Keyboard': 6446, 'contact': 6447, 'affecting': 6448, 'Inc': 6449, 'denominator': 6450, 'cutoff': 6451, 'instantaneous': 6452, 'removing': 6453, 'British': 6454, 'VGA': 6455, 'cores': 6456, 'copied': 6457, 'emulate': 6458, 'compact': 6459, 'effectiveness': 6460, 'microcontrollers': 6461, 'adopt': 6462, 'Under': 6463, 'thermal': 6464, 'mainly': 6465, 'abbreviation': 6466, 'desensitizes': 6467, 'voice': 6468, 'head': 6469, 'objects': 6470, 'regarding': 6471, 'reconfigure': 6472, 'VRefHi': 6473, 'majority': 6474, 'principles': 6475, 'days': 6476, 'microcode': 6477, 'connectivity': 6478, 'gives': 6479, 'semi': 6480, 'Simple': 6481, 'Commercial': 6482, '8087': 6483, 'encounters': 6484, 'trend': 6485, 'ubiquitous': 6486, 'Platform': 6487, 'connection': 6488, 'foundation': 6489, 'convenient': 6490, 'accessed': 6491, 'mark': 6492, 'deferred': 6493, 'dummy': 6494, 'flow': 6495, 'DisplayPort': 6496, 'minimised': 6497, 'Eagle': 6498, 'photos': 6499, 'simpler': 6500, 'emitter': 6501, 'newer': 6502, 'CMP': 6503, 'monitoring': 6504, 'publication': 6505, 'poorly': 6506, 'spring': 6507, 'times': 6508, 'control': 6509, 'PMR': 6510, 'Finally': 6511, 'E.': 6512, 'TRW': 6513, 'subsequent': 6514, 'administrator': 6515, 'railway': 6516, 'advantage': 6517, 'simulated': 6518, 'findings': 6519, 'enabled': 6520, 'involves': 6521, 'relevant': 6522, 'EEPROM': 6523, 'functionalities': 6524, 'associated': 6525, '1394': 6526, 'seeks': 6527, 'areal': 6528, 'ARM': 6529, 'addition': 6530, 'Filters': 6531, 'RS232': 6532, '20\\\\log': 6533, 'requirement': 6534, 'compensate': 6535, 'Displaying': 6536, 'Touareg': 6537, 'destination': 6538, 'ENDPAD': 6539}\n"
          ]
        }
      ]
    },
    {
      "cell_type": "code",
      "source": [
        "\n",
        "print(tag_to_index)"
      ],
      "metadata": {
        "colab": {
          "base_uri": "https://localhost:8080/"
        },
        "id": "lJh7N-vf3PRK",
        "outputId": "7b9d9143-7bcf-47c5-bd79-4b542f9fe1fb"
      },
      "execution_count": null,
      "outputs": [
        {
          "output_type": "stream",
          "name": "stdout",
          "text": [
            "{'B-unit': 0, 'I-mea': 1, 'I-comp': 2, 'B-func': 3, 'B-sys': 4, 'B-comp': 5, 'I-hwc': 6, 'O': 7, 'B-hwsp': 8, 'I-hwsp': 9, 'I-sys': 10, 'B-mea': 11, 'I-sw': 12, 'I-unit': 13, 'I-qt': 14, 'B-hwp': 15, 'I-func': 16, 'B-qt': 17, 'I-hwp': 18, 'B-sw': 19, 'B-hwc': 20}\n"
          ]
        }
      ]
    },
    {
      "cell_type": "markdown",
      "source": [
        "##Saving index number of words and tags for further use"
      ],
      "metadata": {
        "id": "VbMFrmkrQkA5"
      }
    },
    {
      "cell_type": "code",
      "source": [
        "with open('/content/drive/My Drive/Thesis/Pickle file/word_to_indexCombinedDataForTest.pkl', 'wb') as f:\n",
        "    pickle.dump(word_to_index, f)"
      ],
      "metadata": {
        "id": "zrVE71DncbFt"
      },
      "execution_count": null,
      "outputs": []
    },
    {
      "cell_type": "code",
      "source": [
        "with open('/content/drive/My Drive/Thesis/Pickle file/tag_to_indexCombinedDataForTest.pkl', 'wb') as f:\n",
        "     pickle.dump(tag_to_index, f)"
      ],
      "metadata": {
        "id": "esHDF7SfchSs"
      },
      "execution_count": null,
      "outputs": []
    },
    {
      "cell_type": "markdown",
      "source": [
        "Check the new two columns"
      ],
      "metadata": {
        "id": "LmfNQ4eFcUtL"
      }
    },
    {
      "cell_type": "code",
      "source": [
        "data['Word_to_idx'] = data['Word'].map(word_to_index)\n",
        "data['Tag_to_idx'] = data['Agila_DB_tag'].map(tag_to_index)\n",
        "data.head(15)"
      ],
      "metadata": {
        "colab": {
          "base_uri": "https://localhost:8080/",
          "height": 519
        },
        "id": "nQptZjtu3alb",
        "outputId": "0f800b40-ceef-4d50-b76e-2398a3f7d33a"
      },
      "execution_count": null,
      "outputs": [
        {
          "output_type": "execute_result",
          "data": {
            "text/plain": [
              "    Sentence #        Word    POS Agila_DB_tag  Word_to_idx  Tag_to_idx\n",
              "0            1           A    DET            O          837           6\n",
              "1            1     central    ADJ        B-hwp         3338          16\n",
              "2            1  processing   NOUN        I-hwp         3631           2\n",
              "3            1        unit   NOUN        I-hwp         6041           2\n",
              "4            1           (  PUNCT            O         4065           6\n",
              "5            1         CPU  PROPN        B-hwp         4841          16\n",
              "6            1           )  PUNCT            O         5380           6\n",
              "7            1           ,  PUNCT            O         3816           6\n",
              "8            1        also    ADV            O         3093           6\n",
              "9            1      called   VERB            O         6532           6\n",
              "10           1           a    DET            O         5219           6\n",
              "11           1     central    ADJ        B-hwp         3338          16\n",
              "12           1   processor   NOUN        I-hwp         4376           2\n",
              "13           1           ,  PUNCT            O         3816           6\n",
              "14           1        main    ADJ        B-hwp         4839          16"
            ],
            "text/html": [
              "\n",
              "  <div id=\"df-0ba65c12-7b0b-4e16-80dc-b04abcefc5ed\">\n",
              "    <div class=\"colab-df-container\">\n",
              "      <div>\n",
              "<style scoped>\n",
              "    .dataframe tbody tr th:only-of-type {\n",
              "        vertical-align: middle;\n",
              "    }\n",
              "\n",
              "    .dataframe tbody tr th {\n",
              "        vertical-align: top;\n",
              "    }\n",
              "\n",
              "    .dataframe thead th {\n",
              "        text-align: right;\n",
              "    }\n",
              "</style>\n",
              "<table border=\"1\" class=\"dataframe\">\n",
              "  <thead>\n",
              "    <tr style=\"text-align: right;\">\n",
              "      <th></th>\n",
              "      <th>Sentence #</th>\n",
              "      <th>Word</th>\n",
              "      <th>POS</th>\n",
              "      <th>Agila_DB_tag</th>\n",
              "      <th>Word_to_idx</th>\n",
              "      <th>Tag_to_idx</th>\n",
              "    </tr>\n",
              "  </thead>\n",
              "  <tbody>\n",
              "    <tr>\n",
              "      <th>0</th>\n",
              "      <td>1</td>\n",
              "      <td>A</td>\n",
              "      <td>DET</td>\n",
              "      <td>O</td>\n",
              "      <td>837</td>\n",
              "      <td>6</td>\n",
              "    </tr>\n",
              "    <tr>\n",
              "      <th>1</th>\n",
              "      <td>1</td>\n",
              "      <td>central</td>\n",
              "      <td>ADJ</td>\n",
              "      <td>B-hwp</td>\n",
              "      <td>3338</td>\n",
              "      <td>16</td>\n",
              "    </tr>\n",
              "    <tr>\n",
              "      <th>2</th>\n",
              "      <td>1</td>\n",
              "      <td>processing</td>\n",
              "      <td>NOUN</td>\n",
              "      <td>I-hwp</td>\n",
              "      <td>3631</td>\n",
              "      <td>2</td>\n",
              "    </tr>\n",
              "    <tr>\n",
              "      <th>3</th>\n",
              "      <td>1</td>\n",
              "      <td>unit</td>\n",
              "      <td>NOUN</td>\n",
              "      <td>I-hwp</td>\n",
              "      <td>6041</td>\n",
              "      <td>2</td>\n",
              "    </tr>\n",
              "    <tr>\n",
              "      <th>4</th>\n",
              "      <td>1</td>\n",
              "      <td>(</td>\n",
              "      <td>PUNCT</td>\n",
              "      <td>O</td>\n",
              "      <td>4065</td>\n",
              "      <td>6</td>\n",
              "    </tr>\n",
              "    <tr>\n",
              "      <th>5</th>\n",
              "      <td>1</td>\n",
              "      <td>CPU</td>\n",
              "      <td>PROPN</td>\n",
              "      <td>B-hwp</td>\n",
              "      <td>4841</td>\n",
              "      <td>16</td>\n",
              "    </tr>\n",
              "    <tr>\n",
              "      <th>6</th>\n",
              "      <td>1</td>\n",
              "      <td>)</td>\n",
              "      <td>PUNCT</td>\n",
              "      <td>O</td>\n",
              "      <td>5380</td>\n",
              "      <td>6</td>\n",
              "    </tr>\n",
              "    <tr>\n",
              "      <th>7</th>\n",
              "      <td>1</td>\n",
              "      <td>,</td>\n",
              "      <td>PUNCT</td>\n",
              "      <td>O</td>\n",
              "      <td>3816</td>\n",
              "      <td>6</td>\n",
              "    </tr>\n",
              "    <tr>\n",
              "      <th>8</th>\n",
              "      <td>1</td>\n",
              "      <td>also</td>\n",
              "      <td>ADV</td>\n",
              "      <td>O</td>\n",
              "      <td>3093</td>\n",
              "      <td>6</td>\n",
              "    </tr>\n",
              "    <tr>\n",
              "      <th>9</th>\n",
              "      <td>1</td>\n",
              "      <td>called</td>\n",
              "      <td>VERB</td>\n",
              "      <td>O</td>\n",
              "      <td>6532</td>\n",
              "      <td>6</td>\n",
              "    </tr>\n",
              "    <tr>\n",
              "      <th>10</th>\n",
              "      <td>1</td>\n",
              "      <td>a</td>\n",
              "      <td>DET</td>\n",
              "      <td>O</td>\n",
              "      <td>5219</td>\n",
              "      <td>6</td>\n",
              "    </tr>\n",
              "    <tr>\n",
              "      <th>11</th>\n",
              "      <td>1</td>\n",
              "      <td>central</td>\n",
              "      <td>ADJ</td>\n",
              "      <td>B-hwp</td>\n",
              "      <td>3338</td>\n",
              "      <td>16</td>\n",
              "    </tr>\n",
              "    <tr>\n",
              "      <th>12</th>\n",
              "      <td>1</td>\n",
              "      <td>processor</td>\n",
              "      <td>NOUN</td>\n",
              "      <td>I-hwp</td>\n",
              "      <td>4376</td>\n",
              "      <td>2</td>\n",
              "    </tr>\n",
              "    <tr>\n",
              "      <th>13</th>\n",
              "      <td>1</td>\n",
              "      <td>,</td>\n",
              "      <td>PUNCT</td>\n",
              "      <td>O</td>\n",
              "      <td>3816</td>\n",
              "      <td>6</td>\n",
              "    </tr>\n",
              "    <tr>\n",
              "      <th>14</th>\n",
              "      <td>1</td>\n",
              "      <td>main</td>\n",
              "      <td>ADJ</td>\n",
              "      <td>B-hwp</td>\n",
              "      <td>4839</td>\n",
              "      <td>16</td>\n",
              "    </tr>\n",
              "  </tbody>\n",
              "</table>\n",
              "</div>\n",
              "      <button class=\"colab-df-convert\" onclick=\"convertToInteractive('df-0ba65c12-7b0b-4e16-80dc-b04abcefc5ed')\"\n",
              "              title=\"Convert this dataframe to an interactive table.\"\n",
              "              style=\"display:none;\">\n",
              "        \n",
              "  <svg xmlns=\"http://www.w3.org/2000/svg\" height=\"24px\"viewBox=\"0 0 24 24\"\n",
              "       width=\"24px\">\n",
              "    <path d=\"M0 0h24v24H0V0z\" fill=\"none\"/>\n",
              "    <path d=\"M18.56 5.44l.94 2.06.94-2.06 2.06-.94-2.06-.94-.94-2.06-.94 2.06-2.06.94zm-11 1L8.5 8.5l.94-2.06 2.06-.94-2.06-.94L8.5 2.5l-.94 2.06-2.06.94zm10 10l.94 2.06.94-2.06 2.06-.94-2.06-.94-.94-2.06-.94 2.06-2.06.94z\"/><path d=\"M17.41 7.96l-1.37-1.37c-.4-.4-.92-.59-1.43-.59-.52 0-1.04.2-1.43.59L10.3 9.45l-7.72 7.72c-.78.78-.78 2.05 0 2.83L4 21.41c.39.39.9.59 1.41.59.51 0 1.02-.2 1.41-.59l7.78-7.78 2.81-2.81c.8-.78.8-2.07 0-2.86zM5.41 20L4 18.59l7.72-7.72 1.47 1.35L5.41 20z\"/>\n",
              "  </svg>\n",
              "      </button>\n",
              "      \n",
              "  <style>\n",
              "    .colab-df-container {\n",
              "      display:flex;\n",
              "      flex-wrap:wrap;\n",
              "      gap: 12px;\n",
              "    }\n",
              "\n",
              "    .colab-df-convert {\n",
              "      background-color: #E8F0FE;\n",
              "      border: none;\n",
              "      border-radius: 50%;\n",
              "      cursor: pointer;\n",
              "      display: none;\n",
              "      fill: #1967D2;\n",
              "      height: 32px;\n",
              "      padding: 0 0 0 0;\n",
              "      width: 32px;\n",
              "    }\n",
              "\n",
              "    .colab-df-convert:hover {\n",
              "      background-color: #E2EBFA;\n",
              "      box-shadow: 0px 1px 2px rgba(60, 64, 67, 0.3), 0px 1px 3px 1px rgba(60, 64, 67, 0.15);\n",
              "      fill: #174EA6;\n",
              "    }\n",
              "\n",
              "    [theme=dark] .colab-df-convert {\n",
              "      background-color: #3B4455;\n",
              "      fill: #D2E3FC;\n",
              "    }\n",
              "\n",
              "    [theme=dark] .colab-df-convert:hover {\n",
              "      background-color: #434B5C;\n",
              "      box-shadow: 0px 1px 3px 1px rgba(0, 0, 0, 0.15);\n",
              "      filter: drop-shadow(0px 1px 2px rgba(0, 0, 0, 0.3));\n",
              "      fill: #FFFFFF;\n",
              "    }\n",
              "  </style>\n",
              "\n",
              "      <script>\n",
              "        const buttonEl =\n",
              "          document.querySelector('#df-0ba65c12-7b0b-4e16-80dc-b04abcefc5ed button.colab-df-convert');\n",
              "        buttonEl.style.display =\n",
              "          google.colab.kernel.accessAllowed ? 'block' : 'none';\n",
              "\n",
              "        async function convertToInteractive(key) {\n",
              "          const element = document.querySelector('#df-0ba65c12-7b0b-4e16-80dc-b04abcefc5ed');\n",
              "          const dataTable =\n",
              "            await google.colab.kernel.invokeFunction('convertToInteractive',\n",
              "                                                     [key], {});\n",
              "          if (!dataTable) return;\n",
              "\n",
              "          const docLinkHtml = 'Like what you see? Visit the ' +\n",
              "            '<a target=\"_blank\" href=https://colab.research.google.com/notebooks/data_table.ipynb>data table notebook</a>'\n",
              "            + ' to learn more about interactive tables.';\n",
              "          element.innerHTML = '';\n",
              "          dataTable['output_type'] = 'display_data';\n",
              "          await google.colab.output.renderOutput(dataTable, element);\n",
              "          const docLink = document.createElement('div');\n",
              "          docLink.innerHTML = docLinkHtml;\n",
              "          element.appendChild(docLink);\n",
              "        }\n",
              "      </script>\n",
              "    </div>\n",
              "  </div>\n",
              "  "
            ]
          },
          "metadata": {},
          "execution_count": 24
        }
      ]
    },
    {
      "cell_type": "markdown",
      "source": [
        "#Using one hot encoding for word embeddings and vector representation."
      ],
      "metadata": {
        "id": "4HQtVKZka3ZQ"
      }
    },
    {
      "cell_type": "code",
      "source": [
        "max_len = 50\n",
        "X = [[word_to_index[w[0]] for w in s] for s in sentences]\n",
        "X = pad_sequences(maxlen=max_len, sequences=X, padding='post', value=num_words-1)\n",
        "\n",
        "y = [[tag_to_index[w[2]] for w in s] for s in sentences]\n",
        "y = pad_sequences(maxlen=max_len, sequences=y, padding='post', value=tag_to_index[\"O\"])\n",
        "y = [to_categorical(i, num_classes=num_tags) for i in y]"
      ],
      "metadata": {
        "id": "RcsujjbyL-ss"
      },
      "execution_count": null,
      "outputs": []
    },
    {
      "cell_type": "code",
      "source": [
        "X.shape"
      ],
      "metadata": {
        "colab": {
          "base_uri": "https://localhost:8080/"
        },
        "id": "HADrk5rFJXw5",
        "outputId": "9e31d32a-8d3e-4985-b870-f162e2923f7f"
      },
      "execution_count": null,
      "outputs": [
        {
          "output_type": "execute_result",
          "data": {
            "text/plain": [
              "(2307, 50)"
            ]
          },
          "metadata": {},
          "execution_count": 28
        }
      ]
    },
    {
      "cell_type": "code",
      "source": [
        "# creation of test/train data\n",
        "x_train, x_test, y_train, y_test = train_test_split(X, y, test_size=0.2, random_state=1)"
      ],
      "metadata": {
        "id": "UBHYTSJ1MFkj"
      },
      "execution_count": null,
      "outputs": []
    },
    {
      "cell_type": "code",
      "source": [
        "print(len(x_train), len(y_train))\n",
        "print(len(x_test), len(y_test))"
      ],
      "metadata": {
        "colab": {
          "base_uri": "https://localhost:8080/"
        },
        "id": "NoCC2QxCUlN6",
        "outputId": "4e26ddec-e1fd-4ac8-ecb0-1fd9d09f410a"
      },
      "execution_count": null,
      "outputs": [
        {
          "output_type": "stream",
          "name": "stdout",
          "text": [
            "1845 1845\n",
            "462 462\n"
          ]
        }
      ]
    },
    {
      "cell_type": "markdown",
      "source": [
        "## Build and Compile a Bidirectional LSTM Model for knowlwdgw base"
      ],
      "metadata": {
        "id": "yJ6ItHY1MJIi"
      }
    },
    {
      "cell_type": "code",
      "source": [
        "import keras\n",
        "import keras.utils\n",
        "from keras import utils as np_utils"
      ],
      "metadata": {
        "id": "Z4Bp_KQtFhl3"
      },
      "execution_count": null,
      "outputs": []
    },
    {
      "cell_type": "code",
      "source": [
        "from tensorflow.keras import Model, Input\n",
        "from keras.models import Sequential\n",
        "from tensorflow.keras.layers import LSTM, Embedding, Dense\n",
        "from tensorflow.keras.layers import TimeDistributed, SpatialDropout1D, Bidirectional"
      ],
      "metadata": {
        "id": "gu6njpc4MKJj"
      },
      "execution_count": null,
      "outputs": []
    },
    {
      "cell_type": "code",
      "source": [
        "input_word = Input(shape=(max_len,))\n",
        "KB_LSTM_model = Embedding(input_dim=num_words, output_dim=max_len, input_length=max_len)(input_word)\n",
        "KB_LSTM_model = SpatialDropout1D(0.1)(KB_LSTM_model)\n",
        "KB_LSTM_model = Bidirectional(LSTM(units=256, return_sequences=True, recurrent_dropout=0.1))(KB_LSTM_model)\n",
        "out = TimeDistributed(Dense(num_tags, activation='softmax'))(KB_LSTM_model)\n",
        "KB_LSTM_model = Model(input_word, out)\n",
        "KB_LSTM_model.summary()\n",
        "KB_LSTM_model.compile(optimizer='adam', loss='categorical_crossentropy', metrics=['accuracy'])"
      ],
      "metadata": {
        "colab": {
          "base_uri": "https://localhost:8080/"
        },
        "id": "cD03YwxaMR8L",
        "outputId": "7a298d34-b3f1-4a8e-8306-40ba37119ccc"
      },
      "execution_count": null,
      "outputs": [
        {
          "output_type": "stream",
          "name": "stderr",
          "text": [
            "WARNING:tensorflow:Layer lstm will not use cuDNN kernels since it doesn't meet the criteria. It will use a generic GPU kernel as fallback when running on GPU.\n",
            "WARNING:tensorflow:Layer lstm will not use cuDNN kernels since it doesn't meet the criteria. It will use a generic GPU kernel as fallback when running on GPU.\n",
            "WARNING:tensorflow:Layer lstm will not use cuDNN kernels since it doesn't meet the criteria. It will use a generic GPU kernel as fallback when running on GPU.\n"
          ]
        },
        {
          "output_type": "stream",
          "name": "stdout",
          "text": [
            "Model: \"model\"\n",
            "_________________________________________________________________\n",
            " Layer (type)                Output Shape              Param #   \n",
            "=================================================================\n",
            " input_1 (InputLayer)        [(None, 50)]              0         \n",
            "                                                                 \n",
            " embedding (Embedding)       (None, 50, 50)            326950    \n",
            "                                                                 \n",
            " spatial_dropout1d (SpatialD  (None, 50, 50)           0         \n",
            " ropout1D)                                                       \n",
            "                                                                 \n",
            " bidirectional (Bidirectiona  (None, 50, 512)          628736    \n",
            " l)                                                              \n",
            "                                                                 \n",
            " time_distributed (TimeDistr  (None, 50, 21)           10773     \n",
            " ibuted)                                                         \n",
            "                                                                 \n",
            "=================================================================\n",
            "Total params: 966,459\n",
            "Trainable params: 966,459\n",
            "Non-trainable params: 0\n",
            "_________________________________________________________________\n"
          ]
        }
      ]
    },
    {
      "cell_type": "code",
      "source": [
        "from tensorflow.keras.utils import plot_model\n",
        "plot_model(KB_LSTM_model,show_shapes= True)"
      ],
      "metadata": {
        "colab": {
          "base_uri": "https://localhost:8080/",
          "height": 533
        },
        "id": "y0ps7jd16Cu7",
        "outputId": "e154f37e-b985-4aef-e42a-d22adbbb230e"
      },
      "execution_count": null,
      "outputs": [
        {
          "output_type": "execute_result",
          "data": {
            "image/png": "[encoded data removed]",
            "text/plain": [
              "<IPython.core.display.Image object>"
            ]
          },
          "metadata": {},
          "execution_count": 35
        }
      ]
    },
    {
      "cell_type": "code",
      "source": [
        "KB_LSTM_model.compile(optimizer='adam', loss='categorical_crossentropy', metrics=['accuracy'])"
      ],
      "metadata": {
        "id": "ZnYCTsaMMXtS"
      },
      "execution_count": null,
      "outputs": []
    },
    {
      "cell_type": "code",
      "source": [
        "from keras.models import Sequential"
      ],
      "metadata": {
        "id": "2BAk5o69FF3h"
      },
      "execution_count": null,
      "outputs": []
    },
    {
      "cell_type": "markdown",
      "source": [
        "### Train the Model(with training data)"
      ],
      "metadata": {
        "id": "mBIGnDM-MbOS"
      }
    },
    {
      "cell_type": "code",
      "source": [
        "!pip install livelossplot\n",
        "from tensorflow.keras.callbacks import ModelCheckpoint, EarlyStopping\n",
        "from livelossplot.tf_keras import PlotLossesCallback"
      ],
      "metadata": {
        "id": "1ymdHZVvMfti",
        "colab": {
          "base_uri": "https://localhost:8080/"
        },
        "outputId": "1291a4f6-60b1-4457-c641-1c6f92af150d"
      },
      "execution_count": null,
      "outputs": [
        {
          "output_type": "stream",
          "name": "stdout",
          "text": [
            "Looking in indexes: https://pypi.org/simple, https://us-python.pkg.dev/colab-wheels/public/simple/\n",
            "Collecting livelossplot\n",
            "  Downloading livelossplot-0.5.5-py3-none-any.whl (22 kB)\n",
            "Requirement already satisfied: ipython==7.* in /usr/local/lib/python3.7/dist-packages (from livelossplot) (7.9.0)\n",
            "Requirement already satisfied: bokeh in /usr/local/lib/python3.7/dist-packages (from livelossplot) (2.3.3)\n",
            "Requirement already satisfied: numpy<1.22 in /usr/local/lib/python3.7/dist-packages (from livelossplot) (1.21.6)\n",
            "Requirement already satisfied: matplotlib in /usr/local/lib/python3.7/dist-packages (from livelossplot) (3.2.2)\n",
            "Requirement already satisfied: backcall in /usr/local/lib/python3.7/dist-packages (from ipython==7.*->livelossplot) (0.2.0)\n",
            "Collecting jedi>=0.10\n",
            "  Downloading jedi-0.18.1-py2.py3-none-any.whl (1.6 MB)\n",
            "\u001b[K     |████████████████████████████████| 1.6 MB 45.6 MB/s \n",
            "\u001b[?25hRequirement already satisfied: pygments in /usr/local/lib/python3.7/dist-packages (from ipython==7.*->livelossplot) (2.6.1)\n",
            "Requirement already satisfied: pickleshare in /usr/local/lib/python3.7/dist-packages (from ipython==7.*->livelossplot) (0.7.5)\n",
            "Requirement already satisfied: prompt-toolkit<2.1.0,>=2.0.0 in /usr/local/lib/python3.7/dist-packages (from ipython==7.*->livelossplot) (2.0.10)\n",
            "Requirement already satisfied: pexpect in /usr/local/lib/python3.7/dist-packages (from ipython==7.*->livelossplot) (4.8.0)\n",
            "Requirement already satisfied: traitlets>=4.2 in /usr/local/lib/python3.7/dist-packages (from ipython==7.*->livelossplot) (5.1.1)\n",
            "Requirement already satisfied: setuptools>=18.5 in /usr/local/lib/python3.7/dist-packages (from ipython==7.*->livelossplot) (57.4.0)\n",
            "Requirement already satisfied: decorator in /usr/local/lib/python3.7/dist-packages (from ipython==7.*->livelossplot) (4.4.2)\n",
            "Requirement already satisfied: parso<0.9.0,>=0.8.0 in /usr/local/lib/python3.7/dist-packages (from jedi>=0.10->ipython==7.*->livelossplot) (0.8.3)\n",
            "Requirement already satisfied: wcwidth in /usr/local/lib/python3.7/dist-packages (from prompt-toolkit<2.1.0,>=2.0.0->ipython==7.*->livelossplot) (0.2.5)\n",
            "Requirement already satisfied: six>=1.9.0 in /usr/local/lib/python3.7/dist-packages (from prompt-toolkit<2.1.0,>=2.0.0->ipython==7.*->livelossplot) (1.15.0)\n",
            "Requirement already satisfied: pillow>=7.1.0 in /usr/local/lib/python3.7/dist-packages (from bokeh->livelossplot) (7.1.2)\n",
            "Requirement already satisfied: python-dateutil>=2.1 in /usr/local/lib/python3.7/dist-packages (from bokeh->livelossplot) (2.8.2)\n",
            "Requirement already satisfied: typing-extensions>=3.7.4 in /usr/local/lib/python3.7/dist-packages (from bokeh->livelossplot) (4.1.1)\n",
            "Requirement already satisfied: packaging>=16.8 in /usr/local/lib/python3.7/dist-packages (from bokeh->livelossplot) (21.3)\n",
            "Requirement already satisfied: PyYAML>=3.10 in /usr/local/lib/python3.7/dist-packages (from bokeh->livelossplot) (6.0)\n",
            "Requirement already satisfied: Jinja2>=2.9 in /usr/local/lib/python3.7/dist-packages (from bokeh->livelossplot) (2.11.3)\n",
            "Requirement already satisfied: tornado>=5.1 in /usr/local/lib/python3.7/dist-packages (from bokeh->livelossplot) (5.1.1)\n",
            "Requirement already satisfied: MarkupSafe>=0.23 in /usr/local/lib/python3.7/dist-packages (from Jinja2>=2.9->bokeh->livelossplot) (2.0.1)\n",
            "Requirement already satisfied: pyparsing!=3.0.5,>=2.0.2 in /usr/local/lib/python3.7/dist-packages (from packaging>=16.8->bokeh->livelossplot) (3.0.9)\n",
            "Requirement already satisfied: kiwisolver>=1.0.1 in /usr/local/lib/python3.7/dist-packages (from matplotlib->livelossplot) (1.4.4)\n",
            "Requirement already satisfied: cycler>=0.10 in /usr/local/lib/python3.7/dist-packages (from matplotlib->livelossplot) (0.11.0)\n",
            "Requirement already satisfied: ptyprocess>=0.5 in /usr/local/lib/python3.7/dist-packages (from pexpect->ipython==7.*->livelossplot) (0.7.0)\n",
            "Installing collected packages: jedi, livelossplot\n",
            "Successfully installed jedi-0.18.1 livelossplot-0.5.5\n"
          ]
        }
      ]
    },
    {
      "cell_type": "code",
      "source": [
        "early_stopping = EarlyStopping(monitor = 'val_accuracy', patience = 1, verbose = 0, mode = 'max', restore_best_weights=False)\n",
        "callbacks = [PlotLossesCallback()] #early_stopping]\n",
        "\n",
        "history = KB_LSTM_model.fit(\n",
        "    x_train, np.array(y_train),\n",
        "    validation_split=0.2,\n",
        "    batch_size=32,\n",
        "    epochs=50, \n",
        "    verbose=1, \n",
        "    callbacks=callbacks\n",
        ")"
      ],
      "metadata": {
        "colab": {
          "base_uri": "https://localhost:8080/",
          "height": 713
        },
        "id": "u8ym9JwQMngk",
        "outputId": "af7d8ba9-8120-4343-c424-e462f8f98e8a"
      },
      "execution_count": null,
      "outputs": [
        {
          "output_type": "display_data",
          "data": {
            "text/plain": [
              "<Figure size 864x576 with 2 Axes>"
            ],
            "image/png": "[encoded data removed]"
          },
          "metadata": {}
        },
        {
          "output_type": "stream",
          "name": "stdout",
          "text": [
            "accuracy\n",
            "\ttraining         \t (min:    0.886, max:    0.999, cur:    0.999)\n",
            "\tvalidation       \t (min:    0.897, max:    0.948, cur:    0.946)\n",
            "Loss\n",
            "\ttraining         \t (min:    0.004, max:    0.922, cur:    0.004)\n",
            "\tvalidation       \t (min:    0.285, max:    0.577, cur:    0.367)\n",
            "\b\b\b\b\b\b\b\b\b\b\b\b\b\b\b\b\b\b\b\b\b\b\b\b\b\b\b\b\b\b\b\b\b\b\b\b\b\b\b\b\b\b\b\b\b\b\b\b\b\b\b\b\b\b\b\b\b\b\b\b\b\b\b\b\b\b\b\b\b\b\b\b\b\b\b\b\b\b\b\b\b\b\r47/47 [==============================] - 18s 379ms/step - loss: 0.0041 - accuracy: 0.9993 - val_loss: 0.3669 - val_accuracy: 0.9463\n"
          ]
        }
      ]
    },
    {
      "cell_type": "code",
      "source": [
        "prediction = KB_LSTM_model.predict(x_test)#prediction with test data\n",
        "pred = np.argmax(prediction, axis=-1)\n",
        "y_test_true = np.argmax(y_test, -1)"
      ],
      "metadata": {
        "id": "HMC3UMQmi5_q"
      },
      "execution_count": null,
      "outputs": []
    },
    {
      "cell_type": "code",
      "source": [
        "!pip install seqeval"
      ],
      "metadata": {
        "colab": {
          "base_uri": "https://localhost:8080/"
        },
        "id": "vQn4RIYXjPwq",
        "outputId": "c4598d24-cb12-4064-9fd3-24e1e7aff121"
      },
      "execution_count": null,
      "outputs": [
        {
          "output_type": "stream",
          "name": "stdout",
          "text": [
            "Looking in indexes: https://pypi.org/simple, https://us-python.pkg.dev/colab-wheels/public/simple/\n",
            "Collecting seqeval\n",
            "  Downloading seqeval-1.2.2.tar.gz (43 kB)\n",
            "\u001b[K     |████████████████████████████████| 43 kB 2.5 MB/s \n",
            "\u001b[?25hRequirement already satisfied: numpy>=1.14.0 in /usr/local/lib/python3.7/dist-packages (from seqeval) (1.21.6)\n",
            "Requirement already satisfied: scikit-learn>=0.21.3 in /usr/local/lib/python3.7/dist-packages (from seqeval) (1.0.2)\n",
            "Requirement already satisfied: threadpoolctl>=2.0.0 in /usr/local/lib/python3.7/dist-packages (from scikit-learn>=0.21.3->seqeval) (3.1.0)\n",
            "Requirement already satisfied: scipy>=1.1.0 in /usr/local/lib/python3.7/dist-packages (from scikit-learn>=0.21.3->seqeval) (1.7.3)\n",
            "Requirement already satisfied: joblib>=0.11 in /usr/local/lib/python3.7/dist-packages (from scikit-learn>=0.21.3->seqeval) (1.1.0)\n",
            "Building wheels for collected packages: seqeval\n",
            "  Building wheel for seqeval (setup.py) ... \u001b[?25l\u001b[?25hdone\n",
            "  Created wheel for seqeval: filename=seqeval-1.2.2-py3-none-any.whl size=16180 sha256=5ebf2182b34caea855ba4d2868cbae7d7845cb551dadf16c598b7bc8940845e3\n",
            "  Stored in directory: /root/.cache/pip/wheels/05/96/ee/7cac4e74f3b19e3158dce26a20a1c86b3533c43ec72a549fd7\n",
            "Successfully built seqeval\n",
            "Installing collected packages: seqeval\n",
            "Successfully installed seqeval-1.2.2\n"
          ]
        }
      ]
    },
    {
      "cell_type": "code",
      "source": [
        "from sklearn.metrics import classification_report\n",
        "from seqeval.metrics import precision_score, recall_score, f1_score, classification_report"
      ],
      "metadata": {
        "id": "iJ8wj-HAjTfh"
      },
      "execution_count": null,
      "outputs": []
    },
    {
      "cell_type": "markdown",
      "source": [
        "#Convert the index number again to tag"
      ],
      "metadata": {
        "id": "eK8oLHDirji1"
      }
    },
    {
      "cell_type": "code",
      "source": [
        "#token_index -> Value:word\n",
        "idx2word = {i: w for w, i in word_to_index.items()}\n",
        "#tag_index -> Value:Label/Tag\n",
        "idx2tag = {i: w for w, i in tag_to_index.items()}"
      ],
      "metadata": {
        "id": "kF3wlx5kr5E1"
      },
      "execution_count": null,
      "outputs": []
    },
    {
      "cell_type": "markdown",
      "source": [],
      "metadata": {
        "id": "Ilhjnb6PcQDH"
      }
    },
    {
      "cell_type": "code",
      "source": [
        "pred_tag = [[idx2tag[i] for i in row] for row in pred]\n",
        "y_test_true_tag = [[idx2tag[i] for i in row] for row in y_test_true] "
      ],
      "metadata": {
        "id": "4aV0TRMDmmfu"
      },
      "execution_count": null,
      "outputs": []
    },
    {
      "cell_type": "code",
      "source": [
        "report =classification_report(pred_tag,y_test_true_tag) #for new data\n",
        "print(report)"
      ],
      "metadata": {
        "colab": {
          "base_uri": "https://localhost:8080/"
        },
        "id": "MQ78A2e1hxBD",
        "outputId": "0091eef7-2962-4b3a-b228-06a8a73fd466"
      },
      "execution_count": null,
      "outputs": [
        {
          "output_type": "stream",
          "name": "stdout",
          "text": [
            "              precision    recall  f1-score   support\n",
            "\n",
            "        comp       0.65      0.63      0.64        51\n",
            "        func       0.35      0.38      0.36        98\n",
            "         hwc       0.66      0.59      0.62       193\n",
            "         hwp       0.65      0.64      0.64       307\n",
            "        hwsp       0.56      0.52      0.54        77\n",
            "         mea       0.68      0.88      0.77        72\n",
            "          qt       0.73      0.67      0.70       402\n",
            "          sw       0.51      0.58      0.54        57\n",
            "         sys       0.46      0.53      0.49        86\n",
            "        unit       0.75      0.81      0.78       116\n",
            "\n",
            "   micro avg       0.64      0.64      0.64      1459\n",
            "   macro avg       0.60      0.62      0.61      1459\n",
            "weighted avg       0.64      0.64      0.64      1459\n",
            "\n"
          ]
        }
      ]
    },
    {
      "cell_type": "code",
      "source": [
        "print(\"F1-score: {:.1%}\".format(f1_score(pred_tag,y_test_true_tag)))"
      ],
      "metadata": {
        "colab": {
          "base_uri": "https://localhost:8080/"
        },
        "id": "OEVGy3wAh1k7",
        "outputId": "308728b9-2a7f-4e68-c7ce-c62b8c03c33a"
      },
      "execution_count": null,
      "outputs": [
        {
          "output_type": "stream",
          "name": "stdout",
          "text": [
            "F1-score: 63.6%\n"
          ]
        }
      ]
    },
    {
      "cell_type": "markdown",
      "source": [
        "#saving the model"
      ],
      "metadata": {
        "id": "f7LW7j_xRF0S"
      }
    },
    {
      "cell_type": "code",
      "source": [
        "KB_LSTM_model.save('/content/drive/My Drive/Thesis/model save/KB_LSTM_model_C8_50.h5')"
      ],
      "metadata": {
        "id": "WFSV7gyZnuJR"
      },
      "execution_count": null,
      "outputs": []
    },
    {
      "cell_type": "code",
      "source": [
        "from google.colab import drive\n",
        "drive.mount('drive')\n",
        "list_words = []\n",
        "list_tags_true =[]\n",
        "list_tags_pred =[]\n",
        "\n",
        "# loop -----------------------------\n",
        "for i in range(x_test.shape[0]):\n",
        "  # i = np.random.randint(0, x_test.shape[0])#choose a random number between 0 and len(X_te)\n",
        "  preds = model.predict(np.array([x_test[i]]))\n",
        "  pred = np.argmax(preds, axis=-1)\n",
        "\n",
        "  y_true = np.argmax(np.array(y_test), axis=-1)[i]\n",
        "\n",
        "  #for Visualization\n",
        "  # print(\"{:15}{:5}\\t {}\\n\".format(\"Word\", \"True\", \"Pred\"))\n",
        "  # print(\"-\"*50)\n",
        "\n",
        "  for w, true, p in zip(x_test[i], y_true, pred[0]):\n",
        "    if w != \"ENDPAD\":\n",
        "      # print(\"{:15}{}\\t{}\".format(words[w-1], tags[true], tags[p]))\n",
        "      list_words.append(words[w-1])\n",
        "      list_tags_true.append(tags[true])\n",
        "      list_tags_pred.append(tags[p])\n",
        "# /loop -----------------------------\n",
        "\n",
        "table = pd.DataFrame({'Word':list_words,'True':list_tags_true,'Pred':list_tags_pred})\n",
        "#print(table.to_string())\n",
        "table.to_csv('/content/drive/My Drive/Thesis/Training_result/final_prediction.csv')"
      ],
      "metadata": {
        "id": "4I5rLXWKfa46"
      },
      "execution_count": null,
      "outputs": []
    }
  ]
}